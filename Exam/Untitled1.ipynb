{
 "cells": [
  {
   "cell_type": "markdown",
   "id": "1d5637d3",
   "metadata": {},
   "source": [
    "Now that the cards and the basic game logic is set\n",
    "\n",
    "We can start working on the final PsychoPy version. "
   ]
  }
 ],
 "metadata": {
  "kernelspec": {
   "display_name": "Python 3 (ipykernel)",
   "language": "python",
   "name": "python3"
  },
  "language_info": {
   "codemirror_mode": {
    "name": "ipython",
    "version": 3
   },
   "file_extension": ".py",
   "mimetype": "text/x-python",
   "name": "python",
   "nbconvert_exporter": "python",
   "pygments_lexer": "ipython3",
   "version": "3.11.4"
  }
 },
 "nbformat": 4,
 "nbformat_minor": 5
}
