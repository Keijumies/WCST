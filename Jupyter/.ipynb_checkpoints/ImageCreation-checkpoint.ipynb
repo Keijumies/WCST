{
 "cells": [
  {
   "cell_type": "markdown",
   "id": "208d90b2",
   "metadata": {},
   "source": [
    "In here I will create images with the PIL library. With the aim of creating 64 cards, with 4 different shapes,color,number*shape.\n",
    "\n",
    "Lets start with importing the libary and reading in some shapes.\n",
    "We also import Ipython.display to render the images in Jupyter."
   ]
  },
  {
   "cell_type": "code",
   "execution_count": 17,
   "id": "2647f2fe",
   "metadata": {},
   "outputs": [
    {
     "data": {
      "image/png": "[encoded data removed]",
      "text/plain": [
       "<PIL.PngImagePlugin.PngImageFile image mode=LA size=36x36>"
      ]
     },
     "metadata": {},
     "output_type": "display_data"
    },
    {
     "data": {
      "image/png": "[encoded data removed]",
      "text/plain": [
       "<PIL.PngImagePlugin.PngImageFile image mode=LA size=36x36>"
      ]
     },
     "metadata": {},
     "output_type": "display_data"
    },
    {
     "data": {
      "image/png": "[encoded data removed]",
      "text/plain": [
       "<PIL.PngImagePlugin.PngImageFile image mode=LA size=36x36>"
      ]
     },
     "metadata": {},
     "output_type": "display_data"
    },
    {
     "data": {
      "image/png": "[encoded data removed]",
      "text/plain": [
       "<PIL.PngImagePlugin.PngImageFile image mode=LA size=36x36>"
      ]
     },
     "metadata": {},
     "output_type": "display_data"
    }
   ],
   "source": [
    "from PIL import Image, ImageOps\n",
    "from IPython.display import display\n",
    "\n",
    "star = 'shapes/star.png'\n",
    "circle = 'shapes/circle.png'\n",
    "square = 'shapes/square.png'\n",
    "triangle = 'shapes/triangle.png'\n",
    "\n",
    "star = Image.open(star)\n",
    "circle = Image.open(circle)\n",
    "square = Image.open(square)\n",
    "triangle = Image.open(triangle)\n",
    "\n",
    "display(circle)\n",
    "display(square)\n",
    "display(triangle)\n",
    "display(star)\n",
    "\n"
   ]
  },
  {
   "cell_type": "markdown",
   "id": "a291a5d4",
   "metadata": {},
   "source": [
    "Now i want to see how to change colors."
   ]
  },
  {
   "cell_type": "code",
   "execution_count": 18,
   "id": "ecd38104",
   "metadata": {},
   "outputs": [
    {
     "ename": "SyntaxError",
     "evalue": "invalid syntax (1790088151.py, line 5)",
     "output_type": "error",
     "traceback": [
      "\u001b[1;36m  Cell \u001b[1;32mIn[18], line 5\u001b[1;36m\u001b[0m\n\u001b[1;33m    display(dimg)\u001b[0m\n\u001b[1;37m    ^\u001b[0m\n\u001b[1;31mSyntaxError\u001b[0m\u001b[1;31m:\u001b[0m invalid syntax\n"
     ]
    }
   ],
   "source": [
    "dimg = ImageOps.colorize(\n",
    "    circle,\n",
    "    black=\"midnightblue\")\n",
    "    \n",
    "display(dimg)"
   ]
  },
  {
   "cell_type": "code",
   "execution_count": null,
   "id": "681bd036",
   "metadata": {},
   "outputs": [],
   "source": []
  }
 ],
 "metadata": {
  "kernelspec": {
   "display_name": "Python 3 (ipykernel)",
   "language": "python",
   "name": "python3"
  },
  "language_info": {
   "codemirror_mode": {
    "name": "ipython",
    "version": 3
   },
   "file_extension": ".py",
   "mimetype": "text/x-python",
   "name": "python",
   "nbconvert_exporter": "python",
   "pygments_lexer": "ipython3",
   "version": "3.9.17"
  }
 },
 "nbformat": 4,
 "nbformat_minor": 5
}
