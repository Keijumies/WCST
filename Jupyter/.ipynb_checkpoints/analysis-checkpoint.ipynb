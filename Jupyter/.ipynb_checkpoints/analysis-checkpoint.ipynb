{
 "cells": [
  {
   "cell_type": "markdown",
   "id": "ea32eb17",
   "metadata": {},
   "source": [
    "::AIM::\n",
    "In here we will take in and work out how to make sense of the data that is stored from the GameLogic script.\n",
    "The aim of this is to see if the data file contains all we need.\n",
    "::::::::::::::::::::::::::::::::::::::::::::::::::::::::::::::::::::::::::::::::::::::::::::::::::::::::::::\n",
    "\n",
    "1# We import csv\n",
    "\n",
    "2# We specify the filepath\n",
    "\n",
    "3# We open the file and print out the data of each row."
   ]
  },
  {
   "cell_type": "code",
   "execution_count": 1,
   "id": "5d95f3b1",
   "metadata": {
    "scrolled": true
   },
   "outputs": [
    {
     "name": "stdout",
     "output_type": "stream",
     "text": [
      "['0', 'number', 'color', '0']\n",
      "['1', 'color', 'color', '1']\n",
      "['1', 'color', 'color', '2']\n",
      "['1', 'color', 'color', '3']\n",
      "['1', 'color', 'color', '4']\n",
      "['1', 'colorshape', 'color', '5']\n",
      "['0', 'color', 'number', '0']\n",
      "['1', 'colornumber', 'number', '1']\n",
      "['0', 'color', 'number', '0']\n",
      "['1', 'colornumber', 'number', '1']\n",
      "['1', 'number', 'number', '2']\n",
      "['1', 'number', 'number', '3']\n",
      "['1', 'colornumber', 'number', '4']\n",
      "['1', 'number', 'number', '5']\n",
      "['0', 'number', 'shape', '0']\n",
      "['0', 'number', 'shape', '0']\n",
      "['0', 'colornumber', 'shape', '0']\n",
      "['1', 'shape', 'shape', '1']\n",
      "['1', 'shape', 'shape', '2']\n",
      "['1', 'colorshape', 'shape', '3']\n",
      "['1', 'shapenumber', 'shape', '4']\n",
      "['1', 'shape', 'shape', '5']\n",
      "['1', 'shapenumber', 'number', '1']\n",
      "['1', 'shapenumber', 'number', '2']\n",
      "['1', 'number', 'number', '3']\n",
      "['1', 'number', 'number', '4']\n",
      "['1', 'shapenumber', 'number', '5']\n",
      "['0', 'number', 'shape', '0']\n",
      "['1', 'colorshape', 'shape', '1']\n",
      "['0', 'color', 'shape', '0']\n",
      "['0', '', 'shape', '0']\n",
      "['1', 'shapenumber', 'shape', '1']\n",
      "['1', 'shapenumber', 'shape', '2']\n",
      "['1', 'colorshapenumber', 'shape', '3']\n",
      "['1', 'shapenumber', 'shape', '4']\n",
      "['1', 'shape', 'shape', '5']\n",
      "['0', 'shape', 'number', '0']\n",
      "['1', 'colorshapenumber', 'number', '1']\n",
      "['0', 'color', 'number', '0']\n",
      "['1', 'colornumber', 'number', '1']\n",
      "['1', 'colornumber', 'number', '2']\n",
      "['0', 'colorshape', 'number', '0']\n",
      "['1', 'colorshapenumber', 'number', '1']\n",
      "['1', 'shapenumber', 'number', '2']\n",
      "['1', 'number', 'number', '3']\n",
      "['1', 'colorshapenumber', 'number', '4']\n",
      "['1', 'colornumber', 'number', '5']\n",
      "['1', 'shape', 'shape', '1']\n",
      "['1', 'shape', 'shape', '2']\n",
      "['1', 'shape', 'shape', '3']\n",
      "['1', 'shapenumber', 'shape', '4']\n",
      "['1', 'shape', 'shape', '5']\n",
      "['1', 'color', 'color', '1']\n",
      "['1', 'colorshape', 'color', '2']\n",
      "['0', 'shape', 'color', '0']\n",
      "['1', 'colorshape', 'color', '1']\n",
      "['0', 'shape', 'color', '0']\n",
      "['1', 'color', 'color', '1']\n",
      "['1', 'color', 'color', '2']\n",
      "['1', 'color', 'color', '3']\n",
      "['1', 'colorshape', 'color', '4']\n",
      "['1', 'color', 'color', '5']\n",
      "['1', 'shapenumber', 'shape', '1']\n",
      "['1', 'shape', 'shape', '2']\n"
     ]
    }
   ],
   "source": [
    "import csv\n",
    "file = \"../results/data.csv\"\n",
    "\n",
    "with open(file,\"r\") as data:\n",
    "    reader = csv.reader(data)\n",
    "    for row in reader:\n",
    "        print(row)"
   ]
  },
  {
   "cell_type": "markdown",
   "id": "ae644359",
   "metadata": {},
   "source": [
    "Now instead of printing it we unpack the values into tuples and save them to a list."
   ]
  },
  {
   "cell_type": "code",
   "execution_count": 2,
   "id": "3019cd47",
   "metadata": {},
   "outputs": [
    {
     "name": "stdout",
     "output_type": "stream",
     "text": [
      "('0', 'number', 'color', '0')\n"
     ]
    }
   ],
   "source": [
    "results = []\n",
    "with open(file,\"r\") as data:\n",
    "    reader = csv.reader(data)\n",
    "    for row in reader:\n",
    "        results.append(tuple(row))\n",
    "\n",
    "print(results[0])\n",
    "            "
   ]
  },
  {
   "cell_type": "markdown",
   "id": "8a89024f",
   "metadata": {},
   "source": [
    "Then lets start simple analysis.\n",
    "\n",
    "We have to keep in mind the that the tuple indexing carries with it information about the values:\n",
    "index: 0 : correct = 1, wrong = 0\n",
    "index: 1 : the category on which the chosen stimulus card and hand card were matched on\n",
    "index: 2 : the active rule\n",
    "index: 3 : winning streak"
   ]
  },
  {
   "cell_type": "code",
   "execution_count": 3,
   "id": "5c6749d1",
   "metadata": {},
   "outputs": [
    {
     "name": "stdout",
     "output_type": "stream",
     "text": [
      "0.78125\n"
     ]
    }
   ],
   "source": [
    "def correct_procent(results):\n",
    "    cumulative = 0\n",
    "    for n, data_point in enumerate(results):\n",
    "        cumulative += int(data_point[0])\n",
    "    correct_procent = cumulative / (n + 1)\n",
    "    print(correct_procent)\n",
    "    \n",
    "correct_procent(results)"
   ]
  },
  {
   "cell_type": "code",
   "execution_count": 5,
   "id": "abb55c9d",
   "metadata": {},
   "outputs": [
    {
     "name": "stdout",
     "output_type": "stream",
     "text": [
      "8\n"
     ]
    }
   ],
   "source": [
    "def completed_categories(results):\n",
    "    completed = 0\n",
    "    for data_point in results:\n",
    "        if data_point[3] == \"5\":\n",
    "            completed += 1\n",
    "    return completed\n",
    "\n",
    "print(completed_categories(results))\n",
    "        "
   ]
  },
  {
   "cell_type": "code",
   "execution_count": 19,
   "id": "82d5f505",
   "metadata": {},
   "outputs": [
    {
     "name": "stdout",
     "output_type": "stream",
     "text": [
      "number\n",
      "error resetted\n",
      "error resetted\n",
      "error resetted\n",
      "error resetted\n",
      "error resetted\n",
      "color\n",
      "error resetted\n",
      "color\n",
      "error resetted\n",
      "error resetted\n",
      "error resetted\n",
      "error resetted\n",
      "error resetted\n",
      "number\n",
      "STRRRRRRR\n",
      "colornumber\n",
      "error resetted\n",
      "error resetted\n",
      "error resetted\n",
      "error resetted\n",
      "error resetted\n",
      "error resetted\n",
      "error resetted\n",
      "error resetted\n",
      "error resetted\n",
      "error resetted\n",
      "number\n",
      "error resetted\n",
      "color\n",
      "STRRRRRRR\n",
      "error resetted\n",
      "error resetted\n",
      "error resetted\n",
      "error resetted\n",
      "error resetted\n",
      "shape\n",
      "error resetted\n",
      "color\n",
      "error resetted\n",
      "error resetted\n",
      "colorshape\n",
      "error resetted\n",
      "error resetted\n",
      "error resetted\n",
      "error resetted\n",
      "error resetted\n",
      "error resetted\n",
      "error resetted\n",
      "error resetted\n",
      "error resetted\n",
      "error resetted\n",
      "error resetted\n",
      "error resetted\n",
      "shape\n",
      "error resetted\n",
      "shape\n",
      "error resetted\n",
      "error resetted\n",
      "error resetted\n",
      "error resetted\n",
      "error resetted\n",
      "error resetted\n",
      "error resetted\n",
      "2\n"
     ]
    }
   ],
   "source": [
    "def preservative_errors(results):\n",
    "    preservative_error = 0\n",
    "    error_streak = 0\n",
    "    wrong_rule = \"\"\n",
    "    for data_point in results:\n",
    "        if error_streak == 1 and data_point[1] in wrong_rule:\n",
    "            preservative_error += 1\n",
    "            error_streak += 1\n",
    "            print(\"STRRRRRRR\")\n",
    "            \n",
    "        elif int(data_point[3]) == 0:\n",
    "            error_streak += 1\n",
    "            wrong_rule = data_point[1]\n",
    "            print(wrong_rule)\n",
    "        else:\n",
    "            error_streak = 0\n",
    "            wrong_rule = \"\"\n",
    "            print(\"error resetted\")\n",
    "            \n",
    "    return preservative_error\n",
    "\n",
    "print(preservative_errors(results))"
   ]
  },
  {
   "cell_type": "code",
   "execution_count": 20,
   "id": "68f16e55",
   "metadata": {},
   "outputs": [
    {
     "name": "stdout",
     "output_type": "stream",
     "text": [
      "True\n"
     ]
    }
   ],
   "source": [
    "print(\"shape\" in \"shapecolor\")"
   ]
  },
  {
   "cell_type": "code",
   "execution_count": null,
   "id": "0171414d",
   "metadata": {},
   "outputs": [],
   "source": []
  }
 ],
 "metadata": {
  "kernelspec": {
   "display_name": "Python 3 (ipykernel)",
   "language": "python",
   "name": "python3"
  },
  "language_info": {
   "codemirror_mode": {
    "name": "ipython",
    "version": 3
   },
   "file_extension": ".py",
   "mimetype": "text/x-python",
   "name": "python",
   "nbconvert_exporter": "python",
   "pygments_lexer": "ipython3",
   "version": "3.11.4"
  }
 },
 "nbformat": 4,
 "nbformat_minor": 5
}
