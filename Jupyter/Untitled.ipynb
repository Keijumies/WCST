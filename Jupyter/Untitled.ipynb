{
 "cells": [
  {
   "cell_type": "markdown",
   "id": "1ffdfb62",
   "metadata": {},
   "source": [
    "Here I will start by creating the variables that will make up the cards"
   ]
  },
  {
   "cell_type": "code",
   "execution_count": 2,
   "id": "f2332c4b",
   "metadata": {},
   "outputs": [],
   "source": [
    "number = [1,2,3,4]\n",
    "shape = [\"circle\",\"square\",\"triange\",\"star\"]\n",
    "color = [\"blue\",\"green\",\"red\",\"yellow\"]"
   ]
  },
  {
   "cell_type": "markdown",
   "id": "4e222cb0",
   "metadata": {},
   "source": [
    "Now theese lists are created and they exist"
   ]
  },
  {
   "cell_type": "code",
   "execution_count": 3,
   "id": "05d6e439",
   "metadata": {},
   "outputs": [
    {
     "name": "stdout",
     "output_type": "stream",
     "text": [
      "['circle', 'square', 'triange', 'star']\n",
      "['blue', 'green', 'red', 'yellow']\n",
      "[1, 2, 3, 4]\n"
     ]
    }
   ],
   "source": [
    "print(shape)\n",
    "print(color)\n",
    "print(number)"
   ]
  },
  {
   "cell_type": "markdown",
   "id": "da48c5b1",
   "metadata": {},
   "source": [
    "Next I will create an class to construct our deck of cards."
   ]
  },
  {
   "cell_type": "code",
   "execution_count": 9,
   "id": "8852c41e",
   "metadata": {},
   "outputs": [],
   "source": [
    "class Card:\n",
    "    def __init__(self,number,shape,color):\n",
    "        self.number = number\n",
    "        self.shape = shape\n",
    "        self.color = color"
   ]
  },
  {
   "cell_type": "markdown",
   "id": "18c1402d",
   "metadata": {},
   "source": [
    "Here I will make a function that will construct the 64 cards using the card class"
   ]
  },
  {
   "cell_type": "code",
   "execution_count": 10,
   "id": "1c82b673",
   "metadata": {
    "scrolled": true
   },
   "outputs": [],
   "source": [
    "def construct_deck(number,shape,color):\n",
    "    deck = []\n",
    "    for i in number:\n",
    "        for y in shape:\n",
    "            for x in color:\n",
    "                card = Card(i,y,x)\n",
    "                deck.append(card)\n",
    "    return deck\n",
    "                \n",
    "                "
   ]
  },
  {
   "cell_type": "code",
   "execution_count": 11,
   "id": "55850481",
   "metadata": {},
   "outputs": [],
   "source": [
    "deck = construct_deck(number,shape,color)"
   ]
  },
  {
   "cell_type": "markdown",
   "id": "8b3f68aa",
   "metadata": {},
   "source": [
    "Now the a deck of 64 cards exist"
   ]
  },
  {
   "cell_type": "code",
   "execution_count": 13,
   "id": "040791c7",
   "metadata": {
    "scrolled": false
   },
   "outputs": [
    {
     "name": "stdout",
     "output_type": "stream",
     "text": [
      "1 circle blue\n",
      "1 circle green\n",
      "1 circle red\n",
      "1 circle yellow\n",
      "1 square blue\n",
      "1 square green\n",
      "1 square red\n",
      "1 square yellow\n",
      "1 triange blue\n",
      "1 triange green\n",
      "1 triange red\n",
      "1 triange yellow\n",
      "1 star blue\n",
      "1 star green\n",
      "1 star red\n",
      "1 star yellow\n",
      "2 circle blue\n",
      "2 circle green\n",
      "2 circle red\n",
      "2 circle yellow\n",
      "2 square blue\n",
      "2 square green\n",
      "2 square red\n",
      "2 square yellow\n",
      "2 triange blue\n",
      "2 triange green\n",
      "2 triange red\n",
      "2 triange yellow\n",
      "2 star blue\n",
      "2 star green\n",
      "2 star red\n",
      "2 star yellow\n",
      "3 circle blue\n",
      "3 circle green\n",
      "3 circle red\n",
      "3 circle yellow\n",
      "3 square blue\n",
      "3 square green\n",
      "3 square red\n",
      "3 square yellow\n",
      "3 triange blue\n",
      "3 triange green\n",
      "3 triange red\n",
      "3 triange yellow\n",
      "3 star blue\n",
      "3 star green\n",
      "3 star red\n",
      "3 star yellow\n",
      "4 circle blue\n",
      "4 circle green\n",
      "4 circle red\n",
      "4 circle yellow\n",
      "4 square blue\n",
      "4 square green\n",
      "4 square red\n",
      "4 square yellow\n",
      "4 triange blue\n",
      "4 triange green\n",
      "4 triange red\n",
      "4 triange yellow\n",
      "4 star blue\n",
      "4 star green\n",
      "4 star red\n",
      "4 star yellow\n"
     ]
    }
   ],
   "source": [
    "for card in deck:\n",
    "    print(card.number,card.shape,card.color)"
   ]
  },
  {
   "cell_type": "code",
   "execution_count": 14,
   "id": "1030587f",
   "metadata": {},
   "outputs": [
    {
     "ename": "TypeError",
     "evalue": "'Card' object is not subscriptable",
     "output_type": "error",
     "traceback": [
      "\u001b[1;31m---------------------------------------------------------------------------\u001b[0m",
      "\u001b[1;31mTypeError\u001b[0m                                 Traceback (most recent call last)",
      "\u001b[1;32mC:\\Users\\Public\\Documents\\Wondershare\\CreatorTemp\\ipykernel_1688\\3163824152.py\u001b[0m in \u001b[0;36m<module>\u001b[1;34m\u001b[0m\n\u001b[1;32m----> 1\u001b[1;33m \u001b[0mprint\u001b[0m\u001b[1;33m(\u001b[0m\u001b[0mcard\u001b[0m\u001b[1;33m[\u001b[0m\u001b[1;36m1\u001b[0m\u001b[1;33m]\u001b[0m\u001b[1;33m)\u001b[0m\u001b[1;33m\u001b[0m\u001b[1;33m\u001b[0m\u001b[0m\n\u001b[0m",
      "\u001b[1;31mTypeError\u001b[0m: 'Card' object is not subscriptable"
     ]
    }
   ],
   "source": []
  },
  {
   "cell_type": "code",
   "execution_count": null,
   "id": "29e5ace5",
   "metadata": {},
   "outputs": [],
   "source": []
  }
 ],
 "metadata": {
  "kernelspec": {
   "display_name": "Python 3 (ipykernel)",
   "language": "python",
   "name": "python3"
  },
  "language_info": {
   "codemirror_mode": {
    "name": "ipython",
    "version": 3
   },
   "file_extension": ".py",
   "mimetype": "text/x-python",
   "name": "python",
   "nbconvert_exporter": "python",
   "pygments_lexer": "ipython3",
   "version": "3.9.13"
  }
 },
 "nbformat": 4,
 "nbformat_minor": 5
}
