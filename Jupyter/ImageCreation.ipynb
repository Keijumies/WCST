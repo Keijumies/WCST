{
 "cells": [
  {
   "cell_type": "markdown",
   "id": "906ff6c9",
   "metadata": {},
   "source": [
    "# title'\n",
    "\n",
    "## subtitle\n",
    "\n",
    "```\n",
    "hi yhis is code\n",
    "```\n",
    "\n",
    "\n",
    "$$f(x)=\\frac{1}{x}$$\n",
    "\n"
   ]
  },
  {
   "cell_type": "code",
   "execution_count": null,
   "id": "7545c927",
   "metadata": {},
   "outputs": [],
   "source": []
  },
  {
   "cell_type": "code",
   "execution_count": null,
   "id": "1d25b071",
   "metadata": {},
   "outputs": [],
   "source": []
  },
  {
   "cell_type": "code",
   "execution_count": null,
   "id": "60545a0b",
   "metadata": {},
   "outputs": [],
   "source": []
  },
  {
   "cell_type": "code",
   "execution_count": null,
   "id": "d7fe9142",
   "metadata": {},
   "outputs": [],
   "source": []
  },
  {
   "cell_type": "markdown",
   "id": "0c53c888",
   "metadata": {},
   "source": [
    "In here I will create images with the PIL library. With the aim of creating 64 cards, with 4 different shapes,color,number*shape.\n",
    "\n",
    "Lets start with importing the libary and reading in some shapes.\n",
    "We also import Ipython.display to render the images in Jupyter."
   ]
  },
  {
   "cell_type": "code",
   "execution_count": 1,
   "id": "978bee0e",
   "metadata": {},
   "outputs": [
    {
     "data": {
      "image/png": "[encoded data removed]",
      "text/plain": [
       "<PIL.PngImagePlugin.PngImageFile image mode=LA size=128x176>"
      ]
     },
     "metadata": {},
     "output_type": "display_data"
    },
    {
     "data": {
      "image/png": "[encoded data removed]",
      "text/plain": [
       "<PIL.PngImagePlugin.PngImageFile image mode=LA size=36x36>"
      ]
     },
     "metadata": {},
     "output_type": "display_data"
    },
    {
     "data": {
      "image/png": "[encoded data removed]",
      "text/plain": [
       "<PIL.PngImagePlugin.PngImageFile image mode=LA size=36x36>"
      ]
     },
     "metadata": {},
     "output_type": "display_data"
    },
    {
     "data": {
      "image/png": "[encoded data removed]",
      "text/plain": [
       "<PIL.PngImagePlugin.PngImageFile image mode=LA size=36x36>"
      ]
     },
     "metadata": {},
     "output_type": "display_data"
    },
    {
     "data": {
      "image/png": "[encoded data removed]",
      "text/plain": [
       "<PIL.PngImagePlugin.PngImageFile image mode=LA size=36x36>"
      ]
     },
     "metadata": {},
     "output_type": "display_data"
    }
   ],
   "source": [
    "from PIL import Image, ImageOps\n",
    "from IPython.display import display\n",
    "\n",
    "star = 'shapes/star.png'\n",
    "circle = 'shapes/circle.png'\n",
    "square = 'shapes/square.png'\n",
    "triangle = 'shapes/triangle.png'\n",
    "frame ='shapes/frame.png'\n",
    "\n",
    "\n",
    "star = Image.open(star)\n",
    "circle = Image.open(circle)\n",
    "square = Image.open(square)\n",
    "triangle = Image.open(triangle)\n",
    "frame = Image.open(frame)\n",
    "\n",
    "display(frame)\n",
    "display(circle)\n",
    "display(square)\n",
    "display(triangle)\n",
    "display(star)\n",
    "\n"
   ]
  },
  {
   "cell_type": "markdown",
   "id": "d68326c5",
   "metadata": {},
   "source": [
    "Now we need to change colors of the images."
   ]
  },
  {
   "cell_type": "markdown",
   "id": "6c26bb81",
   "metadata": {},
   "source": [
    "First lets get the RGB color codes for the colors we want to use.\n",
    "https://html-color.codes/"
   ]
  },
  {
   "cell_type": "code",
   "execution_count": 2,
   "id": "e4420631",
   "metadata": {},
   "outputs": [],
   "source": [
    "red = (255,36,0)\n",
    "green = (11,218,81)\n",
    "blue = (25,25,112)\n",
    "yellow = (254,219,0)"
   ]
  },
  {
   "cell_type": "markdown",
   "id": "f1059ab4",
   "metadata": {},
   "source": [
    "1# First we split the image into parts. The black pixels and transparent pixels with split(), a method available for the image class from the PIL library.\n",
    "\n",
    "2# Then we change the color with ImageOps.colorize. Here we change the black pixels to blue and white pixels to blue. (We dont have any white pixels in our images but the method requires that we set a color)\n",
    "\n",
    "3# Lastly we add the transparent layer back in place.\n",
    "\n"
   ]
  },
  {
   "cell_type": "code",
   "execution_count": 3,
   "id": "1bb62c10",
   "metadata": {},
   "outputs": [
    {
     "data": {
      "image/png": "[encoded data removed]",
      "text/plain": [
       "<PIL.Image.Image image mode=RGBA size=36x36>"
      ]
     },
     "metadata": {},
     "output_type": "display_data"
    }
   ],
   "source": [
    "black, transparent = circle.split()\n",
    "\n",
    "circle_blue = ImageOps.colorize(black, blue, blue)\n",
    "circle_blue.putalpha(transparent)\n",
    "\n",
    "\n",
    "display(circle_blue)"
   ]
  },
  {
   "cell_type": "markdown",
   "id": "68b35506",
   "metadata": {},
   "source": [
    "Next i will create a function that colors shapes. For the function i will put the shapes and colors into a list."
   ]
  },
  {
   "cell_type": "code",
   "execution_count": 4,
   "id": "c7ee92b3",
   "metadata": {},
   "outputs": [],
   "source": [
    "shapes = [circle,square,triangle,star]\n",
    "colors = [blue,yellow,red,green]\n",
    "numbers = [1,2,3,4]"
   ]
  },
  {
   "cell_type": "code",
   "execution_count": 5,
   "id": "d215d4ea",
   "metadata": {},
   "outputs": [],
   "source": [
    "def color(list_shapes,list_colors):\n",
    "    for shape in list_shapes:\n",
    "        for color in list_colors:\n",
    "            black,transparent = shape.split()\n",
    "            colored_shape = shape\n",
    "            colored_shape = ImageOps.colorize(black,color,color)\n",
    "            colored_shape.putalpha(transparent)\n",
    "            display(colored_shape)\n",
    "    \n",
    "    "
   ]
  },
  {
   "cell_type": "code",
   "execution_count": 6,
   "id": "d3861179",
   "metadata": {},
   "outputs": [
    {
     "data": {
      "image/png": "[encoded data removed]",
      "text/plain": [
       "<PIL.Image.Image image mode=RGBA size=36x36>"
      ]
     },
     "metadata": {},
     "output_type": "display_data"
    },
    {
     "data": {
      "image/png": "[encoded data removed]",
      "text/plain": [
       "<PIL.Image.Image image mode=RGBA size=36x36>"
      ]
     },
     "metadata": {},
     "output_type": "display_data"
    },
    {
     "data": {
      "image/png": "[encoded data removed]",
      "text/plain": [
       "<PIL.Image.Image image mode=RGBA size=36x36>"
      ]
     },
     "metadata": {},
     "output_type": "display_data"
    },
    {
     "data": {
      "image/png": "[encoded data removed]",
      "text/plain": [
       "<PIL.Image.Image image mode=RGBA size=36x36>"
      ]
     },
     "metadata": {},
     "output_type": "display_data"
    },
    {
     "data": {
      "image/png": "[encoded data removed]",
      "text/plain": [
       "<PIL.Image.Image image mode=RGBA size=36x36>"
      ]
     },
     "metadata": {},
     "output_type": "display_data"
    },
    {
     "data": {
      "image/png": "[encoded data removed]",
      "text/plain": [
       "<PIL.Image.Image image mode=RGBA size=36x36>"
      ]
     },
     "metadata": {},
     "output_type": "display_data"
    },
    {
     "data": {
      "image/png": "[encoded data removed]",
      "text/plain": [
       "<PIL.Image.Image image mode=RGBA size=36x36>"
      ]
     },
     "metadata": {},
     "output_type": "display_data"
    },
    {
     "data": {
      "image/png": "[encoded data removed]",
      "text/plain": [
       "<PIL.Image.Image image mode=RGBA size=36x36>"
      ]
     },
     "metadata": {},
     "output_type": "display_data"
    },
    {
     "data": {
      "image/png": "[encoded data removed]",
      "text/plain": [
       "<PIL.Image.Image image mode=RGBA size=36x36>"
      ]
     },
     "metadata": {},
     "output_type": "display_data"
    },
    {
     "data": {
      "image/png": "[encoded data removed]",
      "text/plain": [
       "<PIL.Image.Image image mode=RGBA size=36x36>"
      ]
     },
     "metadata": {},
     "output_type": "display_data"
    },
    {
     "data": {
      "image/png": "[encoded data removed]",
      "text/plain": [
       "<PIL.Image.Image image mode=RGBA size=36x36>"
      ]
     },
     "metadata": {},
     "output_type": "display_data"
    },
    {
     "data": {
      "image/png": "[encoded data removed]",
      "text/plain": [
       "<PIL.Image.Image image mode=RGBA size=36x36>"
      ]
     },
     "metadata": {},
     "output_type": "display_data"
    },
    {
     "data": {
      "image/png": "[encoded data removed]",
      "text/plain": [
       "<PIL.Image.Image image mode=RGBA size=36x36>"
      ]
     },
     "metadata": {},
     "output_type": "display_data"
    },
    {
     "data": {
      "image/png": "[encoded data removed]",
      "text/plain": [
       "<PIL.Image.Image image mode=RGBA size=36x36>"
      ]
     },
     "metadata": {},
     "output_type": "display_data"
    },
    {
     "data": {
      "image/png": "[encoded data removed]",
      "text/plain": [
       "<PIL.Image.Image image mode=RGBA size=36x36>"
      ]
     },
     "metadata": {},
     "output_type": "display_data"
    },
    {
     "data": {
      "image/png": "[encoded data removed]",
      "text/plain": [
       "<PIL.Image.Image image mode=RGBA size=36x36>"
      ]
     },
     "metadata": {},
     "output_type": "display_data"
    }
   ],
   "source": [
    "color(shapes,colors)"
   ]
  },
  {
   "cell_type": "markdown",
   "id": "c587d173",
   "metadata": {},
   "source": [
    "Then we will try to paste an image into the frame.\n",
    "We will have to copy the frame, because paste will replace the picture but return NONE.\n",
    "        "
   ]
  },
  {
   "cell_type": "code",
   "execution_count": 7,
   "id": "0852cad3",
   "metadata": {
    "scrolled": true
   },
   "outputs": [
    {
     "data": {
      "image/png": "[encoded data removed]",
      "text/plain": [
       "<PIL.Image.Image image mode=LA size=128x176>"
      ]
     },
     "metadata": {},
     "output_type": "display_data"
    }
   ],
   "source": [
    "c_frame = frame.copy()\n",
    "c_frame.paste(circle_blue,(50,50))\n",
    "display(c_frame)"
   ]
  },
  {
   "cell_type": "markdown",
   "id": "6c25748e",
   "metadata": {},
   "source": [
    "The circle is now black. "
   ]
  },
  {
   "cell_type": "code",
   "execution_count": 8,
   "id": "b531e5cf",
   "metadata": {},
   "outputs": [
    {
     "name": "stdout",
     "output_type": "stream",
     "text": [
      "Frame mode: LA\n",
      "Circle before color transformation: LA\n",
      "Circle after color transformation: RGBA\n"
     ]
    }
   ],
   "source": [
    "print(\"Frame mode:\", frame.mode)\n",
    "print(\"Circle before color transformation:\", shapes[0].mode)\n",
    "print(\"Circle after color transformation:\", circle_blue.mode)\n",
    "\n"
   ]
  },
  {
   "cell_type": "markdown",
   "id": "1cb20d5e",
   "metadata": {},
   "source": [
    "The issue might be that the modes of the two images are different. We need to transform the frame into RGBA mode.\n",
    "Converting image modes is easy with the convert method."
   ]
  },
  {
   "cell_type": "code",
   "execution_count": 9,
   "id": "7f13e407",
   "metadata": {},
   "outputs": [
    {
     "name": "stdout",
     "output_type": "stream",
     "text": [
      "Frame mode: RGBA\n"
     ]
    }
   ],
   "source": [
    "frame = frame.convert('RGBA')\n",
    "print(\"Frame mode:\", frame.mode)"
   ]
  },
  {
   "cell_type": "markdown",
   "id": "fd2126c2",
   "metadata": {},
   "source": [
    "Lets try again."
   ]
  },
  {
   "cell_type": "code",
   "execution_count": 10,
   "id": "78994c27",
   "metadata": {},
   "outputs": [
    {
     "data": {
      "image/png": "[encoded data removed]",
      "text/plain": [
       "<PIL.Image.Image image mode=RGBA size=128x176>"
      ]
     },
     "metadata": {},
     "output_type": "display_data"
    }
   ],
   "source": [
    "c_frame = frame.copy()\n",
    "c_frame.paste(circle_blue,(0,0))\n",
    "display(c_frame)"
   ]
  },
  {
   "cell_type": "markdown",
   "id": "fe9b8363",
   "metadata": {},
   "source": [
    "As we can see the transparent background is gone. To get it back we can use the picture as a mask."
   ]
  },
  {
   "cell_type": "code",
   "execution_count": 11,
   "id": "15517824",
   "metadata": {},
   "outputs": [
    {
     "data": {
      "image/png": "[encoded data removed]",
      "text/plain": [
       "<PIL.Image.Image image mode=RGBA size=128x176>"
      ]
     },
     "metadata": {},
     "output_type": "display_data"
    }
   ],
   "source": [
    "c_frame = frame.copy()\n",
    "c_frame.paste(circle_blue,(0,0),mask = circle_blue)\n",
    "display(c_frame)"
   ]
  },
  {
   "cell_type": "markdown",
   "id": "aaf37984",
   "metadata": {},
   "source": [
    "Now i want to make sure that the image is in the middle of the frame. PS. all shapes should be 36x36 pixels.\n",
    "\n",
    "As we can see the image is pasted at the top left. The first cordinate is the horizontal axis, the second is the vertical. The scale is in pixels."
   ]
  },
  {
   "cell_type": "code",
   "execution_count": 12,
   "id": "7d90e8bd",
   "metadata": {},
   "outputs": [
    {
     "name": "stdout",
     "output_type": "stream",
     "text": [
      "Frame widht = 128\n",
      "Frame height = 176\n",
      "circle widht = 36\n",
      "circle widht = 36\n"
     ]
    }
   ],
   "source": [
    "f_width,f_height = frame.size\n",
    "c_width,c_height = circle_blue.size\n",
    "print(f\"Frame widht = {f_width}\")\n",
    "print(f\"Frame height = {f_height}\")\n",
    "print(f\"circle widht = {c_width}\")\n",
    "print(f\"circle widht = {c_height}\")"
   ]
  },
  {
   "cell_type": "markdown",
   "id": "a9f73f4e",
   "metadata": {},
   "source": [
    "If we divide the widht and height we get the position of the middle of the frame.\n"
   ]
  },
  {
   "cell_type": "code",
   "execution_count": 13,
   "id": "fe8de7d7",
   "metadata": {},
   "outputs": [
    {
     "name": "stdout",
     "output_type": "stream",
     "text": [
      "64.0\n",
      "88.0\n"
     ]
    }
   ],
   "source": [
    "p_w = 128 / 2\n",
    "p_h = 176 / 2\n",
    "print(p_w)\n",
    "print(p_h)"
   ]
  },
  {
   "cell_type": "code",
   "execution_count": 14,
   "id": "43cd1775",
   "metadata": {
    "scrolled": false
   },
   "outputs": [
    {
     "data": {
      "image/png": "[encoded data removed]",
      "text/plain": [
       "<PIL.Image.Image image mode=RGBA size=128x176>"
      ]
     },
     "metadata": {},
     "output_type": "display_data"
    }
   ],
   "source": [
    "c_frame = frame.copy()\n",
    "c_frame.paste(circle_blue,(64,88),mask = circle_blue)\n",
    "display(c_frame)"
   ]
  },
  {
   "cell_type": "markdown",
   "id": "ad1adbe1",
   "metadata": {},
   "source": [
    "This is still not in the middle even though in a sense the image is placed in the middle. \n",
    "The top right corner of the image is located in the middle of the frame.\n",
    "\n",
    "To correct for this, so that the middle of the picture will be in the center we need to subtract halv of the circle size. Thereby overshooting the right corner of the circle by 18 pixels from the center, both up and left."
   ]
  },
  {
   "cell_type": "code",
   "execution_count": 15,
   "id": "db37cb30",
   "metadata": {},
   "outputs": [
    {
     "name": "stdout",
     "output_type": "stream",
     "text": [
      "46.0\n",
      "70.0\n"
     ]
    }
   ],
   "source": [
    "p_w = 64 - 36 / 2\n",
    "p_h = 88 - 36 / 2\n",
    "print(p_w)\n",
    "print(p_h)"
   ]
  },
  {
   "cell_type": "code",
   "execution_count": 16,
   "id": "4db36a7d",
   "metadata": {},
   "outputs": [
    {
     "data": {
      "image/png": "[encoded data removed]",
      "text/plain": [
       "<PIL.Image.Image image mode=RGBA size=128x176>"
      ]
     },
     "metadata": {},
     "output_type": "display_data"
    }
   ],
   "source": [
    "c_frame = frame.copy()\n",
    "c_frame.paste(circle_blue,(46,70),mask = circle_blue)\n",
    "display(c_frame)"
   ]
  },
  {
   "cell_type": "markdown",
   "id": "8479526a",
   "metadata": {},
   "source": [
    "There we have it!. Now we need to determine the locations of for all 4 variations of the number * shape.\n",
    "\n",
    "For two circles. \n",
    "Left_circle: \n",
    "L_horizontal_c = how far away i want the circle to be from the frame = 25\n",
    "L_vertical_c = middle = 70 (for formula refer back to last calculation)\n",
    "\n",
    "right_circle:\n",
    "R_horizontal_c = width - circle_width - L_horizontal_c = 128 - 36 - 25 = 67\n",
    "R_horiontal_c = middle = 70"
   ]
  },
  {
   "cell_type": "code",
   "execution_count": 17,
   "id": "8e60f532",
   "metadata": {},
   "outputs": [
    {
     "data": {
      "image/png": "[encoded data removed]",
      "text/plain": [
       "<PIL.Image.Image image mode=RGBA size=128x176>"
      ]
     },
     "metadata": {},
     "output_type": "display_data"
    }
   ],
   "source": [
    "c_frame = frame.copy()\n",
    "c_frame.paste(circle_blue,(25,70),mask = circle_blue)\n",
    "c_frame.paste(circle_blue,(67,70),mask = circle_blue)\n",
    "display(c_frame)"
   ]
  },
  {
   "cell_type": "markdown",
   "id": "f17b473c",
   "metadata": {},
   "source": [
    "I wont document more math during the next steps. It will be easier to test out manually different positions and calculate the specifics if neccessery."
   ]
  },
  {
   "cell_type": "code",
   "execution_count": 18,
   "id": "85e32fd5",
   "metadata": {},
   "outputs": [
    {
     "data": {
      "image/png": "[encoded data removed]",
      "text/plain": [
       "<PIL.Image.Image image mode=RGBA size=128x176>"
      ]
     },
     "metadata": {},
     "output_type": "display_data"
    }
   ],
   "source": [
    "c_frame = frame.copy()\n",
    "c_frame.paste(circle_blue,(25,80),mask = circle_blue)\n",
    "c_frame.paste(circle_blue,(67,80),mask = circle_blue)\n",
    "c_frame.paste(circle_blue,(46,42),mask = circle_blue)\n",
    "\n",
    "display(c_frame)"
   ]
  },
  {
   "cell_type": "code",
   "execution_count": 19,
   "id": "5e23ced1",
   "metadata": {},
   "outputs": [
    {
     "data": {
      "image/png": "[encoded data removed]",
      "text/plain": [
       "<PIL.Image.Image image mode=RGBA size=128x176>"
      ]
     },
     "metadata": {},
     "output_type": "display_data"
    }
   ],
   "source": [
    "c_frame = frame.copy()\n",
    "c_frame.paste(circle_blue,(25,92),mask = circle_blue)\n",
    "c_frame.paste(circle_blue,(67,92),mask = circle_blue)\n",
    "c_frame.paste(circle_blue,(25,48),mask = circle_blue)\n",
    "c_frame.paste(circle_blue,(67,48),mask = circle_blue)\n",
    "\n",
    "display(c_frame)"
   ]
  },
  {
   "cell_type": "markdown",
   "id": "31ae8e10",
   "metadata": {},
   "source": [
    "I will now store the positions in a dictionary:"
   ]
  },
  {
   "cell_type": "code",
   "execution_count": 20,
   "id": "37d9deb6",
   "metadata": {},
   "outputs": [],
   "source": [
    "positions = {\n",
    "    \n",
    "    1:[(46,70)],\n",
    "    \n",
    "    2:[(25,70),(67,70)],\n",
    "    \n",
    "    3:[(25,80),(67,80),(46,42)],\n",
    "    \n",
    "    4:[(25,92),(67,92),(25,48),(67,48)]\n",
    "}"
   ]
  },
  {
   "cell_type": "markdown",
   "id": "2e3c4fca",
   "metadata": {},
   "source": [
    "Now i want to create a function that loops through all possible combination and displays them.\n",
    "I take the all the lists and the positions and loop through the creation process steps using the information from the lists with a tripple loop.\n"
   ]
  },
  {
   "cell_type": "code",
   "execution_count": 21,
   "id": "065667a6",
   "metadata": {},
   "outputs": [],
   "source": [
    "def create_cards(numbers,shapes,colors,positions):\n",
    "    for shape in shapes:\n",
    "        for color in colors:\n",
    "            for number in numbers:\n",
    "                black, transparent = shape.split()\n",
    "                changeling = ImageOps.colorize(black, color, color)\n",
    "                changeling.putalpha(transparent)\n",
    "                if number == 1:\n",
    "                    card = frame.copy()\n",
    "                    card.paste(changeling,positions[1][0],mask = changeling)\n",
    "                    display(card)\n",
    "                elif number == 2:\n",
    "                    card = frame.copy()\n",
    "                    card.paste(changeling,positions[2][0],mask = changeling)\n",
    "                    card.paste(changeling,positions[2][1],mask = changeling)\n",
    "                    display(card)\n",
    "                elif number == 3:\n",
    "                    card = frame.copy()\n",
    "                    card.paste(changeling,positions[3][0],mask = changeling)\n",
    "                    card.paste(changeling,positions[3][1],mask = changeling)\n",
    "                    card.paste(changeling,positions[3][2],mask = changeling)\n",
    "                    display(card)\n",
    "                elif number == 4:\n",
    "                    card = frame.copy()\n",
    "                    card.paste(changeling,positions[4][0],mask = changeling)\n",
    "                    card.paste(changeling,positions[4][1],mask = changeling)\n",
    "                    card.paste(changeling,positions[4][2],mask = changeling)\n",
    "                    card.paste(changeling,positions[4][3],mask = changeling)\n",
    "                    display(card)\n",
    "                "
   ]
  },
  {
   "cell_type": "code",
   "execution_count": 22,
   "id": "2d81ec93",
   "metadata": {},
   "outputs": [
    {
     "data": {
      "image/png": "[encoded data removed]",
      "text/plain": [
       "<PIL.Image.Image image mode=RGBA size=128x176>"
      ]
     },
     "metadata": {},
     "output_type": "display_data"
    },
    {
     "data": {
      "image/png": "[encoded data removed]",
      "text/plain": [
       "<PIL.Image.Image image mode=RGBA size=128x176>"
      ]
     },
     "metadata": {},
     "output_type": "display_data"
    },
    {
     "data": {
      "image/png": "[encoded data removed]",
      "text/plain": [
       "<PIL.Image.Image image mode=RGBA size=128x176>"
      ]
     },
     "metadata": {},
     "output_type": "display_data"
    },
    {
     "data": {
      "image/png": "[encoded data removed]",
      "text/plain": [
       "<PIL.Image.Image image mode=RGBA size=128x176>"
      ]
     },
     "metadata": {},
     "output_type": "display_data"
    },
    {
     "data": {
      "image/png": "[encoded data removed]",
      "text/plain": [
       "<PIL.Image.Image image mode=RGBA size=128x176>"
      ]
     },
     "metadata": {},
     "output_type": "display_data"
    },
    {
     "data": {
      "image/png": "[encoded data removed]",
      "text/plain": [
       "<PIL.Image.Image image mode=RGBA size=128x176>"
      ]
     },
     "metadata": {},
     "output_type": "display_data"
    },
    {
     "data": {
      "image/png": "[encoded data removed]",
      "text/plain": [
       "<PIL.Image.Image image mode=RGBA size=128x176>"
      ]
     },
     "metadata": {},
     "output_type": "display_data"
    },
    {
     "data": {
      "image/png": "[encoded data removed]",
      "text/plain": [
       "<PIL.Image.Image image mode=RGBA size=128x176>"
      ]
     },
     "metadata": {},
     "output_type": "display_data"
    },
    {
     "data": {
      "image/png": "[encoded data removed]",
      "text/plain": [
       "<PIL.Image.Image image mode=RGBA size=128x176>"
      ]
     },
     "metadata": {},
     "output_type": "display_data"
    },
    {
     "data": {
      "image/png": "[encoded data removed]",
      "text/plain": [
       "<PIL.Image.Image image mode=RGBA size=128x176>"
      ]
     },
     "metadata": {},
     "output_type": "display_data"
    },
    {
     "data": {
      "image/png": "[encoded data removed]",
      "text/plain": [
       "<PIL.Image.Image image mode=RGBA size=128x176>"
      ]
     },
     "metadata": {},
     "output_type": "display_data"
    },
    {
     "data": {
      "image/png": "[encoded data removed]",
      "text/plain": [
       "<PIL.Image.Image image mode=RGBA size=128x176>"
      ]
     },
     "metadata": {},
     "output_type": "display_data"
    },
    {
     "data": {
      "image/png": "[encoded data removed]",
      "text/plain": [
       "<PIL.Image.Image image mode=RGBA size=128x176>"
      ]
     },
     "metadata": {},
     "output_type": "display_data"
    },
    {
     "data": {
      "image/png": "[encoded data removed]",
      "text/plain": [
       "<PIL.Image.Image image mode=RGBA size=128x176>"
      ]
     },
     "metadata": {},
     "output_type": "display_data"
    },
    {
     "data": {
      "image/png": "[encoded data removed]",
      "text/plain": [
       "<PIL.Image.Image image mode=RGBA size=128x176>"
      ]
     },
     "metadata": {},
     "output_type": "display_data"
    },
    {
     "data": {
      "image/png": "[encoded data removed]",
      "text/plain": [
       "<PIL.Image.Image image mode=RGBA size=128x176>"
      ]
     },
     "metadata": {},
     "output_type": "display_data"
    },
    {
     "data": {
      "image/png": "[encoded data removed]",
      "text/plain": [
       "<PIL.Image.Image image mode=RGBA size=128x176>"
      ]
     },
     "metadata": {},
     "output_type": "display_data"
    },
    {
     "data": {
      "image/png": "[encoded data removed]",
      "text/plain": [
       "<PIL.Image.Image image mode=RGBA size=128x176>"
      ]
     },
     "metadata": {},
     "output_type": "display_data"
    },
    {
     "data": {
      "image/png": "[encoded data removed]",
      "text/plain": [
       "<PIL.Image.Image image mode=RGBA size=128x176>"
      ]
     },
     "metadata": {},
     "output_type": "display_data"
    },
    {
     "data": {
      "image/png": "[encoded data removed]",
      "text/plain": [
       "<PIL.Image.Image image mode=RGBA size=128x176>"
      ]
     },
     "metadata": {},
     "output_type": "display_data"
    },
    {
     "data": {
      "image/png": "[encoded data removed]",
      "text/plain": [
       "<PIL.Image.Image image mode=RGBA size=128x176>"
      ]
     },
     "metadata": {},
     "output_type": "display_data"
    },
    {
     "data": {
      "image/png": "[encoded data removed]",
      "text/plain": [
       "<PIL.Image.Image image mode=RGBA size=128x176>"
      ]
     },
     "metadata": {},
     "output_type": "display_data"
    },
    {
     "data": {
      "image/png": "[encoded data removed]",
      "text/plain": [
       "<PIL.Image.Image image mode=RGBA size=128x176>"
      ]
     },
     "metadata": {},
     "output_type": "display_data"
    },
    {
     "data": {
      "image/png": "[encoded data removed]",
      "text/plain": [
       "<PIL.Image.Image image mode=RGBA size=128x176>"
      ]
     },
     "metadata": {},
     "output_type": "display_data"
    },
    {
     "data": {
      "image/png": "[encoded data removed]",
      "text/plain": [
       "<PIL.Image.Image image mode=RGBA size=128x176>"
      ]
     },
     "metadata": {},
     "output_type": "display_data"
    },
    {
     "data": {
      "image/png": "[encoded data removed]",
      "text/plain": [
       "<PIL.Image.Image image mode=RGBA size=128x176>"
      ]
     },
     "metadata": {},
     "output_type": "display_data"
    },
    {
     "data": {
      "image/png": "[encoded data removed]",
      "text/plain": [
       "<PIL.Image.Image image mode=RGBA size=128x176>"
      ]
     },
     "metadata": {},
     "output_type": "display_data"
    },
    {
     "data": {
      "image/png": "[encoded data removed]",
      "text/plain": [
       "<PIL.Image.Image image mode=RGBA size=128x176>"
      ]
     },
     "metadata": {},
     "output_type": "display_data"
    },
    {
     "data": {
      "image/png": "[encoded data removed]",
      "text/plain": [
       "<PIL.Image.Image image mode=RGBA size=128x176>"
      ]
     },
     "metadata": {},
     "output_type": "display_data"
    },
    {
     "data": {
      "image/png": "[encoded data removed]",
      "text/plain": [
       "<PIL.Image.Image image mode=RGBA size=128x176>"
      ]
     },
     "metadata": {},
     "output_type": "display_data"
    },
    {
     "data": {
      "image/png": "[encoded data removed]",
      "text/plain": [
       "<PIL.Image.Image image mode=RGBA size=128x176>"
      ]
     },
     "metadata": {},
     "output_type": "display_data"
    },
    {
     "data": {
      "image/png": "[encoded data removed]",
      "text/plain": [
       "<PIL.Image.Image image mode=RGBA size=128x176>"
      ]
     },
     "metadata": {},
     "output_type": "display_data"
    },
    {
     "data": {
      "image/png": "[encoded data removed]",
      "text/plain": [
       "<PIL.Image.Image image mode=RGBA size=128x176>"
      ]
     },
     "metadata": {},
     "output_type": "display_data"
    },
    {
     "data": {
      "image/png": "[encoded data removed]",
      "text/plain": [
       "<PIL.Image.Image image mode=RGBA size=128x176>"
      ]
     },
     "metadata": {},
     "output_type": "display_data"
    },
    {
     "data": {
      "image/png": "[encoded data removed]",
      "text/plain": [
       "<PIL.Image.Image image mode=RGBA size=128x176>"
      ]
     },
     "metadata": {},
     "output_type": "display_data"
    },
    {
     "data": {
      "image/png": "[encoded data removed]",
      "text/plain": [
       "<PIL.Image.Image image mode=RGBA size=128x176>"
      ]
     },
     "metadata": {},
     "output_type": "display_data"
    },
    {
     "data": {
      "image/png": "[encoded data removed]",
      "text/plain": [
       "<PIL.Image.Image image mode=RGBA size=128x176>"
      ]
     },
     "metadata": {},
     "output_type": "display_data"
    },
    {
     "data": {
      "image/png": "[encoded data removed]",
      "text/plain": [
       "<PIL.Image.Image image mode=RGBA size=128x176>"
      ]
     },
     "metadata": {},
     "output_type": "display_data"
    },
    {
     "data": {
      "image/png": "[encoded data removed]",
      "text/plain": [
       "<PIL.Image.Image image mode=RGBA size=128x176>"
      ]
     },
     "metadata": {},
     "output_type": "display_data"
    },
    {
     "data": {
      "image/png": "[encoded data removed]",
      "text/plain": [
       "<PIL.Image.Image image mode=RGBA size=128x176>"
      ]
     },
     "metadata": {},
     "output_type": "display_data"
    },
    {
     "data": {
      "image/png": "[encoded data removed]",
      "text/plain": [
       "<PIL.Image.Image image mode=RGBA size=128x176>"
      ]
     },
     "metadata": {},
     "output_type": "display_data"
    },
    {
     "data": {
      "image/png": "[encoded data removed]",
      "text/plain": [
       "<PIL.Image.Image image mode=RGBA size=128x176>"
      ]
     },
     "metadata": {},
     "output_type": "display_data"
    },
    {
     "data": {
      "image/png": "[encoded data removed]",
      "text/plain": [
       "<PIL.Image.Image image mode=RGBA size=128x176>"
      ]
     },
     "metadata": {},
     "output_type": "display_data"
    },
    {
     "data": {
      "image/png": "[encoded data removed]",
      "text/plain": [
       "<PIL.Image.Image image mode=RGBA size=128x176>"
      ]
     },
     "metadata": {},
     "output_type": "display_data"
    },
    {
     "data": {
      "image/png": "[encoded data removed]",
      "text/plain": [
       "<PIL.Image.Image image mode=RGBA size=128x176>"
      ]
     },
     "metadata": {},
     "output_type": "display_data"
    },
    {
     "data": {
      "image/png": "[encoded data removed]",
      "text/plain": [
       "<PIL.Image.Image image mode=RGBA size=128x176>"
      ]
     },
     "metadata": {},
     "output_type": "display_data"
    },
    {
     "data": {
      "image/png": "[encoded data removed]",
      "text/plain": [
       "<PIL.Image.Image image mode=RGBA size=128x176>"
      ]
     },
     "metadata": {},
     "output_type": "display_data"
    },
    {
     "data": {
      "image/png": "[encoded data removed]",
      "text/plain": [
       "<PIL.Image.Image image mode=RGBA size=128x176>"
      ]
     },
     "metadata": {},
     "output_type": "display_data"
    },
    {
     "data": {
      "image/png": "[encoded data removed]",
      "text/plain": [
       "<PIL.Image.Image image mode=RGBA size=128x176>"
      ]
     },
     "metadata": {},
     "output_type": "display_data"
    },
    {
     "data": {
      "image/png": "[encoded data removed]",
      "text/plain": [
       "<PIL.Image.Image image mode=RGBA size=128x176>"
      ]
     },
     "metadata": {},
     "output_type": "display_data"
    },
    {
     "data": {
      "image/png": "[encoded data removed]",
      "text/plain": [
       "<PIL.Image.Image image mode=RGBA size=128x176>"
      ]
     },
     "metadata": {},
     "output_type": "display_data"
    },
    {
     "data": {
      "image/png": "[encoded data removed]",
      "text/plain": [
       "<PIL.Image.Image image mode=RGBA size=128x176>"
      ]
     },
     "metadata": {},
     "output_type": "display_data"
    },
    {
     "data": {
      "image/png": "[encoded data removed]",
      "text/plain": [
       "<PIL.Image.Image image mode=RGBA size=128x176>"
      ]
     },
     "metadata": {},
     "output_type": "display_data"
    },
    {
     "data": {
      "image/png": "[encoded data removed]",
      "text/plain": [
       "<PIL.Image.Image image mode=RGBA size=128x176>"
      ]
     },
     "metadata": {},
     "output_type": "display_data"
    },
    {
     "data": {
      "image/png": "[encoded data removed]",
      "text/plain": [
       "<PIL.Image.Image image mode=RGBA size=128x176>"
      ]
     },
     "metadata": {},
     "output_type": "display_data"
    },
    {
     "data": {
      "image/png": "[encoded data removed]",
      "text/plain": [
       "<PIL.Image.Image image mode=RGBA size=128x176>"
      ]
     },
     "metadata": {},
     "output_type": "display_data"
    },
    {
     "data": {
      "image/png": "[encoded data removed]",
      "text/plain": [
       "<PIL.Image.Image image mode=RGBA size=128x176>"
      ]
     },
     "metadata": {},
     "output_type": "display_data"
    },
    {
     "data": {
      "image/png": "[encoded data removed]",
      "text/plain": [
       "<PIL.Image.Image image mode=RGBA size=128x176>"
      ]
     },
     "metadata": {},
     "output_type": "display_data"
    },
    {
     "data": {
      "image/png": "[encoded data removed]",
      "text/plain": [
       "<PIL.Image.Image image mode=RGBA size=128x176>"
      ]
     },
     "metadata": {},
     "output_type": "display_data"
    },
    {
     "data": {
      "image/png": "[encoded data removed]",
      "text/plain": [
       "<PIL.Image.Image image mode=RGBA size=128x176>"
      ]
     },
     "metadata": {},
     "output_type": "display_data"
    },
    {
     "data": {
      "image/png": "[encoded data removed]",
      "text/plain": [
       "<PIL.Image.Image image mode=RGBA size=128x176>"
      ]
     },
     "metadata": {},
     "output_type": "display_data"
    },
    {
     "data": {
      "image/png": "[encoded data removed]",
      "text/plain": [
       "<PIL.Image.Image image mode=RGBA size=128x176>"
      ]
     },
     "metadata": {},
     "output_type": "display_data"
    },
    {
     "data": {
      "image/png": "[encoded data removed]",
      "text/plain": [
       "<PIL.Image.Image image mode=RGBA size=128x176>"
      ]
     },
     "metadata": {},
     "output_type": "display_data"
    },
    {
     "data": {
      "image/png": "[encoded data removed]",
      "text/plain": [
       "<PIL.Image.Image image mode=RGBA size=128x176>"
      ]
     },
     "metadata": {},
     "output_type": "display_data"
    }
   ],
   "source": [
    "create_cards(numbers,shapes,colors,positions)"
   ]
  },
  {
   "cell_type": "markdown",
   "id": "08fd453d",
   "metadata": {},
   "source": [
    "Yess! It works! "
   ]
  },
  {
   "cell_type": "markdown",
   "id": "fc3be1b0",
   "metadata": {},
   "source": [
    "Now, i want to save the images instead of displaying them. \n",
    "\n",
    "Additionally i want to have informative name for the files. This is a bit of a problem because the variables are no longer refering to the names, for example: the color red refers to the RGB color code. And the shapes refer to the image objects themself. Therefore we have to do this half manually. Because we know the sequance of the shapes, colors and numbers we will use this sequance as information. \n",
    "\n",
    "BEWARE, if the sequence is different then the names have to be changed accordingly. While this might not be the best way of doing this, it was the only way i could think of and works faster than nameing the files manually.\n"
   ]
  },
  {
   "cell_type": "code",
   "execution_count": 23,
   "id": "94bbdc7f",
   "metadata": {},
   "outputs": [],
   "source": [
    "def create_cards(numbers,shapes,colors,positions):\n",
    "    counter = 1\n",
    "    for shape in shapes:\n",
    "        for color in colors:\n",
    "            for number in numbers:\n",
    "                black, transparent = shape.split()\n",
    "                changeling = ImageOps.colorize(black, color, color)\n",
    "                changeling.putalpha(transparent)\n",
    "                if number == 1:\n",
    "                    card = frame.copy()\n",
    "                    card.paste(changeling,positions[1][0],mask = changeling)\n",
    "                    # Getting the shape\n",
    "                    if str(shape) == str(shapes[0]):\n",
    "                        s = \"circle\"\n",
    "                    elif str(shape) == str(shapes[1]):\n",
    "                        s = \"square\"\n",
    "                    elif str(shape) == str(shapes[2]):\n",
    "                        s = \"triangle\"\n",
    "                    elif str(shape) == str(shapes[3]):\n",
    "                        s = \"star\"\n",
    "                    # Getting the color    \n",
    "                    if str(color) == str(colors[0]):\n",
    "                        c = \"blue\"\n",
    "                    elif str(color) == str(colors[1]):\n",
    "                        c = \"yellow\"\n",
    "                    elif str(color) == str(colors[2]):\n",
    "                        c = \"red\"\n",
    "                    elif str(color) == str(colors[3]):\n",
    "                        c = \"green\"\n",
    "                    card.save(f\"cards/{number}_{s}_{c}.png\")    \n",
    "                elif number == 2:\n",
    "                    card = frame.copy()\n",
    "                    card.paste(changeling,positions[2][0],mask = changeling)\n",
    "                    card.paste(changeling,positions[2][1],mask = changeling)\n",
    "                    # Getting the shape\n",
    "                    if str(shape) == str(shapes[0]):\n",
    "                        s = \"circle\"\n",
    "                    elif str(shape) == str(shapes[1]):\n",
    "                        s = \"square\"\n",
    "                    elif str(shape) == str(shapes[2]):\n",
    "                        s = \"triangle\"\n",
    "                    elif str(shape) == str(shapes[3]):\n",
    "                        s = \"star\"\n",
    "                    # Getting the color    \n",
    "                    if str(color) == str(colors[0]):\n",
    "                        c = \"blue\"\n",
    "                    elif str(color) == str(colors[1]):\n",
    "                        c = \"yellow\"\n",
    "                    elif str(color) == str(colors[2]):\n",
    "                        c = \"red\"\n",
    "                    elif str(color) == str(colors[3]):\n",
    "                        c = \"green\"\n",
    "                    card.save(f\"cards/{number}_{s}_{c}.png\")    \n",
    "                elif number == 3:\n",
    "                    card = frame.copy()\n",
    "                    card.paste(changeling,positions[3][0],mask = changeling)\n",
    "                    card.paste(changeling,positions[3][1],mask = changeling)\n",
    "                    card.paste(changeling,positions[3][2],mask = changeling)\n",
    "                   # Getting the shape\n",
    "                    if str(shape) == str(shapes[0]):\n",
    "                        s = \"circle\"\n",
    "                    elif str(shape) == str(shapes[1]):\n",
    "                        s = \"square\"\n",
    "                    elif str(shape) == str(shapes[2]):\n",
    "                        s = \"triangle\"\n",
    "                    elif str(shape) == str(shapes[3]):\n",
    "                        s = \"star\"\n",
    "                    # Getting the color    \n",
    "                    if str(color) == str(colors[0]):\n",
    "                        c = \"blue\"\n",
    "                    elif str(color) == str(colors[1]):\n",
    "                        c = \"yellow\"\n",
    "                    elif str(color) == str(colors[2]):\n",
    "                        c = \"red\"\n",
    "                    elif str(color) == str(colors[3]):\n",
    "                        c = \"green\"\n",
    "                    card.save(f\"cards/{number}_{s}_{c}.png\")    \n",
    "                elif number == 4:\n",
    "                    card = frame.copy()\n",
    "                    card.paste(changeling,positions[4][0],mask = changeling)\n",
    "                    card.paste(changeling,positions[4][1],mask = changeling)\n",
    "                    card.paste(changeling,positions[4][2],mask = changeling)\n",
    "                    card.paste(changeling,positions[4][3],mask = changeling)\n",
    "                   # Getting the shape\n",
    "                    if str(shape) == str(shapes[0]):\n",
    "                        s = \"circle\"\n",
    "                    elif str(shape) == str(shapes[1]):\n",
    "                        s = \"square\"\n",
    "                    elif str(shape) == str(shapes[2]):\n",
    "                        s = \"triangle\"\n",
    "                    elif str(shape) == str(shapes[3]):\n",
    "                        s = \"star\"\n",
    "                    # Getting the color    \n",
    "                    if str(color) == str(colors[0]):\n",
    "                        c = \"blue\"\n",
    "                    elif str(color) == str(colors[1]):\n",
    "                        c = \"yellow\"\n",
    "                    elif str(color) == str(colors[2]):\n",
    "                        c = \"red\"\n",
    "                    elif str(color) == str(colors[3]):\n",
    "                        c = \"green\"\n",
    "                    card.save(f\"cards/{number}_{s}_{c}.png\")    "
   ]
  },
  {
   "cell_type": "code",
   "execution_count": 24,
   "id": "92a3166f",
   "metadata": {},
   "outputs": [],
   "source": [
    "create_cards(numbers,shapes,colors,positions)"
   ]
  },
  {
   "cell_type": "markdown",
   "id": "a128ca13",
   "metadata": {},
   "source": [
    "I came back to this after some time, while the transparent background is usefull. I Think having a white background will make the game look nicer. So i will do that. "
   ]
  },
  {
   "cell_type": "markdown",
   "id": "9849ca28",
   "metadata": {},
   "source": [
    "I created a python script that will now create the images with a white background. create_images_script"
   ]
  },
  {
   "cell_type": "code",
   "execution_count": null,
   "id": "81b05db4",
   "metadata": {},
   "outputs": [],
   "source": []
  }
 ],
 "metadata": {
  "kernelspec": {
   "display_name": "Python 3 (ipykernel)",
   "language": "python",
   "name": "python3"
  },
  "language_info": {
   "codemirror_mode": {
    "name": "ipython",
    "version": 3
   },
   "file_extension": ".py",
   "mimetype": "text/x-python",
   "name": "python",
   "nbconvert_exporter": "python",
   "pygments_lexer": "ipython3",
   "version": "3.11.4"
  }
 },
 "nbformat": 4,
 "nbformat_minor": 5
}
