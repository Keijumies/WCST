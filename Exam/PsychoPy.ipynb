{
 "cells": [
  {
   "cell_type": "markdown",
   "id": "1d5637d3",
   "metadata": {},
   "source": [
    "# The PsychoPy Version\n",
    "\n",
    "This document details the final game. Found in the psychopy/game directory under the name `wcst.py`\n",
    "\n",
    "This version includes almost the same core components as the game logic. But several changes had to be made.\n",
    "\n",
    "Underneath is a overview of the game."
   ]
  },
  {
   "cell_type": "markdown",
   "id": "95e5a60b",
   "metadata": {},
   "source": [
    "## Overview of the Game\n",
    "\n",
    "### Game Setup\n",
    "- **Window Settings**: A PsychoPy `window` is defined.\n",
    "- **Window**: The `window` is passed into the `card class`\n",
    "- **Active Rule Selection**: A rule is randomly selected from the `rules` list.\n",
    "- **Deck creation**: `mainstack` and `discard stacks` are created.\n",
    "\n",
    "### Intro loop\n",
    "- **Start Screen**: Logo of game\n",
    "- **Username Input**: Collects a username from the player.\n",
    "- **Instructions**: Display of game instructions.\n",
    "\n",
    "### Main Game Loop\n",
    "- The game continues while there are cards in the `mainstack`.\n",
    "- In each iteration of the loop:\n",
    "    1. **Render Cards**:\n",
    "       - The top card of the `mainstack` and the top cards of each discard stack are rendered on the screen.\n",
    "\n",
    "    2. **User Choice**:\n",
    "       - The game waits for the user to choose a `stimulus_card`, either by mouse click or keyboard input.\n",
    "\n",
    "    3. **Card Movement**:\n",
    "       - The chosen card is moved from the `mainstack` to the discard stack of the `stimulus card`.\n",
    "\n",
    "    4. **Feedback**:\n",
    "       - The game gives feedback (correct or wrong) based on the user's choice.\n",
    "\n",
    "    5. **Tracking and Logging**:\n",
    "       - data are tracked and logged for each trial.\n",
    "\n",
    "    6. **Rule Change**:\n",
    "       - If the user achieves a win streak of 5, the active rule is changed.\n",
    "\n",
    "### Results and Saving Data\n",
    "- **Calculating Results**: \n",
    "  - After the main loop ends, results (percentage correct, categories completed, and preservative errors) are calculated.\n",
    "- **Displaying Results**: \n",
    "  - Displays a part of the results to the user.\n",
    "- **Saving Data**: \n",
    "  - Game data is saved to a CSV file using the `save_results` function."
   ]
  },
  {
   "cell_type": "markdown",
   "id": "4b05099b",
   "metadata": {},
   "source": [
    "# Main Changes"
   ]
  },
  {
   "cell_type": "markdown",
   "id": "4297ae5f",
   "metadata": {},
   "source": [
    "For this version, instead of printing out text. We wanted to render out the real card images on the screen."
   ]
  },
  {
   "cell_type": "markdown",
   "id": "8e8d6702",
   "metadata": {},
   "source": [
    "### Window"
   ]
  },
  {
   "cell_type": "markdown",
   "id": "252d8648",
   "metadata": {},
   "source": [
    "In psychopy instead of printing text in the terminal, the applications runs on a `window`.\n",
    "\n",
    "The window has to be initiated, as it is a class object in psychopy."
   ]
  },
  {
   "cell_type": "code",
   "execution_count": null,
   "id": "b4eb4cba",
   "metadata": {},
   "outputs": [],
   "source": [
    "#This is an psychopy class object that contains information for the screen, that will diplay the program.\n",
    "window = visual.Window(size=(800, 600), fullscr=False, color='black')"
   ]
  },
  {
   "cell_type": "markdown",
   "id": "5e8b4f8b",
   "metadata": {},
   "source": [
    "### Image objects in psychopy"
   ]
  },
  {
   "cell_type": "markdown",
   "id": "db984694",
   "metadata": {},
   "source": [
    "To display images or text on the window. We first have to create them as specifics objects in psychopy.\n",
    "\n",
    "For the creation of the image object we need to pass in the following information:\n",
    "1. window\n",
    "2. folder path + filename\n",
    "3. size\n",
    "4. position"
   ]
  },
  {
   "cell_type": "code",
   "execution_count": null,
   "id": "60ae6c9a",
   "metadata": {},
   "outputs": [],
   "source": [
    "#example image\n",
    "img = visual.ImageStim(window,image=\"folder/image.png\",size=(100,100),pos=(0,0))"
   ]
  },
  {
   "cell_type": "markdown",
   "id": "b9e30507",
   "metadata": {},
   "source": [
    "Then when the image is created we can use a psychopy image object method, `render()`"
   ]
  },
  {
   "cell_type": "code",
   "execution_count": null,
   "id": "d7fbeee8",
   "metadata": {},
   "outputs": [],
   "source": [
    "#rendering the image on the screen\n",
    "img.render()"
   ]
  },
  {
   "cell_type": "markdown",
   "id": "9ac8d254",
   "metadata": {},
   "source": [
    "As we want to present the card images we created in the `create_cards.py` script.\n",
    "\n",
    "And we do not want to manually do this for all the cards. We chose to modify the class methods."
   ]
  },
  {
   "cell_type": "markdown",
   "id": "269756f0",
   "metadata": {},
   "source": [
    "## Card Class Changes"
   ]
  },
  {
   "cell_type": "markdown",
   "id": "8ad6c93a",
   "metadata": {},
   "source": [
    "We wanted to automate the image object creation in the card class."
   ]
  },
  {
   "cell_type": "code",
   "execution_count": null,
   "id": "55110b45",
   "metadata": {},
   "outputs": [],
   "source": [
    "class Card:\n",
    "\n",
    "    image_path = \"../cards/\"\n",
    "    card_size = (128,176)\n",
    "    _pos = None\n",
    "    window = None\n",
    "    \n",
    "    @classmethod\n",
    "    def set_window(cls,window):\n",
    "        cls.window = window\n",
    "    \n",
    "    def __init__(self,number,shape,color):\n",
    "        self.number = number\n",
    "        self.shape = shape\n",
    "        self.color = color\n",
    "        self.psypy = self.create_psychopy()\n",
    "    \n",
    "    def render(self):\n",
    "        self.psypy.draw() \n",
    "        \n",
    "    \n",
    "    def get_filename(self): # property possibility\n",
    "        fname = os.path.join(self.image_path, \"%i_%s_%s.png\"%(self.number, self.shape, self.color))\n",
    "        return fname\n",
    "    \n",
    "    def create_psychopy(self, position=(0,0), **kwargs):\n",
    "        \n",
    "        if not Card.window:\n",
    "            raise ValueError(\"The window attribute for Card is not set. Use Card.set_window() and give the class a valid psychopy window configuration.\")\n",
    "        ppy_repr = visual.ImageStim(Card.window,image=self.get_filename(),size=(self.card_size),pos=(position), **kwargs)\n",
    "        return ppy_repr\n",
    "    ...\n",
    "        \n",
    "\n",
    "        \n",
    "        "
   ]
  },
  {
   "cell_type": "markdown",
   "id": "8fb9b791",
   "metadata": {},
   "source": [
    "To automate the process we had to solve some problems. \n",
    "\n",
    "Some of this will be **simple**, because the process will be same for all the cards. A **challenge** is when each cards image object has to receive different information.\n",
    "\n",
    "#### Simple\n",
    "1. **Image Path**\n",
    "2. **Size**\n",
    "3. **Window**\n",
    "\n",
    "#### Challenging\n",
    "4. **The Image Name:** Will change depending on the card.\n",
    "5. **The Position:** Will depend on what stack the card is currently in.\n",
    "\n",
    "\n"
   ]
  },
  {
   "cell_type": "markdown",
   "id": "75bb2819",
   "metadata": {},
   "source": [
    "The simple problems are solved like this:\n",
    "    \n",
    "1. **Filename**: We specify the image path in the card class.\n",
    "2. **Card Size**: We specify the size in the card class\n",
    "    "
   ]
  },
  {
   "cell_type": "code",
   "execution_count": null,
   "id": "5ac9a0c1",
   "metadata": {},
   "outputs": [],
   "source": [
    "class Card:\n",
    "    image_path = \"../cards/\"\n",
    "    card_size = (128,176)\n",
    "    ...."
   ]
  },
  {
   "cell_type": "markdown",
   "id": "a3267ccb",
   "metadata": {},
   "source": [
    "3. **Window**: We create a classmethod named set_window(). It the picks up the window object and stores it as a class variable."
   ]
  },
  {
   "cell_type": "code",
   "execution_count": null,
   "id": "d22d1170",
   "metadata": {},
   "outputs": [],
   "source": [
    "class Card:\n",
    "    ....\n",
    "   @classmethod\n",
    "    def set_window(cls,window):\n",
    "        cls.window = window\n",
    "    ....    "
   ]
  },
  {
   "cell_type": "markdown",
   "id": "829530d1",
   "metadata": {},
   "source": [
    "3.**Window**: Here is an example of how the window object is passed into the card class as a variable."
   ]
  },
  {
   "cell_type": "code",
   "execution_count": null,
   "id": "ef2fee38",
   "metadata": {},
   "outputs": [],
   "source": [
    "# Window settings\n",
    "window = visual.Window([1800,1200], monitor=\"testMonitor\", units=\"pix\")\n",
    "Card.set_window(window) # Pass in the window for the card class"
   ]
  },
  {
   "cell_type": "markdown",
   "id": "d2ef9a50",
   "metadata": {},
   "source": [
    "The challenging problems are solved in a less straightforward fashion.\n",
    "\n",
    "4.**Filename**\n",
    "\n",
    "We are able to retrieve the filename because, in the `create_cards script` we named the files in a systematic manner. The name is always the number_shape_color.png.\n",
    "\n",
    "We use the attributes of the cards `shape`,`name`,`color` and check each of their value. Depending on this we name the file.\n"
   ]
  },
  {
   "cell_type": "code",
   "execution_count": null,
   "id": "a058a050",
   "metadata": {},
   "outputs": [],
   "source": [
    " def get_filename(self): # property possibility\n",
    "        fname = os.path.join(self.image_path, \"%i_%s_%s.png\"%(self.number, self.shape, self.color))\n",
    "        return fname"
   ]
  },
  {
   "cell_type": "markdown",
   "id": "b4c2486c",
   "metadata": {},
   "source": [
    "When this method is used on a card object it will return to us a string that leads to the png file of that specific card.\n",
    "\n",
    "**Example**: \"../cards/1_circle_red.png\""
   ]
  },
  {
   "cell_type": "markdown",
   "id": "615f19a6",
   "metadata": {},
   "source": [
    "#### Creating the image object from the cards."
   ]
  },
  {
   "cell_type": "markdown",
   "id": "eb60e66c",
   "metadata": {},
   "source": [
    "Now we have everything except the position information to create the image objects from the card.\n",
    "\n",
    "For now we postpone this problem by giving all image object the location: (0,0)\n",
    "We do this because the cards themself do not contain the information on where the cards should be rendered on the screen. This is information that is given by the stack.\n",
    "\n",
    "The window, the image path + filename, the cardsize and the position is all used in this method to create the final image object from the card."
   ]
  },
  {
   "cell_type": "code",
   "execution_count": null,
   "id": "9645569e",
   "metadata": {},
   "outputs": [],
   "source": [
    "def create_psychopy(self, position=(0,0)):\n",
    "        ...\n",
    "        ppy_repr = visual.ImageStim(Card.window,image=self.get_filename(),size=(self.card_size),pos=(position))\n",
    "        return ppy_repr"
   ]
  },
  {
   "cell_type": "markdown",
   "id": "7ba0bbca",
   "metadata": {},
   "source": [
    "Then we added this method to the __ init __  function.\n",
    "This way everytime a card object is initialized it will run the create_psychopy() method."
   ]
  },
  {
   "cell_type": "code",
   "execution_count": null,
   "id": "69a40f13",
   "metadata": {},
   "outputs": [],
   "source": [
    "    def __init__(self,number,shape,color):\n",
    "        self.number = number\n",
    "        self.shape = shape\n",
    "        self.color = color\n",
    "        self.psypy = self.create_psychopy()"
   ]
  },
  {
   "cell_type": "markdown",
   "id": "8aff41b0",
   "metadata": {},
   "source": [
    "#### Sequence"
   ]
  },
  {
   "cell_type": "markdown",
   "id": "0acd557b",
   "metadata": {},
   "source": [
    "The sequencing of this is a bit complicated because of its object oriented approach.\n",
    "\n",
    "When a card is created."
   ]
  },
  {
   "cell_type": "markdown",
   "id": "0ff8a101",
   "metadata": {},
   "source": [
    "First the window has to be passed into the class"
   ]
  },
  {
   "cell_type": "code",
   "execution_count": null,
   "id": "b7de0edd",
   "metadata": {},
   "outputs": [],
   "source": [
    "window = visual.Window([1800,1200], monitor=\"testMonitor\", units=\"pix\")\n",
    "Card.set_window(window) # Pass in the window for the card class"
   ]
  },
  {
   "cell_type": "markdown",
   "id": "57e480c4",
   "metadata": {},
   "source": [
    "We then create a card with the card class."
   ]
  },
  {
   "cell_type": "code",
   "execution_count": null,
   "id": "921df3af",
   "metadata": {},
   "outputs": [],
   "source": [
    "card = Card(1,'triangle','red')"
   ]
  },
  {
   "cell_type": "markdown",
   "id": "55b14590",
   "metadata": {},
   "source": [
    "It will assign: 1 = number, 'triangle' = shape, 'red'= color. Simple.\n",
    "But then when it is asigning the value for psypy."
   ]
  },
  {
   "cell_type": "code",
   "execution_count": null,
   "id": "5ac3e53f",
   "metadata": {},
   "outputs": [],
   "source": [
    "class Card:\n",
    "    def __init__(self,number,shape,color):\n",
    "        self.number = number\n",
    "        self.shape = shape\n",
    "        self.color = color\n",
    "        self.psypy = self.create_psychopy()\n",
    "    ...\n",
    "\n",
    "\n"
   ]
  },
  {
   "cell_type": "markdown",
   "id": "a74fad2b",
   "metadata": {},
   "source": [
    "It will assign the psypy attribute with the value that is returned from the create_psychopy().\n",
    "The create_psychopy() method calls upon the get_filename() method to locate the filename.\n",
    "\n",
    "And the get_filename uses the values from the card attributes: number, shape and color to locate the file."
   ]
  },
  {
   "cell_type": "code",
   "execution_count": null,
   "id": "ca387f35",
   "metadata": {},
   "outputs": [],
   "source": [
    "class Card:\n",
    "    ...\n",
    "    def create_psychopy(self, position=(0,0)):\n",
    "        ...\n",
    "        ppy_repr = visual.ImageStim(Card.window,image=self.get_filename(),size=(self.card_size),pos=(position))\n",
    "        return ppy_repr"
   ]
  },
  {
   "cell_type": "markdown",
   "id": "efd56e96",
   "metadata": {},
   "source": [
    "This complex process results in a simple code. When we run the gameloop."
   ]
  },
  {
   "cell_type": "markdown",
   "id": "9b1ebcc0",
   "metadata": {},
   "source": [
    "#### Rendering"
   ]
  },
  {
   "cell_type": "markdown",
   "id": "43ebc3d8",
   "metadata": {},
   "source": [
    "Now in psychopy, when we want to render something on the screen. \n",
    "We use an mehtod that is available for the psychopy image objects.\n",
    "\n",
    "And now because each card has a psychopy image object called psypy, we can just use the draw function on it."
   ]
  },
  {
   "cell_type": "code",
   "execution_count": null,
   "id": "0f2c48a1",
   "metadata": {},
   "outputs": [],
   "source": [
    "   class Card:\n",
    "        \n",
    "    def render(self):\n",
    "        self.psypy.draw()"
   ]
  },
  {
   "cell_type": "markdown",
   "id": "38b328e3",
   "metadata": {},
   "source": [
    "now when a card is called to render:"
   ]
  },
  {
   "cell_type": "code",
   "execution_count": null,
   "id": "85d6a27d",
   "metadata": {},
   "outputs": [],
   "source": [
    " card.render()"
   ]
  },
  {
   "cell_type": "markdown",
   "id": "5b96cbdb",
   "metadata": {},
   "source": [
    "It will be printed on the screen."
   ]
  },
  {
   "cell_type": "code",
   "execution_count": null,
   "id": "a9ca9a47",
   "metadata": {},
   "outputs": [],
   "source": []
  },
  {
   "cell_type": "markdown",
   "id": "b9d0f810",
   "metadata": {},
   "source": [
    "# Stack Class Changes"
   ]
  },
  {
   "cell_type": "markdown",
   "id": "966541a7",
   "metadata": {},
   "source": [
    "The main changes to the classes are that they now include positional information for the cards."
   ]
  },
  {
   "cell_type": "markdown",
   "id": "c5080737",
   "metadata": {},
   "source": [
    "To the parent class Stack. The only changes are the render method."
   ]
  },
  {
   "cell_type": "code",
   "execution_count": null,
   "id": "fff5ce19",
   "metadata": {},
   "outputs": [],
   "source": [
    "class Stack():\n",
    "     ...\n",
    "    \n",
    "    def render(self):\n",
    "        if self.list_of_cards:\n",
    "            card = self.list_of_cards[-1]\n",
    "            card.pos = (self.xpos, self.ypos)\n",
    "            card.render()\n"
   ]
  },
  {
   "cell_type": "markdown",
   "id": "c7e1ed2c",
   "metadata": {},
   "source": [
    "1. It checks if there are any cards in the stack.\n",
    "2. Then takes card on top of the stack.\n",
    "3. Assigns it with a position\n",
    "4. Preforms the card level render method on it."
   ]
  },
  {
   "cell_type": "markdown",
   "id": "255a395b",
   "metadata": {},
   "source": [
    "### Changes to child class MainStack"
   ]
  },
  {
   "cell_type": "markdown",
   "id": "2a45190b",
   "metadata": {},
   "source": [
    "The only change here is that now, it includes position data."
   ]
  },
  {
   "cell_type": "code",
   "execution_count": null,
   "id": "829015bb",
   "metadata": {},
   "outputs": [],
   "source": [
    "class MainStack(Stack):\n",
    "    xpos = 0\n",
    "    ypos = -200\n",
    "    ..."
   ]
  },
  {
   "cell_type": "markdown",
   "id": "54bb39d8",
   "metadata": {},
   "source": [
    "### Changes to child class DiscardStack"
   ]
  },
  {
   "cell_type": "markdown",
   "id": "1b43eb71",
   "metadata": {},
   "source": [
    "As in the MainStack, we include information on the position of the stack.\n",
    "\n",
    "But because this is a multistack (it contains two cards locations per stack).\n",
    "We have to assign it multiple positions. \n",
    "\n",
    "Additionally, we are rendering some text above the stack so we have to specify the text information as well."
   ]
  },
  {
   "cell_type": "code",
   "execution_count": null,
   "id": "decb040f",
   "metadata": {},
   "outputs": [],
   "source": [
    "class DiscardStack(Stack):\n",
    " \n",
    "    ypos_stimcard = 400\n",
    "    ypos_discard = 200\n",
    "    \n",
    "    stimdesign  = {\n",
    "    'font': 'Arial',\n",
    "    'height': 42,\n",
    "    'color': 'white',\n",
    "    'bold': True\n",
    "    }\n",
    "    ..."
   ]
  },
  {
   "cell_type": "markdown",
   "id": "a745b4e8",
   "metadata": {},
   "source": [
    "At the class level, we define the variables that stay the same regardless of what which discard stack is created. \n",
    "\n",
    "Because all of the stimulus cards and discard cards have the same y-position we give it here.\n",
    "\n",
    "Also, we define a template for the text stimulus we want to render top of the stimulus cards."
   ]
  },
  {
   "cell_type": "code",
   "execution_count": null,
   "id": "baf825c8",
   "metadata": {},
   "outputs": [],
   "source": [
    "class DiscardStack(Stack):\n",
    "    \n",
    "    def __init__(self, num):\n",
    "        self.list_of_cards=[]\n",
    "        self.stimulus_card=None\n",
    "        if num==1:\n",
    "            self.xpos = -300\n",
    "            self.stimulus_card=Card(1, \"triangle\", \"red\")\n",
    "\n",
    "        elif num==2:\n",
    "            self.xpos = -100\n",
    "            self.stimulus_card=Card(2, \"star\", \"green\")\n",
    "           \n",
    "        elif num==3:\n",
    "            self.xpos =  100\n",
    "            self.stimulus_card=Card(3, \"square\", \"yellow\")\n",
    "          \n",
    "        elif num==4:\n",
    "            self.xpos =  300\n",
    "            self.stimulus_card=Card(4, \"circle\", \"blue\")\n",
    "            \n",
    "        self.stimulus_card.pos = (self.xpos, self.ypos_stimcard)\n",
    "        ..."
   ]
  },
  {
   "cell_type": "markdown",
   "id": "4e20a3cf",
   "metadata": {},
   "source": [
    "Depending on the number of the stack, we assign a different x - position."
   ]
  },
  {
   "cell_type": "markdown",
   "id": "894fcfff",
   "metadata": {},
   "source": [
    "Because the `DiscardStack` is a multistack, the render method is also customized."
   ]
  },
  {
   "cell_type": "code",
   "execution_count": null,
   "id": "9a15510d",
   "metadata": {},
   "outputs": [],
   "source": [
    "class DiscardStack(Stack):\n",
    "    \n",
    "    def render(self):\n",
    "        # render the stimulus card\n",
    "        self.stimulus_card.pos = (self.xpos, self.ypos_stimcard)\n",
    "        self.stimulus_card.render()\n",
    "        # if there are cards in the discard stack render the top card\n",
    "        if self.list_of_cards:\n",
    "            card=self.list_of_cards[-1]\n",
    "            card.pos = (self.xpos, self.ypos_discard)\n",
    "            card.render()\n",
    "        # render the number on top of the stack\n",
    "        add = {\n",
    "        'text': self.stimulus_card.number,\n",
    "        'pos': (self.xpos, self.ypos_stimcard + 110)\n",
    "        }\n",
    "        design = DiscardStack.stimdesign.copy()\n",
    "        design.update(add)\n",
    "        stim_text = visual.TextStim(window, **design)\n",
    "        stim_text.draw()"
   ]
  },
  {
   "cell_type": "markdown",
   "id": "63418382",
   "metadata": {},
   "source": [
    "The `render()` method.\n",
    "   \n",
    "   1. Updates the position of the cards.\n",
    "   2. Renders the stimulus card and the top discard pile card.\n",
    "   3. Draws additional text above the stimulus card. Depending on the card number of the stimulus card.\n",
    "    "
   ]
  },
  {
   "cell_type": "markdown",
   "id": "7f8d0c90",
   "metadata": {},
   "source": [
    "### Positioning of the cards"
   ]
  },
  {
   "cell_type": "markdown",
   "id": "d967febd",
   "metadata": {},
   "source": [
    "How the positioning of the card is solved requires some additional explanation. In essence."
   ]
  },
  {
   "cell_type": "markdown",
   "id": "7775b9ed",
   "metadata": {},
   "source": [
    "1. When a card is created it always gets (0,0) as it position. This is in the middle of the screen.\n",
    "2. When a card is asigned to a stack it gets a new position.\n",
    "3. The updating of the position initiates a setter method that updates the cards position value at the card level.\n",
    "4. The updating of the position also triggers an update of the psypy position.\n",
    "5. When the card is finally rendered it will now be rendered at the new position that was given by the stack."
   ]
  },
  {
   "cell_type": "markdown",
   "id": "0e39543c",
   "metadata": {},
   "source": [
    "#### Example"
   ]
  },
  {
   "cell_type": "markdown",
   "id": "a371c232",
   "metadata": {},
   "source": [
    "When a card is in the mainstack."
   ]
  },
  {
   "cell_type": "code",
   "execution_count": null,
   "id": "e029a44b",
   "metadata": {},
   "outputs": [],
   "source": [
    "class MainStack(Stack):\n",
    "    \n",
    "    xpos = 0\n",
    "    ypos = -200"
   ]
  },
  {
   "cell_type": "markdown",
   "id": "d95c6885",
   "metadata": {},
   "source": [
    "And when the mainstack uses the render method that it inherited from the Stack class."
   ]
  },
  {
   "cell_type": "code",
   "execution_count": null,
   "id": "3aa97cc6",
   "metadata": {},
   "outputs": [],
   "source": [
    "class Stack:\n",
    "    \n",
    "    def render(self):\n",
    "        if self.list_of_cards:\n",
    "            card = self.list_of_cards[-1]\n",
    "            card.pos = (self.xpos, self.ypos)\n",
    "            card.render()"
   ]
  },
  {
   "cell_type": "markdown",
   "id": "dc9e4414",
   "metadata": {},
   "source": [
    "The position values of the card are changed.\n",
    "\n",
    "This change in turn triggers the setter at the card level.\n",
    "It ultimately changes the card position value and the psychopy image object position value."
   ]
  },
  {
   "cell_type": "code",
   "execution_count": null,
   "id": "35f41718",
   "metadata": {},
   "outputs": [],
   "source": [
    "class Card:\n",
    "    ..\n",
    "    @property\n",
    "    def pos(self):\n",
    "        return self._pos\n",
    "    \n",
    "    @pos.setter\n",
    "    def pos(self, value):\n",
    "        self._pos = value\n",
    "        self.psypy.pos = value"
   ]
  },
  {
   "cell_type": "markdown",
   "id": "335a270d",
   "metadata": {},
   "source": [
    "Then the rendering happens on this updated `psypy` object."
   ]
  },
  {
   "cell_type": "code",
   "execution_count": null,
   "id": "c2b7c8ca",
   "metadata": {},
   "outputs": [],
   "source": [
    "class Card:\n",
    "    \n",
    "    def render(self):\n",
    "        self.psypy.draw()"
   ]
  },
  {
   "cell_type": "markdown",
   "id": "6550ec92",
   "metadata": {},
   "source": [
    "# Mouse support"
   ]
  },
  {
   "cell_type": "markdown",
   "id": "0ffaf0ea",
   "metadata": {},
   "source": [
    "In the initial game logic, we had implemented a keyboard based choice system for our game.\n",
    "\n",
    "Because we now had a visual display we also wanted to include mouse support. So that choices could be made with the mouse.\n",
    "\n",
    "Because psychopy has a good mouse module. Most of the work is done inside psychopy and we only need to add little code to implement the mouse functions.\n",
    "\n",
    "To do this.\n",
    "We added a mehtod to the card class that gets the location cordinates of the card.\n",
    "This method is defined as a property so that we might access the location cordinates as just another attribute of the card."
   ]
  },
  {
   "cell_type": "code",
   "execution_count": null,
   "id": "3633a3d0",
   "metadata": {},
   "outputs": [],
   "source": [
    "class Card:\n",
    "    \n",
    "    @property\n",
    "    def rect(self):\n",
    "        \"\"\"A method that gives the cordinates of the card: Used when looking for mouse clicks\"\"\"\n",
    "        width, height = self.card_size\n",
    "        xpos, ypos = self.psypy.pos\n",
    "        left = xpos - width / 2\n",
    "        right = xpos + width / 2\n",
    "        top = ypos + height / 2\n",
    "        bottom = ypos - height / 2\n",
    "\n",
    "        return [left, top, right, bottom]\n",
    "    \n",
    "    "
   ]
  },
  {
   "cell_type": "markdown",
   "id": "3fcdf56d",
   "metadata": {},
   "source": [
    "In the gameloop we first initialize a mouse object using one of psychopys inbuilt modules."
   ]
  },
  {
   "cell_type": "code",
   "execution_count": null,
   "id": "d4efa900",
   "metadata": {},
   "outputs": [],
   "source": [
    "mouse = event.Mouse()"
   ]
  },
  {
   "cell_type": "markdown",
   "id": "72c2b149",
   "metadata": {},
   "source": [
    "Then we make a loop.\n",
    "1. Checks for clicks\n",
    "2. If there is a click it will get the mouse position\n",
    "3. Get the position of the `simulus cards`\n",
    "4. Check if the mouse click happened in inside the any of the position cordinates of the stimulus cards.\n",
    "5. If this was the case it will assign a choice based on what stimulus card was clicked.\n",
    "6. When a choice is registered made it will brake the loop."
   ]
  },
  {
   "cell_type": "code",
   "execution_count": null,
   "id": "dba2890e",
   "metadata": {},
   "outputs": [],
   "source": [
    " while choice is None:\n",
    "        # Check for mouse click first\n",
    "        if mouse.getPressed()[0]:  # [0] corresponds to the left mouse button\n",
    "            mouse_pos = mouse.getPos()\n",
    "            for i, dstack in dstacks.items():\n",
    "                rect = dstack.stimulus_card.rect\n",
    "                if (rect[0] <= mouse_pos[0] <= rect[2] and rect[1] >= mouse_pos[1] >= rect[3]): #left,top,right,bottom\n",
    "                    choice = i\n",
    "                    break"
   ]
  },
  {
   "cell_type": "markdown",
   "id": "4569506f",
   "metadata": {},
   "source": [
    "# Data tracking and storage"
   ]
  },
  {
   "cell_type": "markdown",
   "id": "27575741",
   "metadata": {},
   "source": [
    "The functions help store meaningfull data from the game are the following:"
   ]
  },
  {
   "cell_type": "markdown",
   "id": "effab396",
   "metadata": {},
   "source": [
    "Functions:\n",
    "   1. track()\n",
    "   2. matched_category()\n",
    "   3. save_results()\n",
    "   4. results()"
   ]
  },
  {
   "cell_type": "code",
   "execution_count": null,
   "id": "04bbb7ea",
   "metadata": {},
   "outputs": [],
   "source": [
    "def track(data_point, trial):\n",
    "    # Follow the sequence given in the save_results function\n",
    "    trial.append(data_point)\n",
    "    return trial"
   ]
  },
  {
   "cell_type": "markdown",
   "id": "b258dd7e",
   "metadata": {},
   "source": [
    "To track the data from the game we made a tracking function.\n",
    "\n",
    "1. takes in a data point and the trial list."
   ]
  },
  {
   "cell_type": "markdown",
   "id": "2ae99d45",
   "metadata": {},
   "source": [
    "### Data tracking: Example"
   ]
  },
  {
   "cell_type": "markdown",
   "id": "c3b9a04c",
   "metadata": {},
   "source": [
    "Here is a use case of the `track()` function in the gameloop."
   ]
  },
  {
   "cell_type": "code",
   "execution_count": null,
   "id": "d83e6d90",
   "metadata": {},
   "outputs": [],
   "source": [
    "    # Pop the top card from the mainstack and put it in the right discard pile\n",
    "    card = mainstack.pop()\n",
    "    track(card.__repr__(),trial) # Here the tracker collects the hand card\n",
    "    \n",
    "    dstacks[choice].add(card)\n",
    "    track(dstacks[choice].stimulus_card.__repr__(),trial) # Here the tracker collects the chosen stimulus card."
   ]
  },
  {
   "cell_type": "markdown",
   "id": "059b9162",
   "metadata": {},
   "source": [
    "At the end of the loop. We command the trial to be stored into the game data."
   ]
  },
  {
   "cell_type": "code",
   "execution_count": null,
   "id": "afe86202",
   "metadata": {},
   "outputs": [],
   "source": [
    "game_data.append(trial)"
   ]
  },
  {
   "cell_type": "markdown",
   "id": "0f1c8eda",
   "metadata": {},
   "source": [
    "When the game is over the game_data will include multiple lists:\n",
    "\n",
    "Each list represents one trial (one round of the game).\n",
    "\n",
    "Each list contains the following information:"
   ]
  },
  {
   "cell_type": "code",
   "execution_count": null,
   "id": "417f5dc5",
   "metadata": {},
   "outputs": [],
   "source": [
    "[\"card\", \"chosen card\", \"success\", \"matched on categories\", \"active rule\", \"win streak\"]"
   ]
  },
  {
   "cell_type": "markdown",
   "id": "ddd2c83b",
   "metadata": {},
   "source": [
    "At the end of the game. We run the save_results() function.\n",
    "\n",
    "To it we pass in the game_data, the folder path and the filename."
   ]
  },
  {
   "cell_type": "markdown",
   "id": "95523886",
   "metadata": {},
   "source": [
    "This is the function that saves the game data in csv format."
   ]
  },
  {
   "cell_type": "code",
   "execution_count": null,
   "id": "5e76904e",
   "metadata": {},
   "outputs": [],
   "source": [
    "def save_results(data, results_destination, filename):\n",
    "    index = [\"card\", \"chosen card\", \"success\", \"matched on categories\", \"active rule\", \"win streak\"]\n",
    "    game_data_dicts = []\n",
    "\n",
    "    for trial_data in data:\n",
    "        trial_dict = {}\n",
    "        for i, field in enumerate(index):\n",
    "            trial_dict[field] = trial_data[i]\n",
    "        game_data_dicts.append(trial_dict)\n",
    "\n",
    "    df = pd.DataFrame(game_data_dicts)\n",
    "    output_filename = f\"{filename}_data.csv\"\n",
    "    df.to_csv(os.path.join(results_destination, output_filename), index=False)"
   ]
  },
  {
   "cell_type": "code",
   "execution_count": null,
   "id": "50dfb399",
   "metadata": {},
   "outputs": [],
   "source": [
    "save_results(game_data, results_destination, filename)    "
   ]
  },
  {
   "cell_type": "markdown",
   "id": "ebcc0145",
   "metadata": {},
   "source": [
    "### Results: Datafile"
   ]
  },
  {
   "cell_type": "markdown",
   "id": "0fc26f52",
   "metadata": {},
   "source": [
    "The results are saved, in an excel friendly way. "
   ]
  },
  {
   "cell_type": "markdown",
   "id": "159cdf08",
   "metadata": {},
   "source": [
    "<img src=\"../img/results_example.png\" alt=\"exe\" title=\"exe\" width=\"500\" height=\"500\"/>"
   ]
  },
  {
   "cell_type": "markdown",
   "id": "95e18e99",
   "metadata": {},
   "source": [
    "### Results: End of game screen"
   ]
  },
  {
   "cell_type": "code",
   "execution_count": null,
   "id": "a562039c",
   "metadata": {},
   "outputs": [],
   "source": [
    "To make the game fun we also added a end of game screen, where the player will see some data from their game."
   ]
  },
  {
   "cell_type": "markdown",
   "id": "26fefcae",
   "metadata": {},
   "source": [
    "<img src=\"../img/end_example.png\" alt=\"exe\" title=\"exe\" width=\"300\" height=\"200\"/>"
   ]
  },
  {
   "cell_type": "markdown",
   "id": "85922f9d",
   "metadata": {},
   "source": [
    "To do a quick this we needed to preform a quick analysis of the data in the game.\n",
    "\n",
    "Its done by a function named `results()`:"
   ]
  },
  {
   "cell_type": "code",
   "execution_count": null,
   "id": "d3d9ef2e",
   "metadata": {},
   "outputs": [],
   "source": [
    "def results(data):\n",
    "    holder = \"blank\"\n",
    "    preservative_error = 0\n",
    "    index = [\"card\",\"chosen card\", \"success\", \"matched on categories\", \"active rule\",  \"win streak\"]\n",
    "    # procent_correct\n",
    "    win_list = [item[2] for item in data]\n",
    "    total_correct = sum(win_list)\n",
    "    total_number = len(win_list)\n",
    "    procent_correct = total_correct /total_number * 100\n",
    "    \n",
    "    # Categories completed\n",
    "    win_streak = [item[5]for item in data]\n",
    "    completed = [item[5] for item in data if item[5] == 5]\n",
    "    completed_categories = len(completed)\n",
    "    \n",
    "    # Error type\n",
    "    active_rule = [item[4] for item in data]\n",
    "    matched_categories = [item[3] for item in data]\n",
    "    \n",
    "    for index, (win, rule, matched, streak) in enumerate(zip(win_list, active_rule, matched_categories, win_streak)):\n",
    "        print(index)\n",
    "        if streak == 5:\n",
    "            holder = rule\n",
    "        if win == False and holder in matched:\n",
    "            preservative_error += 1\n",
    "    \n",
    "    \n",
    "    \n",
    "    return procent_correct, completed_categories, preservative_error\n",
    "    "
   ]
  },
  {
   "cell_type": "markdown",
   "id": "25976ed8",
   "metadata": {},
   "source": [
    "This function takes in the datafile and returns us some data that might be fun for the user."
   ]
  }
 ],
 "metadata": {
  "kernelspec": {
   "display_name": "Python 3 (ipykernel)",
   "language": "python",
   "name": "python3"
  },
  "language_info": {
   "codemirror_mode": {
    "name": "ipython",
    "version": 3
   },
   "file_extension": ".py",
   "mimetype": "text/x-python",
   "name": "python",
   "nbconvert_exporter": "python",
   "pygments_lexer": "ipython3",
   "version": "3.11.4"
  }
 },
 "nbformat": 4,
 "nbformat_minor": 5
}
