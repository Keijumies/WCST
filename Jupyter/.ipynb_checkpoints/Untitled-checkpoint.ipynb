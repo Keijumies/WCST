{
 "cells": [
  {
   "cell_type": "markdown",
   "id": "a072410d",
   "metadata": {},
   "source": [
    "Here i will start to create a text based version of the Wisconsin card sorting task"
   ]
  },
  {
   "cell_type": "markdown",
   "id": "5f26dbf5",
   "metadata": {},
   "source": [
    "Instructions for the game: \n",
    "\n",
    "While the game is being played there will be 4 stationary cards on the screen. A card is drawn from the active deck and the player is asked to group the current card with 1 of the 4 stimulus cards. This will continue untill all 64 cards have been sorted. The player will get feedback if the grouping was right or wrong.\n",
    "\n",
    "Hidden rule:\n",
    "\n",
    "The game will randomly determine a starting grouping rule. The player should group the cards based on either, color, shape or number. When 5 cards have been consequtively grouped right. The grouping rule will change to 1 of the 2 other rules."
   ]
  },
  {
   "cell_type": "raw",
   "id": "644e799e",
   "metadata": {},
   "source": [
    "I will import the random libray so that ceirtain methods can be used later."
   ]
  },
  {
   "cell_type": "code",
   "execution_count": 1,
   "id": "1b8551eb",
   "metadata": {},
   "outputs": [],
   "source": [
    "import random"
   ]
  },
  {
   "cell_type": "markdown",
   "id": "1ffdfb62",
   "metadata": {},
   "source": [
    "Here I will start by creating the variables that will make up the cards"
   ]
  },
  {
   "cell_type": "code",
   "execution_count": 2,
   "id": "f2332c4b",
   "metadata": {},
   "outputs": [],
   "source": [
    "number = [1,2,3,4]\n",
    "shape = [\"circle\",\"square\",\"triangle\",\"star\"]\n",
    "color = [\"blue\",\"green\",\"red\",\"yellow\"]"
   ]
  },
  {
   "cell_type": "markdown",
   "id": "4e222cb0",
   "metadata": {},
   "source": [
    "Now theese lists are created and they exist"
   ]
  },
  {
   "cell_type": "code",
   "execution_count": 3,
   "id": "05d6e439",
   "metadata": {},
   "outputs": [
    {
     "name": "stdout",
     "output_type": "stream",
     "text": [
      "['circle', 'square', 'triangle', 'star']\n",
      "['blue', 'green', 'red', 'yellow']\n",
      "[1, 2, 3, 4]\n"
     ]
    }
   ],
   "source": [
    "print(shape)\n",
    "print(color)\n",
    "print(number)"
   ]
  },
  {
   "cell_type": "markdown",
   "id": "da48c5b1",
   "metadata": {},
   "source": [
    "Next I will create an class to construct our deck of cards."
   ]
  },
  {
   "cell_type": "code",
   "execution_count": 4,
   "id": "8852c41e",
   "metadata": {},
   "outputs": [],
   "source": [
    "class Card:\n",
    "    def __init__(self,number,shape,color):\n",
    "        self.number = number\n",
    "        self.shape = shape\n",
    "        self.color = color"
   ]
  },
  {
   "cell_type": "markdown",
   "id": "18c1402d",
   "metadata": {},
   "source": [
    "Here I will make a function that will construct the 64 cards using the card class"
   ]
  },
  {
   "cell_type": "code",
   "execution_count": 5,
   "id": "1c82b673",
   "metadata": {
    "scrolled": true
   },
   "outputs": [],
   "source": [
    "def construct_deck(number,shape,color):\n",
    "    deck = []\n",
    "    for i in number:\n",
    "        for y in shape:\n",
    "            for x in color:\n",
    "                card = Card(i,y,x)\n",
    "                deck.append(card)\n",
    "    return deck\n",
    "                \n",
    "                "
   ]
  },
  {
   "cell_type": "markdown",
   "id": "d4464e14",
   "metadata": {},
   "source": [
    "Here i run the function using the lists containing the variables we want to include in our cards"
   ]
  },
  {
   "cell_type": "code",
   "execution_count": 6,
   "id": "55850481",
   "metadata": {},
   "outputs": [],
   "source": [
    "deck = construct_deck(number,shape,color)"
   ]
  },
  {
   "cell_type": "markdown",
   "id": "8b3f68aa",
   "metadata": {},
   "source": [
    "Now the a deck of 64 cards exist"
   ]
  },
  {
   "cell_type": "code",
   "execution_count": 7,
   "id": "040791c7",
   "metadata": {
    "scrolled": true
   },
   "outputs": [
    {
     "name": "stdout",
     "output_type": "stream",
     "text": [
      "1 circle blue\n",
      "1 circle green\n",
      "1 circle red\n",
      "1 circle yellow\n",
      "1 square blue\n",
      "1 square green\n",
      "1 square red\n",
      "1 square yellow\n",
      "1 triangle blue\n",
      "1 triangle green\n",
      "1 triangle red\n",
      "1 triangle yellow\n",
      "1 star blue\n",
      "1 star green\n",
      "1 star red\n",
      "1 star yellow\n",
      "2 circle blue\n",
      "2 circle green\n",
      "2 circle red\n",
      "2 circle yellow\n",
      "2 square blue\n",
      "2 square green\n",
      "2 square red\n",
      "2 square yellow\n",
      "2 triangle blue\n",
      "2 triangle green\n",
      "2 triangle red\n",
      "2 triangle yellow\n",
      "2 star blue\n",
      "2 star green\n",
      "2 star red\n",
      "2 star yellow\n",
      "3 circle blue\n",
      "3 circle green\n",
      "3 circle red\n",
      "3 circle yellow\n",
      "3 square blue\n",
      "3 square green\n",
      "3 square red\n",
      "3 square yellow\n",
      "3 triangle blue\n",
      "3 triangle green\n",
      "3 triangle red\n",
      "3 triangle yellow\n",
      "3 star blue\n",
      "3 star green\n",
      "3 star red\n",
      "3 star yellow\n",
      "4 circle blue\n",
      "4 circle green\n",
      "4 circle red\n",
      "4 circle yellow\n",
      "4 square blue\n",
      "4 square green\n",
      "4 square red\n",
      "4 square yellow\n",
      "4 triangle blue\n",
      "4 triangle green\n",
      "4 triangle red\n",
      "4 triangle yellow\n",
      "4 star blue\n",
      "4 star green\n",
      "4 star red\n",
      "4 star yellow\n"
     ]
    }
   ],
   "source": [
    "for card in deck:\n",
    "    print(card.number,card.shape,card.color)"
   ]
  },
  {
   "cell_type": "markdown",
   "id": "cf0f743b",
   "metadata": {},
   "source": [
    "I will store a copy of this to another list. It should be usefull for the future to have access to this original deck."
   ]
  },
  {
   "cell_type": "code",
   "execution_count": 8,
   "id": "dc2b2d27",
   "metadata": {},
   "outputs": [],
   "source": [
    "deck_active = deck.copy()"
   ]
  },
  {
   "cell_type": "markdown",
   "id": "429e74e4",
   "metadata": {},
   "source": [
    "Next I will shuffle the order of the cards. Note: using the copy. From here on when doing any changes to the deck we use the copy."
   ]
  },
  {
   "cell_type": "code",
   "execution_count": 9,
   "id": "3a2cad45",
   "metadata": {},
   "outputs": [],
   "source": [
    "random.shuffle(deck_active)"
   ]
  },
  {
   "cell_type": "markdown",
   "id": "56c1e5ba",
   "metadata": {},
   "source": [
    "Now i will again print out the deck too show that the order is random"
   ]
  },
  {
   "cell_type": "code",
   "execution_count": 10,
   "id": "29b6e495",
   "metadata": {
    "scrolled": false
   },
   "outputs": [
    {
     "name": "stdout",
     "output_type": "stream",
     "text": [
      "3 star red\n",
      "4 circle yellow\n",
      "3 square blue\n",
      "3 circle yellow\n",
      "2 circle yellow\n",
      "2 star red\n",
      "4 square yellow\n",
      "1 square green\n",
      "3 square yellow\n",
      "1 square red\n",
      "2 square blue\n",
      "1 square yellow\n",
      "1 triangle red\n",
      "1 star yellow\n",
      "2 square green\n",
      "2 circle red\n",
      "1 star blue\n",
      "1 triangle yellow\n",
      "4 square green\n",
      "1 triangle blue\n",
      "3 triangle green\n",
      "4 triangle red\n",
      "2 circle green\n",
      "2 star yellow\n",
      "3 circle red\n",
      "4 star blue\n",
      "3 square red\n",
      "1 square blue\n",
      "4 star red\n",
      "2 triangle red\n",
      "3 circle green\n",
      "2 circle blue\n",
      "3 triangle red\n",
      "3 star yellow\n",
      "4 triangle green\n",
      "2 triangle yellow\n",
      "2 star blue\n",
      "4 star yellow\n",
      "3 square green\n",
      "4 circle green\n",
      "3 triangle yellow\n",
      "3 circle blue\n",
      "4 square blue\n",
      "4 circle blue\n",
      "4 triangle yellow\n",
      "1 circle blue\n",
      "4 square red\n",
      "1 star red\n",
      "4 triangle blue\n",
      "1 star green\n",
      "1 circle green\n",
      "1 triangle green\n",
      "4 circle red\n",
      "2 square red\n",
      "3 triangle blue\n",
      "1 circle red\n",
      "2 triangle blue\n",
      "2 square yellow\n",
      "4 star green\n",
      "3 star green\n",
      "2 star green\n",
      "1 circle yellow\n",
      "3 star blue\n",
      "2 triangle green\n"
     ]
    }
   ],
   "source": [
    "for card in deck_active:\n",
    "    print(card.number,card.shape,card.color)"
   ]
  },
  {
   "cell_type": "markdown",
   "id": "0e168dee",
   "metadata": {},
   "source": [
    "Here we now have our shuffled list of cards. But we need to create some basic deck mechanisms.\n",
    "1# take out one card from the deck and remove that card from the deck\n",
    "2# display that card\n",
    "\n",
    "\n",
    "1# we can use the pop method that is included in Python list objects.\n",
    "2# We can print out the information of that object(at a later stage we can add pictures of the cards in the deck creation phase)\n"
   ]
  },
  {
   "cell_type": "code",
   "execution_count": 11,
   "id": "9618133e",
   "metadata": {
    "scrolled": true
   },
   "outputs": [
    {
     "name": "stdout",
     "output_type": "stream",
     "text": [
      "2 triangle green\n"
     ]
    }
   ],
   "source": [
    "current_card = deck_active.pop()\n",
    "print(current_card.number,current_card.shape,current_card.color)"
   ]
  },
  {
   "cell_type": "markdown",
   "id": "c2a43ea2",
   "metadata": {},
   "source": [
    "we can see that the card is now remowed from the deck"
   ]
  },
  {
   "cell_type": "code",
   "execution_count": 12,
   "id": "90ab906a",
   "metadata": {
    "scrolled": true
   },
   "outputs": [
    {
     "name": "stdout",
     "output_type": "stream",
     "text": [
      "0 3 star red\n",
      "1 4 circle yellow\n",
      "2 3 square blue\n",
      "3 3 circle yellow\n",
      "4 2 circle yellow\n",
      "5 2 star red\n",
      "6 4 square yellow\n",
      "7 1 square green\n",
      "8 3 square yellow\n",
      "9 1 square red\n",
      "10 2 square blue\n",
      "11 1 square yellow\n",
      "12 1 triangle red\n",
      "13 1 star yellow\n",
      "14 2 square green\n",
      "15 2 circle red\n",
      "16 1 star blue\n",
      "17 1 triangle yellow\n",
      "18 4 square green\n",
      "19 1 triangle blue\n",
      "20 3 triangle green\n",
      "21 4 triangle red\n",
      "22 2 circle green\n",
      "23 2 star yellow\n",
      "24 3 circle red\n",
      "25 4 star blue\n",
      "26 3 square red\n",
      "27 1 square blue\n",
      "28 4 star red\n",
      "29 2 triangle red\n",
      "30 3 circle green\n",
      "31 2 circle blue\n",
      "32 3 triangle red\n",
      "33 3 star yellow\n",
      "34 4 triangle green\n",
      "35 2 triangle yellow\n",
      "36 2 star blue\n",
      "37 4 star yellow\n",
      "38 3 square green\n",
      "39 4 circle green\n",
      "40 3 triangle yellow\n",
      "41 3 circle blue\n",
      "42 4 square blue\n",
      "43 4 circle blue\n",
      "44 4 triangle yellow\n",
      "45 1 circle blue\n",
      "46 4 square red\n",
      "47 1 star red\n",
      "48 4 triangle blue\n",
      "49 1 star green\n",
      "50 1 circle green\n",
      "51 1 triangle green\n",
      "52 4 circle red\n",
      "53 2 square red\n",
      "54 3 triangle blue\n",
      "55 1 circle red\n",
      "56 2 triangle blue\n",
      "57 2 square yellow\n",
      "58 4 star green\n",
      "59 3 star green\n",
      "60 2 star green\n",
      "61 1 circle yellow\n",
      "62 3 star blue\n"
     ]
    }
   ],
   "source": [
    "for index, card in enumerate(deck_active):\n",
    "    print(index, card.number,card.shape,card.color)"
   ]
  },
  {
   "cell_type": "markdown",
   "id": "18cba759",
   "metadata": {},
   "source": [
    "Now i want to create a list of 4 stimulus cards that are used in the game. I pass in the information needed to create them using the Card class and include them in new list."
   ]
  },
  {
   "cell_type": "code",
   "execution_count": 13,
   "id": "58369ad0",
   "metadata": {},
   "outputs": [],
   "source": [
    "stimulus_card = [\n",
    "    Card(1, \"triangle\", \"red\"),\n",
    "    Card(2, \"star\", \"green\"),\n",
    "    Card(3, \"square\", \"yellow\"),\n",
    "    Card(4, \"circle\", \"blue\")\n",
    "]\n"
   ]
  },
  {
   "cell_type": "markdown",
   "id": "7f7c5788",
   "metadata": {},
   "source": [
    "Now we have a working deck. It includes all the 64 cards. Cards can be picked up one at a time and displayed. We also have 4 stimulus cards.\n",
    "Next we will need to setup the game loop.\n",
    "\n",
    "The main game loop should last untill there are cards in the deck and choices to be made.\n",
    "There should be a loop inside the main loop that documents if the grouping choice was right, gives feedback and a new card after the choice is made. Additionally a mechanism must be included that changes the hidden rule after 5 consecutive right answers."
   ]
  },
  {
   "cell_type": "markdown",
   "id": "4821bab9",
   "metadata": {},
   "source": [
    "while deck_active:\n",
    "    a_card = deck_active.pop()\n",
    "    print(f'This is the card you have in hand:{a_card.shape},{a_card.number},{a_card.color}')\n",
    "    print(f'1:{stimulus_card[0].number,stimulus_card[0].shape,stimulus_card[0].color}')\n",
    "    print(f'2:{stimulus_card[1].number,stimulus_card[1].shape,stimulus_card[1].color}')\n",
    "    print(f'3:{stimulus_card[2].number,stimulus_card[2].shape,stimulus_card[2].color}')\n",
    "    print(f'4:{stimulus_card[3].number,stimulus_card[3].shape,stimulus_card[3].color}')\n",
    "    choice = input(\"Type 1,2,3,4 to choose where to group your card\")"
   ]
  },
  {
   "cell_type": "code",
   "execution_count": null,
   "id": "99d6800e",
   "metadata": {},
   "outputs": [],
   "source": []
  }
 ],
 "metadata": {
  "kernelspec": {
   "display_name": "Python 3 (ipykernel)",
   "language": "python",
   "name": "python3"
  },
  "language_info": {
   "codemirror_mode": {
    "name": "ipython",
    "version": 3
   },
   "file_extension": ".py",
   "mimetype": "text/x-python",
   "name": "python",
   "nbconvert_exporter": "python",
   "pygments_lexer": "ipython3",
   "version": "3.9.13"
  }
 },
 "nbformat": 4,
 "nbformat_minor": 5
}
