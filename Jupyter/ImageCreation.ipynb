{
 "cells": [
  {
   "cell_type": "markdown",
   "id": "f799d9f1",
   "metadata": {},
   "source": [
    "In here I will create images with the PIL library. With the aim of creating 64 cards, with 4 different shapes,color,number*shape.\n",
    "\n",
    "Lets start with importing the libary and reading in some shapes.\n",
    "We also import Ipython.display to render the images in Jupyter."
   ]
  },
  {
   "cell_type": "code",
   "execution_count": 20,
   "id": "978bee0e",
   "metadata": {},
   "outputs": [
    {
     "data": {
      "image/png": "[encoded data removed]",
      "text/plain": [
       "<PIL.PngImagePlugin.PngImageFile image mode=LA size=36x36>"
      ]
     },
     "metadata": {},
     "output_type": "display_data"
    },
    {
     "data": {
      "image/png": "[encoded data removed]",
      "text/plain": [
       "<PIL.PngImagePlugin.PngImageFile image mode=LA size=36x36>"
      ]
     },
     "metadata": {},
     "output_type": "display_data"
    },
    {
     "data": {
      "image/png": "[encoded data removed]",
      "text/plain": [
       "<PIL.PngImagePlugin.PngImageFile image mode=LA size=36x36>"
      ]
     },
     "metadata": {},
     "output_type": "display_data"
    },
    {
     "data": {
      "image/png": "[encoded data removed]",
      "text/plain": [
       "<PIL.PngImagePlugin.PngImageFile image mode=LA size=36x36>"
      ]
     },
     "metadata": {},
     "output_type": "display_data"
    }
   ],
   "source": [
    "from PIL import Image, ImageOps\n",
    "from IPython.display import display\n",
    "\n",
    "star = 'shapes/star.png'\n",
    "circle = 'shapes/circle.png'\n",
    "square = 'shapes/square.png'\n",
    "triangle = 'shapes/triangle.png'\n",
    "\n",
    "star = Image.open(star)\n",
    "circle = Image.open(circle)\n",
    "square = Image.open(square)\n",
    "triangle = Image.open(triangle)\n",
    "\n",
    "display(circle)\n",
    "display(square)\n",
    "display(triangle)\n",
    "display(star)\n",
    "\n"
   ]
  },
  {
   "cell_type": "markdown",
   "id": "d68326c5",
   "metadata": {},
   "source": [
    "Now i want to see how to change colors."
   ]
  },
  {
   "cell_type": "code",
   "execution_count": 22,
   "id": "88e45df7",
   "metadata": {},
   "outputs": [
    {
     "ename": "AssertionError",
     "evalue": "",
     "output_type": "error",
     "traceback": [
      "\u001b[1;31m---------------------------------------------------------------------------\u001b[0m",
      "\u001b[1;31mAssertionError\u001b[0m                            Traceback (most recent call last)",
      "Cell \u001b[1;32mIn[22], line 1\u001b[0m\n\u001b[1;32m----> 1\u001b[0m dimg \u001b[38;5;241m=\u001b[39m \u001b[43mImageOps\u001b[49m\u001b[38;5;241;43m.\u001b[39;49m\u001b[43mcolorize\u001b[49m\u001b[43m(\u001b[49m\n\u001b[0;32m      2\u001b[0m \u001b[43m    \u001b[49m\u001b[43mcircle\u001b[49m\u001b[43m,\u001b[49m\n\u001b[0;32m      3\u001b[0m \u001b[43m    \u001b[49m\u001b[43mblack\u001b[49m\u001b[38;5;241;43m=\u001b[39;49m\u001b[38;5;124;43m\"\u001b[39;49m\u001b[38;5;124;43mmidnightblue\u001b[39;49m\u001b[38;5;124;43m\"\u001b[39;49m\u001b[43m,\u001b[49m\u001b[43m \u001b[49m\u001b[43mwhite\u001b[49m\u001b[38;5;241;43m=\u001b[39;49m\u001b[38;5;124;43m\"\u001b[39;49m\u001b[38;5;124;43mwhite\u001b[39;49m\u001b[38;5;124;43m\"\u001b[39;49m\u001b[43m)\u001b[49m\n\u001b[0;32m      5\u001b[0m display(dimg)\n",
      "File \u001b[1;32m~\\anaconda3\\lib\\site-packages\\PIL\\ImageOps.py:183\u001b[0m, in \u001b[0;36mcolorize\u001b[1;34m(image, black, white, mid, blackpoint, whitepoint, midpoint)\u001b[0m\n\u001b[0;32m    159\u001b[0m \u001b[38;5;250m\u001b[39m\u001b[38;5;124;03m\"\"\"\u001b[39;00m\n\u001b[0;32m    160\u001b[0m \u001b[38;5;124;03mColorize grayscale image.\u001b[39;00m\n\u001b[0;32m    161\u001b[0m \u001b[38;5;124;03mThis function calculates a color wedge which maps all black pixels in\u001b[39;00m\n\u001b[1;32m   (...)\u001b[0m\n\u001b[0;32m    179\u001b[0m \u001b[38;5;124;03m:return: An image.\u001b[39;00m\n\u001b[0;32m    180\u001b[0m \u001b[38;5;124;03m\"\"\"\u001b[39;00m\n\u001b[0;32m    182\u001b[0m \u001b[38;5;66;03m# Initial asserts\u001b[39;00m\n\u001b[1;32m--> 183\u001b[0m \u001b[38;5;28;01massert\u001b[39;00m image\u001b[38;5;241m.\u001b[39mmode \u001b[38;5;241m==\u001b[39m \u001b[38;5;124m\"\u001b[39m\u001b[38;5;124mL\u001b[39m\u001b[38;5;124m\"\u001b[39m\n\u001b[0;32m    184\u001b[0m \u001b[38;5;28;01mif\u001b[39;00m mid \u001b[38;5;129;01mis\u001b[39;00m \u001b[38;5;28;01mNone\u001b[39;00m:\n\u001b[0;32m    185\u001b[0m     \u001b[38;5;28;01massert\u001b[39;00m \u001b[38;5;241m0\u001b[39m \u001b[38;5;241m<\u001b[39m\u001b[38;5;241m=\u001b[39m blackpoint \u001b[38;5;241m<\u001b[39m\u001b[38;5;241m=\u001b[39m whitepoint \u001b[38;5;241m<\u001b[39m\u001b[38;5;241m=\u001b[39m \u001b[38;5;241m255\u001b[39m\n",
      "\u001b[1;31mAssertionError\u001b[0m: "
     ]
    }
   ],
   "source": [
    "dimg = ImageOps.colorize(\n",
    "    circle,\n",
    "    black=\"midnightblue\", white=\"white\")\n",
    "    \n",
    "display(dimg)"
   ]
  },
  {
   "cell_type": "code",
   "execution_count": null,
   "id": "d215d4ea",
   "metadata": {},
   "outputs": [],
   "source": []
  }
 ],
 "metadata": {
  "kernelspec": {
   "display_name": "Python 3 (ipykernel)",
   "language": "python",
   "name": "python3"
  },
  "language_info": {
   "codemirror_mode": {
    "name": "ipython",
    "version": 3
   },
   "file_extension": ".py",
   "mimetype": "text/x-python",
   "name": "python",
   "nbconvert_exporter": "python",
   "pygments_lexer": "ipython3",
   "version": "3.9.17"
  }
 },
 "nbformat": 4,
 "nbformat_minor": 5
}
