{
 "cells": [
  {
   "cell_type": "markdown",
   "id": "f799d9f1",
   "metadata": {},
   "source": [
    "In here I will create images with the PIL library. With the aim of creating 64 cards, with 4 different shapes,color,number*shape.\n",
    "\n",
    "Lets start with importing the libary and reading in some shapes.\n",
    "We also import Ipython.display to render the images in Jupyter."
   ]
  },
  {
   "cell_type": "code",
   "execution_count": 23,
   "id": "978bee0e",
   "metadata": {},
   "outputs": [
    {
     "data": {
      "image/png": "[encoded data removed]",
      "text/plain": [
       "<PIL.PngImagePlugin.PngImageFile image mode=LA size=36x36>"
      ]
     },
     "metadata": {},
     "output_type": "display_data"
    },
    {
     "data": {
      "image/png": "[encoded data removed]",
      "text/plain": [
       "<PIL.PngImagePlugin.PngImageFile image mode=LA size=36x36>"
      ]
     },
     "metadata": {},
     "output_type": "display_data"
    },
    {
     "data": {
      "image/png": "[encoded data removed]",
      "text/plain": [
       "<PIL.PngImagePlugin.PngImageFile image mode=LA size=36x36>"
      ]
     },
     "metadata": {},
     "output_type": "display_data"
    },
    {
     "data": {
      "image/png": "[encoded data removed]",
      "text/plain": [
       "<PIL.PngImagePlugin.PngImageFile image mode=LA size=36x36>"
      ]
     },
     "metadata": {},
     "output_type": "display_data"
    }
   ],
   "source": [
    "from PIL import Image, ImageOps\n",
    "from IPython.display import display\n",
    "\n",
    "star = 'shapes/star.png'\n",
    "circle = 'shapes/circle.png'\n",
    "square = 'shapes/square.png'\n",
    "triangle = 'shapes/triangle.png'\n",
    "\n",
    "\n",
    "star = Image.open(star)\n",
    "circle = Image.open(circle)\n",
    "square = Image.open(square)\n",
    "triangle = Image.open(triangle)\n",
    "\n",
    "display(circle)\n",
    "display(square)\n",
    "display(triangle)\n",
    "display(star)\n",
    "\n"
   ]
  },
  {
   "cell_type": "markdown",
   "id": "d68326c5",
   "metadata": {},
   "source": [
    "Now we need to change colors of the images."
   ]
  },
  {
   "cell_type": "markdown",
   "id": "8458b5aa",
   "metadata": {},
   "source": [
    "First lets get the RGB color codes for the colors we want to use.\n",
    "https://html-color.codes/"
   ]
  },
  {
   "cell_type": "code",
   "execution_count": 26,
   "id": "fc9dc7ad",
   "metadata": {},
   "outputs": [],
   "source": [
    "red = (255,36,0)\n",
    "green = (11,218,81)\n",
    "blue = (25,25,112)\n",
    "yellow = (254,219,0)"
   ]
  },
  {
   "cell_type": "markdown",
   "id": "f65fa502",
   "metadata": {},
   "source": [
    "1# First we split the image into parts. The black pixels and transparent pixels with split(), a method available for the image class from the PIL library.\n",
    "\n",
    "2# Then we change the color with ImageOps.colorize. Here we change the black pixels to blue and white pixels to blue. (We dont have any white pixels in our images but the method requires that we set a color)\n",
    "\n",
    "3# Lastly we add the transparent layer back in place.\n",
    "\n"
   ]
  },
  {
   "cell_type": "code",
   "execution_count": null,
   "id": "e73bf604",
   "metadata": {},
   "outputs": [],
   "source": [
    "black, transparent = circle.split()\n",
    "\n",
    "circle_blue = ImageOps.colorize(black, blue, blue)\n",
    "circle_blue.putalpha(transparent)\n",
    "\n",
    "\n",
    "display(circle_blue)"
   ]
  },
  {
   "cell_type": "markdown",
   "id": "98b0aba4",
   "metadata": {},
   "source": [
    "Next i will create a function that colors shapes. For the function i will put the shapes and colors into a list."
   ]
  },
  {
   "cell_type": "code",
   "execution_count": 49,
   "id": "fc73bd6d",
   "metadata": {},
   "outputs": [],
   "source": [
    "shapes = [circle,square,triangle,star]\n",
    "colors = [blue,yellow,red,green]"
   ]
  },
  {
   "cell_type": "code",
   "execution_count": 54,
   "id": "d215d4ea",
   "metadata": {},
   "outputs": [],
   "source": [
    "def color(list_shapes,list_colors):\n",
    "    for shape in list_shapes:\n",
    "        for color in list_colors:\n",
    "            black,transparent = shape.split()\n",
    "            colored_shape = shape\n",
    "            colored_shape = ImageOps.colorize(black,color,color)\n",
    "            colored_shape.putalpha(transparent)\n",
    "            display(colored_shape)\n",
    "    \n",
    "    "
   ]
  },
  {
   "cell_type": "code",
   "execution_count": 55,
   "id": "ae20273b",
   "metadata": {},
   "outputs": [
    {
     "data": {
      "image/png": "[encoded data removed]",
      "text/plain": [
       "<PIL.Image.Image image mode=RGBA size=36x36>"
      ]
     },
     "metadata": {},
     "output_type": "display_data"
    },
    {
     "data": {
      "image/png": "[encoded data removed]",
      "text/plain": [
       "<PIL.Image.Image image mode=RGBA size=36x36>"
      ]
     },
     "metadata": {},
     "output_type": "display_data"
    },
    {
     "data": {
      "image/png": "[encoded data removed]",
      "text/plain": [
       "<PIL.Image.Image image mode=RGBA size=36x36>"
      ]
     },
     "metadata": {},
     "output_type": "display_data"
    },
    {
     "data": {
      "image/png": "[encoded data removed]",
      "text/plain": [
       "<PIL.Image.Image image mode=RGBA size=36x36>"
      ]
     },
     "metadata": {},
     "output_type": "display_data"
    },
    {
     "data": {
      "image/png": "[encoded data removed]",
      "text/plain": [
       "<PIL.Image.Image image mode=RGBA size=36x36>"
      ]
     },
     "metadata": {},
     "output_type": "display_data"
    },
    {
     "data": {
      "image/png": "[encoded data removed]",
      "text/plain": [
       "<PIL.Image.Image image mode=RGBA size=36x36>"
      ]
     },
     "metadata": {},
     "output_type": "display_data"
    },
    {
     "data": {
      "image/png": "[encoded data removed]",
      "text/plain": [
       "<PIL.Image.Image image mode=RGBA size=36x36>"
      ]
     },
     "metadata": {},
     "output_type": "display_data"
    },
    {
     "data": {
      "image/png": "[encoded data removed]",
      "text/plain": [
       "<PIL.Image.Image image mode=RGBA size=36x36>"
      ]
     },
     "metadata": {},
     "output_type": "display_data"
    },
    {
     "data": {
      "image/png": "[encoded data removed]",
      "text/plain": [
       "<PIL.Image.Image image mode=RGBA size=36x36>"
      ]
     },
     "metadata": {},
     "output_type": "display_data"
    },
    {
     "data": {
      "image/png": "[encoded data removed]",
      "text/plain": [
       "<PIL.Image.Image image mode=RGBA size=36x36>"
      ]
     },
     "metadata": {},
     "output_type": "display_data"
    },
    {
     "data": {
      "image/png": "[encoded data removed]",
      "text/plain": [
       "<PIL.Image.Image image mode=RGBA size=36x36>"
      ]
     },
     "metadata": {},
     "output_type": "display_data"
    },
    {
     "data": {
      "image/png": "[encoded data removed]",
      "text/plain": [
       "<PIL.Image.Image image mode=RGBA size=36x36>"
      ]
     },
     "metadata": {},
     "output_type": "display_data"
    },
    {
     "data": {
      "image/png": "[encoded data removed]",
      "text/plain": [
       "<PIL.Image.Image image mode=RGBA size=36x36>"
      ]
     },
     "metadata": {},
     "output_type": "display_data"
    },
    {
     "data": {
      "image/png": "[encoded data removed]",
      "text/plain": [
       "<PIL.Image.Image image mode=RGBA size=36x36>"
      ]
     },
     "metadata": {},
     "output_type": "display_data"
    },
    {
     "data": {
      "image/png": "[encoded data removed]",
      "text/plain": [
       "<PIL.Image.Image image mode=RGBA size=36x36>"
      ]
     },
     "metadata": {},
     "output_type": "display_data"
    },
    {
     "data": {
      "image/png": "[encoded data removed]",
      "text/plain": [
       "<PIL.Image.Image image mode=RGBA size=36x36>"
      ]
     },
     "metadata": {},
     "output_type": "display_data"
    }
   ],
   "source": [
    "color(shapes,colors)"
   ]
  },
  {
   "cell_type": "code",
   "execution_count": null,
   "id": "8f05c57f",
   "metadata": {},
   "outputs": [],
   "source": []
  }
 ],
 "metadata": {
  "kernelspec": {
   "display_name": "Python 3 (ipykernel)",
   "language": "python",
   "name": "python3"
  },
  "language_info": {
   "codemirror_mode": {
    "name": "ipython",
    "version": 3
   },
   "file_extension": ".py",
   "mimetype": "text/x-python",
   "name": "python",
   "nbconvert_exporter": "python",
   "pygments_lexer": "ipython3",
   "version": "3.9.17"
  }
 },
 "nbformat": 4,
 "nbformat_minor": 5
}
