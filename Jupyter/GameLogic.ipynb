{
 "cells": [
  {
   "cell_type": "markdown",
   "id": "7e0fecd2",
   "metadata": {},
   "source": [
    "Here i will start to create a text based version of the Wisconsin card sorting task"
   ]
  },
  {
   "cell_type": "markdown",
   "id": "f1834df2",
   "metadata": {},
   "source": [
    "Instructions for the game: \n",
    "\n",
    "While the game is being played there will be 4 stationary cards on the screen. A card is drawn from the active deck and the player is asked to group the current card with 1 of the 4 stimulus cards. This will continue untill all 64 cards have been sorted. The player will get feedback if the grouping was right or wrong.\n",
    "\n",
    "Hidden rule:\n",
    "\n",
    "The game will randomly determine a starting grouping rule. The player should group the cards based on either, color, shape or number. When 5 cards have been consequtively grouped right. The grouping rule will change to 1 of the 2 other rules."
   ]
  },
  {
   "cell_type": "raw",
   "id": "28c93c64",
   "metadata": {},
   "source": [
    "I will import the random libray so that ceirtain methods can be used later."
   ]
  },
  {
   "cell_type": "code",
   "execution_count": 1,
   "id": "ade3bb85",
   "metadata": {},
   "outputs": [],
   "source": [
    "import random"
   ]
  },
  {
   "cell_type": "markdown",
   "id": "1ffdfb62",
   "metadata": {},
   "source": [
    "Here I will start by creating the variables that will make up the cards"
   ]
  },
  {
   "cell_type": "code",
   "execution_count": 2,
   "id": "f2332c4b",
   "metadata": {},
   "outputs": [],
   "source": [
    "number = [1,2,3,4]\n",
    "shape = [\"circle\",\"square\",\"triangle\",\"star\"]\n",
    "color = [\"blue\",\"green\",\"red\",\"yellow\"]"
   ]
  },
  {
   "cell_type": "markdown",
   "id": "4e222cb0",
   "metadata": {},
   "source": [
    "Now theese lists are created and they exist"
   ]
  },
  {
   "cell_type": "code",
   "execution_count": 3,
   "id": "05d6e439",
   "metadata": {},
   "outputs": [
    {
     "name": "stdout",
     "output_type": "stream",
     "text": [
      "['circle', 'square', 'triangle', 'star']\n",
      "['blue', 'green', 'red', 'yellow']\n",
      "[1, 2, 3, 4]\n"
     ]
    }
   ],
   "source": [
    "print(shape)\n",
    "print(color)\n",
    "print(number)"
   ]
  },
  {
   "cell_type": "markdown",
   "id": "da48c5b1",
   "metadata": {},
   "source": [
    "Next I will create an class to construct our deck of cards."
   ]
  },
  {
   "cell_type": "code",
   "execution_count": 4,
   "id": "8852c41e",
   "metadata": {},
   "outputs": [],
   "source": [
    "class Card:\n",
    "    def __init__(self,number,shape,color):\n",
    "        self.number = number\n",
    "        self.shape = shape\n",
    "        self.color = color"
   ]
  },
  {
   "cell_type": "markdown",
   "id": "18c1402d",
   "metadata": {},
   "source": [
    "Here I will make a function that will construct the 64 cards using the card class"
   ]
  },
  {
   "cell_type": "code",
   "execution_count": 5,
   "id": "1c82b673",
   "metadata": {
    "scrolled": true
   },
   "outputs": [],
   "source": [
    "def construct_deck(number,shape,color):\n",
    "    deck = []\n",
    "    for i in number:\n",
    "        for y in shape:\n",
    "            for x in color:\n",
    "                card = Card(i,y,x)\n",
    "                deck.append(card)\n",
    "    return deck\n",
    "                \n",
    "                "
   ]
  },
  {
   "cell_type": "markdown",
   "id": "a5f0f5e2",
   "metadata": {},
   "source": [
    "Here i run the function using the lists containing the variables we want to include in our cards"
   ]
  },
  {
   "cell_type": "code",
   "execution_count": 6,
   "id": "55850481",
   "metadata": {},
   "outputs": [],
   "source": [
    "deck = construct_deck(number,shape,color)"
   ]
  },
  {
   "cell_type": "markdown",
   "id": "8b3f68aa",
   "metadata": {},
   "source": [
    "Now the a deck of 64 cards exist"
   ]
  },
  {
   "cell_type": "code",
   "execution_count": 7,
   "id": "040791c7",
   "metadata": {
    "scrolled": true
   },
   "outputs": [
    {
     "name": "stdout",
     "output_type": "stream",
     "text": [
      "1 circle blue\n",
      "1 circle green\n",
      "1 circle red\n",
      "1 circle yellow\n",
      "1 square blue\n",
      "1 square green\n",
      "1 square red\n",
      "1 square yellow\n",
      "1 triangle blue\n",
      "1 triangle green\n",
      "1 triangle red\n",
      "1 triangle yellow\n",
      "1 star blue\n",
      "1 star green\n",
      "1 star red\n",
      "1 star yellow\n",
      "2 circle blue\n",
      "2 circle green\n",
      "2 circle red\n",
      "2 circle yellow\n",
      "2 square blue\n",
      "2 square green\n",
      "2 square red\n",
      "2 square yellow\n",
      "2 triangle blue\n",
      "2 triangle green\n",
      "2 triangle red\n",
      "2 triangle yellow\n",
      "2 star blue\n",
      "2 star green\n",
      "2 star red\n",
      "2 star yellow\n",
      "3 circle blue\n",
      "3 circle green\n",
      "3 circle red\n",
      "3 circle yellow\n",
      "3 square blue\n",
      "3 square green\n",
      "3 square red\n",
      "3 square yellow\n",
      "3 triangle blue\n",
      "3 triangle green\n",
      "3 triangle red\n",
      "3 triangle yellow\n",
      "3 star blue\n",
      "3 star green\n",
      "3 star red\n",
      "3 star yellow\n",
      "4 circle blue\n",
      "4 circle green\n",
      "4 circle red\n",
      "4 circle yellow\n",
      "4 square blue\n",
      "4 square green\n",
      "4 square red\n",
      "4 square yellow\n",
      "4 triangle blue\n",
      "4 triangle green\n",
      "4 triangle red\n",
      "4 triangle yellow\n",
      "4 star blue\n",
      "4 star green\n",
      "4 star red\n",
      "4 star yellow\n"
     ]
    }
   ],
   "source": [
    "for card in deck:\n",
    "    print(card.number,card.shape,card.color)"
   ]
  },
  {
   "cell_type": "markdown",
   "id": "94983d0f",
   "metadata": {},
   "source": [
    "I will store a copy of this to another list. It should be usefull for the future to have access to this original deck."
   ]
  },
  {
   "cell_type": "code",
   "execution_count": 8,
   "id": "a4e60343",
   "metadata": {},
   "outputs": [],
   "source": [
    "deck_active = deck.copy()"
   ]
  },
  {
   "cell_type": "markdown",
   "id": "39030509",
   "metadata": {},
   "source": [
    "Next I will shuffle the order of the cards. Note: using the copy. From here on when doing any changes to the deck we use the copy."
   ]
  },
  {
   "cell_type": "code",
   "execution_count": 9,
   "id": "71af0a80",
   "metadata": {},
   "outputs": [],
   "source": [
    "random.shuffle(deck_active)"
   ]
  },
  {
   "cell_type": "markdown",
   "id": "a9d16b48",
   "metadata": {},
   "source": [
    "Now i will again print out the deck too show that the order is random"
   ]
  },
  {
   "cell_type": "code",
   "execution_count": 10,
   "id": "6dc57788",
   "metadata": {
    "scrolled": false
   },
   "outputs": [
    {
     "name": "stdout",
     "output_type": "stream",
     "text": [
      "2 star red\n",
      "2 triangle yellow\n",
      "1 circle green\n",
      "1 star yellow\n",
      "2 square green\n",
      "3 star green\n",
      "1 star blue\n",
      "4 triangle green\n",
      "4 triangle red\n",
      "4 square yellow\n",
      "2 triangle green\n",
      "4 square blue\n",
      "2 circle green\n",
      "4 triangle yellow\n",
      "1 star red\n",
      "2 circle blue\n",
      "3 square green\n",
      "4 star blue\n",
      "4 circle red\n",
      "2 circle yellow\n",
      "2 triangle red\n",
      "3 star yellow\n",
      "1 circle red\n",
      "3 star red\n",
      "3 circle red\n",
      "2 triangle blue\n",
      "1 star green\n",
      "1 triangle yellow\n",
      "4 star green\n",
      "3 triangle green\n",
      "3 square yellow\n",
      "4 square green\n",
      "3 square red\n",
      "1 square red\n",
      "1 square green\n",
      "2 square red\n",
      "2 circle red\n",
      "3 circle yellow\n",
      "2 square yellow\n",
      "3 circle green\n",
      "2 square blue\n",
      "1 circle blue\n",
      "4 circle green\n",
      "3 square blue\n",
      "1 square blue\n",
      "1 square yellow\n",
      "4 star red\n",
      "1 triangle red\n",
      "1 circle yellow\n",
      "4 circle yellow\n",
      "4 star yellow\n",
      "4 triangle blue\n",
      "1 triangle green\n",
      "3 star blue\n",
      "4 circle blue\n",
      "2 star blue\n",
      "3 triangle yellow\n",
      "4 square red\n",
      "3 triangle red\n",
      "2 star green\n",
      "3 circle blue\n",
      "1 triangle blue\n",
      "3 triangle blue\n",
      "2 star yellow\n"
     ]
    }
   ],
   "source": [
    "for card in deck_active:\n",
    "    print(card.number,card.shape,card.color)"
   ]
  },
  {
   "cell_type": "markdown",
   "id": "4a1a921c",
   "metadata": {},
   "source": [
    "Here we now have our shuffled list of cards. But we need to create some basic deck mechanisms.\n",
    "1# take out one card from the deck and remove that card from the deck\n",
    "2# display that card\n",
    "\n",
    "\n",
    "1# we can use the pop method that is included in Python list objects.\n",
    "2# We can print out the information of that object(at a later stage we can add pictures of the cards in the deck creation phase)\n"
   ]
  },
  {
   "cell_type": "code",
   "execution_count": 11,
   "id": "3dc8aa2c",
   "metadata": {
    "scrolled": true
   },
   "outputs": [
    {
     "name": "stdout",
     "output_type": "stream",
     "text": [
      "2 star yellow\n"
     ]
    }
   ],
   "source": [
    "current_card = deck_active.pop()\n",
    "print(current_card.number,current_card.shape,current_card.color)"
   ]
  },
  {
   "cell_type": "markdown",
   "id": "cc7fde62",
   "metadata": {},
   "source": [
    "we can see that the card is now remowed from the deck"
   ]
  },
  {
   "cell_type": "code",
   "execution_count": 12,
   "id": "dbea8cf6",
   "metadata": {
    "scrolled": true
   },
   "outputs": [
    {
     "name": "stdout",
     "output_type": "stream",
     "text": [
      "0 2 star red\n",
      "1 2 triangle yellow\n",
      "2 1 circle green\n",
      "3 1 star yellow\n",
      "4 2 square green\n",
      "5 3 star green\n",
      "6 1 star blue\n",
      "7 4 triangle green\n",
      "8 4 triangle red\n",
      "9 4 square yellow\n",
      "10 2 triangle green\n",
      "11 4 square blue\n",
      "12 2 circle green\n",
      "13 4 triangle yellow\n",
      "14 1 star red\n",
      "15 2 circle blue\n",
      "16 3 square green\n",
      "17 4 star blue\n",
      "18 4 circle red\n",
      "19 2 circle yellow\n",
      "20 2 triangle red\n",
      "21 3 star yellow\n",
      "22 1 circle red\n",
      "23 3 star red\n",
      "24 3 circle red\n",
      "25 2 triangle blue\n",
      "26 1 star green\n",
      "27 1 triangle yellow\n",
      "28 4 star green\n",
      "29 3 triangle green\n",
      "30 3 square yellow\n",
      "31 4 square green\n",
      "32 3 square red\n",
      "33 1 square red\n",
      "34 1 square green\n",
      "35 2 square red\n",
      "36 2 circle red\n",
      "37 3 circle yellow\n",
      "38 2 square yellow\n",
      "39 3 circle green\n",
      "40 2 square blue\n",
      "41 1 circle blue\n",
      "42 4 circle green\n",
      "43 3 square blue\n",
      "44 1 square blue\n",
      "45 1 square yellow\n",
      "46 4 star red\n",
      "47 1 triangle red\n",
      "48 1 circle yellow\n",
      "49 4 circle yellow\n",
      "50 4 star yellow\n",
      "51 4 triangle blue\n",
      "52 1 triangle green\n",
      "53 3 star blue\n",
      "54 4 circle blue\n",
      "55 2 star blue\n",
      "56 3 triangle yellow\n",
      "57 4 square red\n",
      "58 3 triangle red\n",
      "59 2 star green\n",
      "60 3 circle blue\n",
      "61 1 triangle blue\n",
      "62 3 triangle blue\n"
     ]
    }
   ],
   "source": [
    "for index, card in enumerate(deck_active):\n",
    "    print(index, card.number,card.shape,card.color)"
   ]
  },
  {
   "cell_type": "markdown",
   "id": "95930416",
   "metadata": {},
   "source": [
    "Now i want to create a list of 4 stimulus cards that are used in the game. I pass in the information needed to create them using the Card class and include them in new list."
   ]
  },
  {
   "cell_type": "code",
   "execution_count": 13,
   "id": "243ba6cd",
   "metadata": {},
   "outputs": [],
   "source": [
    "stimulus_card = [\n",
    "    Card(1, \"triangle\", \"red\"),\n",
    "    Card(2, \"star\", \"green\"),\n",
    "    Card(3, \"square\", \"yellow\"),\n",
    "    Card(4, \"circle\", \"blue\")\n",
    "]\n"
   ]
  },
  {
   "cell_type": "markdown",
   "id": "5bd2d85e",
   "metadata": {},
   "source": [
    "Now we have a working deck. It includes all the 64 cards. Cards can be picked up one at a time and displayed. We also have 4 stimulus cards.\n",
    "Next we will need to setup the game loop.\n",
    "\n",
    "The main game loop should last untill there are cards in the deck and choices to be made.\n",
    "There should be a loop inside the main loop that documents if the grouping choice was right, gives feedback and a new card after the choice is made. Additionally a mechanism must be included that changes the hidden rule after 5 consecutive right answers."
   ]
  },
  {
   "cell_type": "markdown",
   "id": "0b53056c",
   "metadata": {},
   "source": [
    "For the protoype i will also be running the following game loops with a deck of 7 cards so that all the test runs will be shorter. Also, after the game loop is done, i refresh the deck, so that the later trials will work."
   ]
  },
  {
   "cell_type": "code",
   "execution_count": 14,
   "id": "fec40e53",
   "metadata": {},
   "outputs": [],
   "source": [
    "deck_active_short = deck_active[:7]"
   ]
  },
  {
   "cell_type": "code",
   "execution_count": 15,
   "id": "3add9334",
   "metadata": {},
   "outputs": [
    {
     "name": "stdout",
     "output_type": "stream",
     "text": [
      "This is the card you have in hand:star,1,blue\n",
      "0:(1, 'triangle', 'red')\n",
      "1:(2, 'star', 'green')\n",
      "2:(3, 'square', 'yellow')\n",
      "3:(4, 'circle', 'blue')\n",
      "Type 0,1,2,3 to choose where to group your card: 1\n",
      "This is the card you have in hand:star,3,green\n",
      "0:(1, 'triangle', 'red')\n",
      "1:(2, 'star', 'green')\n",
      "2:(3, 'square', 'yellow')\n",
      "3:(4, 'circle', 'blue')\n",
      "Type 0,1,2,3 to choose where to group your card: 1\n",
      "This is the card you have in hand:square,2,green\n",
      "0:(1, 'triangle', 'red')\n",
      "1:(2, 'star', 'green')\n",
      "2:(3, 'square', 'yellow')\n",
      "3:(4, 'circle', 'blue')\n",
      "Type 0,1,2,3 to choose where to group your card: 1\n",
      "This is the card you have in hand:star,1,yellow\n",
      "0:(1, 'triangle', 'red')\n",
      "1:(2, 'star', 'green')\n",
      "2:(3, 'square', 'yellow')\n",
      "3:(4, 'circle', 'blue')\n",
      "Type 0,1,2,3 to choose where to group your card: 1\n",
      "This is the card you have in hand:circle,1,green\n",
      "0:(1, 'triangle', 'red')\n",
      "1:(2, 'star', 'green')\n",
      "2:(3, 'square', 'yellow')\n",
      "3:(4, 'circle', 'blue')\n",
      "Type 0,1,2,3 to choose where to group your card: 1\n",
      "This is the card you have in hand:triangle,2,yellow\n",
      "0:(1, 'triangle', 'red')\n",
      "1:(2, 'star', 'green')\n",
      "2:(3, 'square', 'yellow')\n",
      "3:(4, 'circle', 'blue')\n",
      "Type 0,1,2,3 to choose where to group your card: 1\n",
      "This is the card you have in hand:star,2,red\n",
      "0:(1, 'triangle', 'red')\n",
      "1:(2, 'star', 'green')\n",
      "2:(3, 'square', 'yellow')\n",
      "3:(4, 'circle', 'blue')\n",
      "Type 0,1,2,3 to choose where to group your card: 1\n"
     ]
    }
   ],
   "source": [
    "while deck_active_short:\n",
    "    a_card = deck_active_short.pop()\n",
    "    print(f'This is the card you have in hand:{a_card.shape},{a_card.number},{a_card.color}')\n",
    "    print(f'0:{stimulus_card[0].number,stimulus_card[0].shape,stimulus_card[0].color}')\n",
    "    print(f'1:{stimulus_card[1].number,stimulus_card[1].shape,stimulus_card[1].color}')\n",
    "    print(f'2:{stimulus_card[2].number,stimulus_card[2].shape,stimulus_card[2].color}')\n",
    "    print(f'3:{stimulus_card[3].number,stimulus_card[3].shape,stimulus_card[3].color}')\n",
    "    choice = int(input(\"Type 0,1,2,3 to choose where to group your card: \"))\n",
    "\n",
    "deck_active_short = deck_active[:7]"
   ]
  },
  {
   "cell_type": "markdown",
   "id": "e80249aa",
   "metadata": {},
   "source": [
    "Now there should be a mechanism that checks if the choise was right based on the hidden rule.\n",
    "\n",
    "So all the cards have three different variables. Number, shape and color.\n",
    "The hidden rule will determine on what metric the cards will be compared.\n",
    "Lets say the rule is color: Then the cards should be compared if they indeed have the same color.\n",
    "This could be possible done with BOOLEANS.\n",
    "\n",
    "Also, getattr() will be needed to gain access to the object values.\n",
    "    \n"
   ]
  },
  {
   "cell_type": "code",
   "execution_count": 16,
   "id": "d3b33964",
   "metadata": {},
   "outputs": [],
   "source": [
    "rule = ['number','shape','color']\n",
    "active_rule = random.choice(rule)\n",
    "\n",
    "def feedback(active_rule,choice):\n",
    "    print(getattr(stimulus_card[choice], active_rule) == getattr(a_card, active_rule))\n",
    "\n"
   ]
  },
  {
   "cell_type": "markdown",
   "id": "e6be978b",
   "metadata": {},
   "source": [
    " "
   ]
  },
  {
   "cell_type": "markdown",
   "id": "a4c862ee",
   "metadata": {},
   "source": [
    "This now works and we can implement it into the game loop to test it in action."
   ]
  },
  {
   "cell_type": "code",
   "execution_count": null,
   "id": "ea0315c0",
   "metadata": {},
   "outputs": [],
   "source": [
    "while deck_active_short:\n",
    "    a_card = deck_active_short.pop()\n",
    "    print(f'This is the card you have in hand:{a_card.shape},{a_card.number},{a_card.color}')\n",
    "    print(f'0:{stimulus_card[0].number,stimulus_card[0].shape,stimulus_card[0].color}')\n",
    "    print(f'1:{stimulus_card[1].number,stimulus_card[1].shape,stimulus_card[1].color}')\n",
    "    print(f'2:{stimulus_card[2].number,stimulus_card[2].shape,stimulus_card[2].color}')\n",
    "    print(f'3:{stimulus_card[3].number,stimulus_card[3].shape,stimulus_card[3].color}')\n",
    "    choice = int(input(\"Type 0,1,2,3 to choose where to group your card\"))\n",
    "    feedback(active_rule,choice)\n",
    "    print (f\"The active rule was:{active_rule}\")\n",
    "    print(\"_____________________________________\")\n",
    "\n",
    "deck_active_short = deck_active[:7]"
   ]
  },
  {
   "cell_type": "markdown",
   "id": "e7bd06ef",
   "metadata": {},
   "source": [
    "Next we want to make the rule change if 5 consequtive answers are right. To do this we have to initiate a counter.\n",
    "First we will set a global variable.\n",
    "We will make a function that adds to the counter for consequtive right answers and if the answer is wrong resets the counter to 0. This function takes in the result of the feedback function, therefore we also change the function to return a true or false value instead of printing it."
   ]
  },
  {
   "cell_type": "code",
   "execution_count": 18,
   "id": "e7ca0156",
   "metadata": {},
   "outputs": [],
   "source": [
    "winning_streak = 0\n",
    "\n",
    "\n",
    "def feedback(active_rule,choice):\n",
    "    return getattr(stimulus_card[choice], active_rule) == getattr(a_card, active_rule)"
   ]
  },
  {
   "cell_type": "code",
   "execution_count": 19,
   "id": "40e9b302",
   "metadata": {},
   "outputs": [],
   "source": [
    "def update_streak(win):\n",
    "    global winning_streak\n",
    "    if win:\n",
    "         winning_streak += 1\n",
    "         print(f\"Streak:{winning_streak}\")\n",
    "         return winning_streak\n",
    "    else:\n",
    "         winning_streak = 0\n",
    "         print(f\"Streak:{winning_streak}\")\n",
    "         return winning_streak"
   ]
  },
  {
   "cell_type": "markdown",
   "id": "733372aa",
   "metadata": {},
   "source": [
    "Now lets set it into the game loop."
   ]
  },
  {
   "cell_type": "code",
   "execution_count": 20,
   "id": "c4e2e30c",
   "metadata": {},
   "outputs": [
    {
     "name": "stdout",
     "output_type": "stream",
     "text": [
      "This is the card you have in hand:star,1,blue\n",
      "0:(1, 'triangle', 'red')\n",
      "1:(2, 'star', 'green')\n",
      "2:(3, 'square', 'yellow')\n",
      "3:(4, 'circle', 'blue')\n",
      "Type 0,1,2,3 to choose where to group your card1\n",
      "0\n",
      "This is the card you have in hand:star,3,green\n",
      "0:(1, 'triangle', 'red')\n",
      "1:(2, 'star', 'green')\n",
      "2:(3, 'square', 'yellow')\n",
      "3:(4, 'circle', 'blue')\n",
      "Type 0,1,2,3 to choose where to group your card1\n",
      "1\n",
      "This is the card you have in hand:square,2,green\n",
      "0:(1, 'triangle', 'red')\n",
      "1:(2, 'star', 'green')\n",
      "2:(3, 'square', 'yellow')\n",
      "3:(4, 'circle', 'blue')\n",
      "Type 0,1,2,3 to choose where to group your card3\n",
      "0\n",
      "This is the card you have in hand:star,1,yellow\n",
      "0:(1, 'triangle', 'red')\n",
      "1:(2, 'star', 'green')\n",
      "2:(3, 'square', 'yellow')\n",
      "3:(4, 'circle', 'blue')\n",
      "Type 0,1,2,3 to choose where to group your card1\n",
      "0\n",
      "This is the card you have in hand:circle,1,green\n",
      "0:(1, 'triangle', 'red')\n",
      "1:(2, 'star', 'green')\n",
      "2:(3, 'square', 'yellow')\n",
      "3:(4, 'circle', 'blue')\n",
      "Type 0,1,2,3 to choose where to group your card2\n",
      "0\n",
      "This is the card you have in hand:triangle,2,yellow\n",
      "0:(1, 'triangle', 'red')\n",
      "1:(2, 'star', 'green')\n",
      "2:(3, 'square', 'yellow')\n",
      "3:(4, 'circle', 'blue')\n",
      "Type 0,1,2,3 to choose where to group your card3\n",
      "0\n",
      "This is the card you have in hand:star,2,red\n",
      "0:(1, 'triangle', 'red')\n",
      "1:(2, 'star', 'green')\n",
      "2:(3, 'square', 'yellow')\n",
      "3:(4, 'circle', 'blue')\n",
      "Type 0,1,2,3 to choose where to group your card2\n",
      "0\n"
     ]
    }
   ],
   "source": [
    "while deck_active_short:\n",
    "    a_card = deck_active_short.pop()\n",
    "    print(f'This is the card you have in hand:{a_card.shape},{a_card.number},{a_card.color}')\n",
    "    print(f'0:{stimulus_card[0].number,stimulus_card[0].shape,stimulus_card[0].color}')\n",
    "    print(f'1:{stimulus_card[1].number,stimulus_card[1].shape,stimulus_card[1].color}')\n",
    "    print(f'2:{stimulus_card[2].number,stimulus_card[2].shape,stimulus_card[2].color}')\n",
    "    print(f'3:{stimulus_card[3].number,stimulus_card[3].shape,stimulus_card[3].color}')\n",
    "    choice = int(input(\"Type 0,1,2,3 to choose where to group your card\"))\n",
    "    win = feedback(active_rule,choice)\n",
    "    update_streak(win)\n",
    "\n",
    "deck_active_short = deck_active[:7]"
   ]
  },
  {
   "cell_type": "markdown",
   "id": "71d38e4f",
   "metadata": {},
   "source": []
  },
  {
   "cell_type": "markdown",
   "id": "e8b43f9d",
   "metadata": {},
   "source": [
    "Next we will create a function that changes the active rule after the winning streak is 5 or more. The change is also done in a way that the same rulesett cannot be had twice in a row."
   ]
  },
  {
   "cell_type": "code",
   "execution_count": 21,
   "id": "f3a81375",
   "metadata": {},
   "outputs": [],
   "source": [
    "def change_rule():\n",
    "    global winning_streak\n",
    "    global active_rule\n",
    "    new_rule = []\n",
    "    if winning_streak >= 5:\n",
    "        new_rule = random.choice(rule)\n",
    "        while new_rule == active_rule:\n",
    "            new_rule = random.choice(rule)\n",
    "        active_rule = new_rule\n",
    "        winning_streak = 0\n",
    "        print(active_rule)"
   ]
  },
  {
   "cell_type": "markdown",
   "id": "1ae6d40d",
   "metadata": {},
   "source": [
    "Now we implement this into the gameloop. I will also print the active rule, so that 5 consequtive correct answers will be easy to get and so easily tested."
   ]
  },
  {
   "cell_type": "code",
   "execution_count": 1,
   "id": "d2c287d0",
   "metadata": {},
   "outputs": [
    {
     "ename": "NameError",
     "evalue": "name 'active_rule' is not defined",
     "output_type": "error",
     "traceback": [
      "\u001b[1;31m---------------------------------------------------------------------------\u001b[0m",
      "\u001b[1;31mNameError\u001b[0m                                 Traceback (most recent call last)",
      "Cell \u001b[1;32mIn[1], line 1\u001b[0m\n\u001b[1;32m----> 1\u001b[0m \u001b[38;5;28mprint\u001b[39m(\u001b[38;5;124mf\u001b[39m\u001b[38;5;124m\"\u001b[39m\u001b[38;5;124mThe active rule is: \u001b[39m\u001b[38;5;132;01m{\u001b[39;00mactive_rule\u001b[38;5;132;01m}\u001b[39;00m\u001b[38;5;124m\"\u001b[39m)\n\u001b[0;32m      2\u001b[0m \u001b[38;5;28;01mwhile\u001b[39;00m deck_active_short:\n\u001b[0;32m      3\u001b[0m     a_card \u001b[38;5;241m=\u001b[39m deck_active_short\u001b[38;5;241m.\u001b[39mpop()\n",
      "\u001b[1;31mNameError\u001b[0m: name 'active_rule' is not defined"
     ]
    }
   ],
   "source": [
    "print(f\"The active rule is: {active_rule}\")\n",
    "while deck_active_short:\n",
    "    a_card = deck_active_short.pop()\n",
    "    print(f'This is the card you have in hand:{a_card.shape},{a_card.number},{a_card.color}')\n",
    "    print(f'0:{stimulus_card[0].number,stimulus_card[0].shape,stimulus_card[0].color}')\n",
    "    print(f'1:{stimulus_card[1].number,stimulus_card[1].shape,stimulus_card[1].color}')\n",
    "    print(f'2:{stimulus_card[2].number,stimulus_card[2].shape,stimulus_card[2].color}')\n",
    "    print(f'3:{stimulus_card[3].number,stimulus_card[3].shape,stimulus_card[3].color}')\n",
    "    choice = int(input(\"Type 0,1,2,3 to choose where to group your card\"))\n",
    "    win = feedback(active_rule,choice)\n",
    "    update_streak(win)\n",
    "    change_rule()\n",
    "    print(\"_____________________________________________________________________\")\n",
    "    print(\"_____________________________________________________________________\")\n",
    "\n",
    "deck_active_short = deck_active[:7]"
   ]
  },
  {
   "cell_type": "code",
   "execution_count": null,
   "id": "ea86ad4d",
   "metadata": {},
   "outputs": [],
   "source": []
  }
 ],
 "metadata": {
  "kernelspec": {
   "display_name": "Python 3 (ipykernel)",
   "language": "python",
   "name": "python3"
  },
  "language_info": {
   "codemirror_mode": {
    "name": "ipython",
    "version": 3
   },
   "file_extension": ".py",
   "mimetype": "text/x-python",
   "name": "python",
   "nbconvert_exporter": "python",
   "pygments_lexer": "ipython3",
   "version": "3.9.17"
  }
 },
 "nbformat": 4,
 "nbformat_minor": 5
}
