{
 "cells": [
  {
   "cell_type": "markdown",
   "id": "c9685470",
   "metadata": {},
   "source": [
    "I will import the random libray so that ceirtain methods can be used later."
   ]
  },
  {
   "cell_type": "code",
   "execution_count": 1,
   "id": "b8cd01de",
   "metadata": {},
   "outputs": [],
   "source": [
    "import random"
   ]
  },
  {
   "cell_type": "markdown",
   "id": "1ffdfb62",
   "metadata": {},
   "source": [
    "Here I will start by creating the variables that will make up the cards"
   ]
  },
  {
   "cell_type": "code",
   "execution_count": 2,
   "id": "f2332c4b",
   "metadata": {},
   "outputs": [],
   "source": [
    "number = [1,2,3,4]\n",
    "shape = [\"circle\",\"square\",\"triange\",\"star\"]\n",
    "color = [\"blue\",\"green\",\"red\",\"yellow\"]"
   ]
  },
  {
   "cell_type": "markdown",
   "id": "4e222cb0",
   "metadata": {},
   "source": [
    "Now theese lists are created and they exist"
   ]
  },
  {
   "cell_type": "code",
   "execution_count": 3,
   "id": "05d6e439",
   "metadata": {},
   "outputs": [
    {
     "name": "stdout",
     "output_type": "stream",
     "text": [
      "['circle', 'square', 'triange', 'star']\n",
      "['blue', 'green', 'red', 'yellow']\n",
      "[1, 2, 3, 4]\n"
     ]
    }
   ],
   "source": [
    "print(shape)\n",
    "print(color)\n",
    "print(number)"
   ]
  },
  {
   "cell_type": "markdown",
   "id": "da48c5b1",
   "metadata": {},
   "source": [
    "Next I will create an class to construct our deck of cards."
   ]
  },
  {
   "cell_type": "code",
   "execution_count": 4,
   "id": "8852c41e",
   "metadata": {},
   "outputs": [],
   "source": [
    "class Card:\n",
    "    def __init__(self,number,shape,color):\n",
    "        self.number = number\n",
    "        self.shape = shape\n",
    "        self.color = color"
   ]
  },
  {
   "cell_type": "markdown",
   "id": "18c1402d",
   "metadata": {},
   "source": [
    "Here I will make a function that will construct the 64 cards using the card class"
   ]
  },
  {
   "cell_type": "code",
   "execution_count": 5,
   "id": "1c82b673",
   "metadata": {
    "scrolled": true
   },
   "outputs": [],
   "source": [
    "def construct_deck(number,shape,color):\n",
    "    deck = []\n",
    "    for i in number:\n",
    "        for y in shape:\n",
    "            for x in color:\n",
    "                card = Card(i,y,x)\n",
    "                deck.append(card)\n",
    "    return deck\n",
    "                \n",
    "                "
   ]
  },
  {
   "cell_type": "markdown",
   "id": "b32c5cb0",
   "metadata": {},
   "source": [
    "Here i run the function using the lists containing the variables we want to inclde in our cards"
   ]
  },
  {
   "cell_type": "code",
   "execution_count": 6,
   "id": "55850481",
   "metadata": {},
   "outputs": [],
   "source": [
    "deck = construct_deck(number,shape,color)"
   ]
  },
  {
   "cell_type": "markdown",
   "id": "8b3f68aa",
   "metadata": {},
   "source": [
    "Now the a deck of 64 cards exist"
   ]
  },
  {
   "cell_type": "code",
   "execution_count": 7,
   "id": "040791c7",
   "metadata": {
    "scrolled": false
   },
   "outputs": [
    {
     "name": "stdout",
     "output_type": "stream",
     "text": [
      "1 circle blue\n",
      "1 circle green\n",
      "1 circle red\n",
      "1 circle yellow\n",
      "1 square blue\n",
      "1 square green\n",
      "1 square red\n",
      "1 square yellow\n",
      "1 triange blue\n",
      "1 triange green\n",
      "1 triange red\n",
      "1 triange yellow\n",
      "1 star blue\n",
      "1 star green\n",
      "1 star red\n",
      "1 star yellow\n",
      "2 circle blue\n",
      "2 circle green\n",
      "2 circle red\n",
      "2 circle yellow\n",
      "2 square blue\n",
      "2 square green\n",
      "2 square red\n",
      "2 square yellow\n",
      "2 triange blue\n",
      "2 triange green\n",
      "2 triange red\n",
      "2 triange yellow\n",
      "2 star blue\n",
      "2 star green\n",
      "2 star red\n",
      "2 star yellow\n",
      "3 circle blue\n",
      "3 circle green\n",
      "3 circle red\n",
      "3 circle yellow\n",
      "3 square blue\n",
      "3 square green\n",
      "3 square red\n",
      "3 square yellow\n",
      "3 triange blue\n",
      "3 triange green\n",
      "3 triange red\n",
      "3 triange yellow\n",
      "3 star blue\n",
      "3 star green\n",
      "3 star red\n",
      "3 star yellow\n",
      "4 circle blue\n",
      "4 circle green\n",
      "4 circle red\n",
      "4 circle yellow\n",
      "4 square blue\n",
      "4 square green\n",
      "4 square red\n",
      "4 square yellow\n",
      "4 triange blue\n",
      "4 triange green\n",
      "4 triange red\n",
      "4 triange yellow\n",
      "4 star blue\n",
      "4 star green\n",
      "4 star red\n",
      "4 star yellow\n"
     ]
    }
   ],
   "source": [
    "for card in deck:\n",
    "    print(card.number,card.shape,card.color)"
   ]
  },
  {
   "cell_type": "markdown",
   "id": "6c52403c",
   "metadata": {},
   "source": [
    "I will store a copy of this to another list. It should be usefull for the future to have access to this original deck."
   ]
  },
  {
   "cell_type": "code",
   "execution_count": 8,
   "id": "6d89811b",
   "metadata": {},
   "outputs": [],
   "source": [
    "deck_active = deck.copy()"
   ]
  },
  {
   "cell_type": "markdown",
   "id": "fbb13ae3",
   "metadata": {},
   "source": [
    "Next I will shuffle the order of the cards. Note: using the copy. From here on when doing any changes to the deck we use the copy."
   ]
  },
  {
   "cell_type": "code",
   "execution_count": 9,
   "id": "a71daec9",
   "metadata": {},
   "outputs": [],
   "source": [
    "random.shuffle(deck_active)"
   ]
  },
  {
   "cell_type": "markdown",
   "id": "dc50694f",
   "metadata": {},
   "source": [
    "Now i will again print out the deck too show that the order is random"
   ]
  },
  {
   "cell_type": "code",
   "execution_count": 10,
   "id": "54820fbd",
   "metadata": {
    "scrolled": false
   },
   "outputs": [
    {
     "name": "stdout",
     "output_type": "stream",
     "text": [
      "3 triange red\n",
      "1 star yellow\n",
      "3 triange blue\n",
      "4 triange red\n",
      "4 square yellow\n",
      "1 star blue\n",
      "1 circle red\n",
      "2 triange red\n",
      "4 star green\n",
      "3 triange green\n",
      "4 circle red\n",
      "4 triange green\n",
      "2 circle yellow\n",
      "2 square blue\n",
      "3 square green\n",
      "2 star green\n",
      "1 triange yellow\n",
      "4 star yellow\n",
      "3 circle yellow\n",
      "3 square red\n",
      "4 circle blue\n",
      "2 star yellow\n",
      "2 triange yellow\n",
      "1 square red\n",
      "2 circle blue\n",
      "2 triange green\n",
      "3 triange yellow\n",
      "1 square yellow\n",
      "1 triange blue\n",
      "2 square green\n",
      "1 circle green\n",
      "3 circle blue\n",
      "1 circle yellow\n",
      "3 circle red\n",
      "1 square green\n",
      "4 square blue\n",
      "3 square yellow\n",
      "3 star yellow\n",
      "2 star blue\n",
      "2 triange blue\n",
      "4 square red\n",
      "1 star green\n",
      "3 star green\n",
      "4 circle yellow\n",
      "3 square blue\n",
      "2 circle green\n",
      "1 square blue\n",
      "3 star red\n",
      "4 triange yellow\n",
      "1 star red\n",
      "1 triange red\n",
      "4 star blue\n",
      "4 star red\n",
      "4 square green\n",
      "2 square yellow\n",
      "3 circle green\n",
      "2 circle red\n",
      "4 triange blue\n",
      "2 star red\n",
      "3 star blue\n",
      "1 triange green\n",
      "1 circle blue\n",
      "4 circle green\n",
      "2 square red\n"
     ]
    }
   ],
   "source": [
    "for card in deck_active:\n",
    "    print(card.number,card.shape,card.color)"
   ]
  },
  {
   "cell_type": "markdown",
   "id": "c5a91837",
   "metadata": {},
   "source": [
    "Here we now have our shuffled list of cards. But we need to create some basic deck mechanisms.\n",
    "1# take out one card from the deck and remove that card from the deck\n",
    "2# display that card\n",
    "\n",
    "\n",
    "1# we can use the pop method that is included in Python list objects.\n",
    "2# We can print out the information of that object(at a later stage we can add pictures of the cards in the deck creation phase)\n"
   ]
  },
  {
   "cell_type": "code",
   "execution_count": null,
   "id": "132370ca",
   "metadata": {},
   "outputs": [],
   "source": []
  }
 ],
 "metadata": {
  "kernelspec": {
   "display_name": "Python 3 (ipykernel)",
   "language": "python",
   "name": "python3"
  },
  "language_info": {
   "codemirror_mode": {
    "name": "ipython",
    "version": 3
   },
   "file_extension": ".py",
   "mimetype": "text/x-python",
   "name": "python",
   "nbconvert_exporter": "python",
   "pygments_lexer": "ipython3",
   "version": "3.9.13"
  }
 },
 "nbformat": 4,
 "nbformat_minor": 5
}
