{
 "cells": [
  {
   "cell_type": "markdown",
   "id": "d34d7c87",
   "metadata": {},
   "source": [
    "In here I will work out the logging of results.\n"
   ]
  },
  {
   "cell_type": "markdown",
   "id": "5bf69fbb",
   "metadata": {},
   "source": [
    "In the WCST there are interesting datapoints that are used in the analysis.\n",
    "Because the WSCT analysis procedure is behind a paywall. I will have to improvize, the information will be the same as in the official WSCT but the format and way to the answers will have to be solved. Underneath is the information that the logger should return.\n",
    "\n",
    "Correct/Incorrect responses: 0/1\n",
    "\n",
    "Categories completed: How many rule changes\n",
    "\n",
    "Preservative errors: A value of how much the participants keep sorting to a rule even after negative feedback.\n",
    "\n",
    "Difficulty of maintaining set Once a participant has gotten 2 or more correct answers in a row, how many times will they fail to maintain the streak."
   ]
  },
  {
   "cell_type": "markdown",
   "id": "57d7c5d7",
   "metadata": {},
   "source": [
    "To get this data, we need to first implement a basic way of tracking if and logging how many correct responses are made in each run.\n",
    "\n",
    "This will be done simply with a list.\n",
    "The list should contain tuples: theese tuples represent a trial.\n",
    "\n",
    "At list index 0 we have the first trial, at 1 the second etc... Then inside the tuples, first value is success:0/1, second value is sorted by rule 1/2/3, third value is active rule 1/2/3\n",
    "\n"
   ]
  },
  {
   "cell_type": "code",
   "execution_count": null,
   "id": "1dee6821",
   "metadata": {},
   "outputs": [],
   "source": [
    "# [(reponse1),(response2)]\n",
    "# response = (correct,mathced_by_rule,actice_rule)\n",
    "data = [(1,2,2),(0,3,2)]\n"
   ]
  },
  {
   "cell_type": "code",
   "execution_count": null,
   "id": "f44d09c7",
   "metadata": {},
   "outputs": [],
   "source": [
    "Here we see that the first response was corretly sorted by rule 2. \n",
    "The second response was wrongly sorted by rule 3.\n",
    "If im not mistaken by this point, this is all the information we need to get the data we are interested in.\n",
    "possibly it would make it easier if we also stored the win streak.\n"
   ]
  },
  {
   "cell_type": "code",
   "execution_count": 4,
   "id": "b94786c5",
   "metadata": {},
   "outputs": [],
   "source": [
    "# [(reponse1),(response2)]\n",
    "# response = (correct,mathced_by_rule,actice_rule,streak)\n",
    "data = [(1,2,2,1),(0,3,2,0)]"
   ]
  },
  {
   "cell_type": "markdown",
   "id": "73f0b120",
   "metadata": {},
   "source": [
    "Now for example: correct responses in %:\n",
    "\n",
    "for log in data:\n",
    "    "
   ]
  },
  {
   "cell_type": "code",
   "execution_count": 10,
   "id": "7dd19958",
   "metadata": {},
   "outputs": [
    {
     "name": "stdout",
     "output_type": "stream",
     "text": [
      "0.5\n"
     ]
    }
   ],
   "source": [
    "#correct_procent\n",
    "cumulative = 0\n",
    "for number, log in enumerate(data):\n",
    "    cumulative += log[0]\n",
    "correct_procent = cumulative / (number + 1)\n",
    "print(correct_procent)"
   ]
  },
  {
   "cell_type": "markdown",
   "id": "3a6bda5f",
   "metadata": {},
   "source": [
    "Hmmm. The rest of the code will be easier to write inside the existing GameLogic script."
   ]
  },
  {
   "cell_type": "markdown",
   "id": "1c5aa2b5",
   "metadata": {},
   "source": [
    "continuation of this is found in analysis.ipynb"
   ]
  },
  {
   "cell_type": "code",
   "execution_count": null,
   "id": "d317b6fb",
   "metadata": {},
   "outputs": [],
   "source": []
  }
 ],
 "metadata": {
  "kernelspec": {
   "display_name": "Python 3 (ipykernel)",
   "language": "python",
   "name": "python3"
  },
  "language_info": {
   "codemirror_mode": {
    "name": "ipython",
    "version": 3
   },
   "file_extension": ".py",
   "mimetype": "text/x-python",
   "name": "python",
   "nbconvert_exporter": "python",
   "pygments_lexer": "ipython3",
   "version": "3.11.4"
  }
 },
 "nbformat": 4,
 "nbformat_minor": 5
}
