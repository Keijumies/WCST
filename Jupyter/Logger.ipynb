{
 "cells": [
  {
   "cell_type": "markdown",
   "id": "e8144764",
   "metadata": {},
   "source": [
    "In here I will work out the logging of results.\n",
    "\n",
    "To start of i want to document the participant id."
   ]
  },
  {
   "cell_type": "code",
   "execution_count": 2,
   "id": "50417fa7",
   "metadata": {},
   "outputs": [
    {
     "name": "stdout",
     "output_type": "stream",
     "text": [
      "Type your name:otto\n",
      "id:otto\n"
     ]
    }
   ],
   "source": [
    "id = input(\"Type your name:\")\n",
    "print(f\"id:{id}\")"
   ]
  },
  {
   "cell_type": "markdown",
   "id": "71cd7d8d",
   "metadata": {},
   "source": [
    "In the WCST there are interesting datapoints that are used in the analysis.\n",
    "Because of copyright issues and mainly because the WSCT analysis procedure is behind a paywall. I will have to improvize, the information will be the same as in the official WSCT but the format and way to the answers will have to be solved. Underneath is the information that the logger should return.\n",
    "\n",
    "Correct/Incorrect responses: 0/1\n",
    "\n",
    "Categories completed: How many rule changes\n",
    "Preservative errors: A value of how much the participants keep sorting in accordance with the previous rule once the rule has changed.\n",
    "\n",
    "Difficulty of maintaining set Once a participant has gotten 2 or more correct answers in a row, how many times will they fail to maintain the streak."
   ]
  },
  {
   "cell_type": "markdown",
   "id": "4a116d4d",
   "metadata": {},
   "source": [
    "To get this data, we need to first implement a basic way of tracking if and logging how many correct responses are made in each run.\n",
    "\n",
    "This will be done simply with a list. 0 fail, 1 success.\n",
    "\n",
    "A possible data structure for this could be a list containing tuples. At list index 0 we have the first sorting, at 1 the second etc... Then inside the tuples, first value is success:0/1, second value is sorted by rule 1/2/3, third value is active rule 1/2/3\n",
    "\n"
   ]
  },
  {
   "cell_type": "code",
   "execution_count": null,
   "id": "1de4ddcf",
   "metadata": {},
   "outputs": [],
   "source": [
    "# [(reponse1),(response2)]\n",
    "# response = (correct,mathced_by_rule,actice_rule)\n",
    "data = [(1,2,2),(0,3,2)]\n"
   ]
  },
  {
   "cell_type": "code",
   "execution_count": null,
   "id": "83c93220",
   "metadata": {},
   "outputs": [],
   "source": [
    "Here we see that the first response was corretly sorted by rule 2. \n",
    "The second response was wrongly sorted by rule 3.\n",
    "If im not mistaken by this point, this is all the information we need to get the data we are interested in.\n",
    "possibly it would make it easier if we also stored the win streak.\n"
   ]
  },
  {
   "cell_type": "code",
   "execution_count": 4,
   "id": "0b214822",
   "metadata": {},
   "outputs": [],
   "source": [
    "# [(reponse1),(response2)]\n",
    "# response = (correct,mathced_by_rule,actice_rule,streak)\n",
    "data = [(1,2,2,1),(0,3,2,0)]"
   ]
  },
  {
   "cell_type": "markdown",
   "id": "593b3cdc",
   "metadata": {},
   "source": [
    "Now for example: correct responses in %:\n",
    "\n",
    "for log in data:\n",
    "    "
   ]
  },
  {
   "cell_type": "code",
   "execution_count": 10,
   "id": "81f3554c",
   "metadata": {},
   "outputs": [
    {
     "name": "stdout",
     "output_type": "stream",
     "text": [
      "0.5\n"
     ]
    }
   ],
   "source": [
    "#correct_procent\n",
    "cumulative = 0\n",
    "for number, log in enumerate(data):\n",
    "    cumulative += log[0]\n",
    "correct_procent = cumulative / (number + 1)\n",
    "print(correct_procent)"
   ]
  },
  {
   "cell_type": "markdown",
   "id": "c4c74a83",
   "metadata": {},
   "source": [
    "Hmmm. The rest of the code will be easier to write inside the existing GameLogic script."
   ]
  },
  {
   "cell_type": "code",
   "execution_count": null,
   "id": "6570d269",
   "metadata": {},
   "outputs": [],
   "source": []
  },
  {
   "cell_type": "code",
   "execution_count": null,
   "id": "b50aab15",
   "metadata": {},
   "outputs": [],
   "source": []
  }
 ],
 "metadata": {
  "kernelspec": {
   "display_name": "Python 3 (ipykernel)",
   "language": "python",
   "name": "python3"
  },
  "language_info": {
   "codemirror_mode": {
    "name": "ipython",
    "version": 3
   },
   "file_extension": ".py",
   "mimetype": "text/x-python",
   "name": "python",
   "nbconvert_exporter": "python",
   "pygments_lexer": "ipython3",
   "version": "3.11.4"
  }
 },
 "nbformat": 4,
 "nbformat_minor": 5
}
