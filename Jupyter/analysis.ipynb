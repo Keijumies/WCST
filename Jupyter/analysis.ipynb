{
 "cells": [
  {
   "cell_type": "markdown",
   "id": "06715450",
   "metadata": {},
   "source": [
    "::AIM::\n",
    "In here we will take in and work out how to make sense of the data that is stored from the GameLogic script.\n",
    "The aim of this is to see if the data file contains all we need.\n",
    "::::::::::::::::::::::::::::::::::::::::::::::::::::::::::::::::::::::::::::::::::::::::::::::::::::::::::::\n",
    "\n",
    "1# We import csv\n",
    "\n",
    "2# We specify the filepath\n",
    "\n",
    "3# We open the file and print out the data of each row."
   ]
  },
  {
   "cell_type": "code",
   "execution_count": 28,
   "id": "93360875",
   "metadata": {
    "scrolled": true
   },
   "outputs": [
    {
     "name": "stdout",
     "output_type": "stream",
     "text": [
      "['1', 'shape', 'shape', '1']\n",
      "['1', 'shape', 'shape', '2']\n",
      "['1', 'shape', 'shape', '3']\n",
      "['1', 'shape', 'shape', '4']\n",
      "['1', 'shape', 'shape', '5']\n",
      "['0', 'shapenumber', 'color', '0']\n",
      "['1', 'colorshape', 'color', '1']\n",
      "['1', 'color', 'color', '2']\n",
      "['1', 'colornumber', 'color', '3']\n",
      "['0', 'NONE', 'color', '0']\n",
      "['1', 'color', 'color', '1']\n",
      "['1', 'colorshape', 'color', '2']\n",
      "['1', 'color', 'color', '3']\n",
      "['1', 'color', 'color', '4']\n",
      "['1', 'colorshape', 'color', '5']\n",
      "['1', 'colorshape', 'shape', '1']\n",
      "['1', 'shapenumber', 'shape', '2']\n",
      "['1', 'shapenumber', 'shape', '3']\n",
      "['1', 'shape', 'shape', '4']\n",
      "['1', 'shape', 'shape', '5']\n",
      "['0', 'shape', 'number', '0']\n",
      "['0', 'shape', 'number', '0']\n",
      "['0', 'shape', 'number', '0']\n",
      "['0', 'shape', 'number', '0']\n",
      "['1', 'number', 'number', '1']\n",
      "['1', 'number', 'number', '2']\n",
      "['0', 'NONE', 'number', '0']\n",
      "['0', 'NONE', 'number', '0']\n",
      "['0', 'shape', 'number', '0']\n",
      "['0', 'NONE', 'number', '0']\n",
      "['1', 'colornumber', 'number', '1']\n",
      "['1', 'number', 'number', '2']\n",
      "['1', 'colorshapenumber', 'number', '3']\n",
      "['0', 'colorshape', 'number', '0']\n",
      "['1', 'colornumber', 'number', '1']\n",
      "['1', 'number', 'number', '2']\n",
      "['1', 'shapenumber', 'number', '3']\n",
      "['1', 'number', 'number', '4']\n",
      "['1', 'number', 'number', '5']\n",
      "['0', 'shapenumber', 'color', '0']\n",
      "['0', 'number', 'color', '0']\n",
      "['1', 'colorshape', 'color', '1']\n",
      "['1', 'colornumber', 'color', '2']\n",
      "['0', 'NONE', 'color', '0']\n",
      "['1', 'color', 'color', '1']\n",
      "['1', 'color', 'color', '2']\n",
      "['1', 'color', 'color', '3']\n",
      "['1', 'color', 'color', '4']\n",
      "['1', 'colorshapenumber', 'color', '5']\n",
      "['0', 'colornumber', 'shape', '0']\n",
      "['0', 'color', 'shape', '0']\n",
      "['1', 'shape', 'shape', '1']\n",
      "['1', 'shape', 'shape', '2']\n",
      "['1', 'shape', 'shape', '3']\n",
      "['1', 'shape', 'shape', '4']\n",
      "['1', 'shape', 'shape', '5']\n",
      "['1', 'colorshapenumber', 'number', '1']\n",
      "['1', 'colorshapenumber', 'number', '2']\n",
      "['1', 'shapenumber', 'number', '3']\n",
      "['0', 'colorshape', 'number', '0']\n",
      "['0', 'shape', 'number', '0']\n",
      "['1', 'colornumber', 'number', '1']\n",
      "['1', 'number', 'number', '2']\n",
      "['1', 'number', 'number', '3']\n"
     ]
    }
   ],
   "source": [
    "import csv\n",
    "file = \"../results/data.csv\"\n",
    "\n",
    "with open(file,\"r\") as data:\n",
    "    reader = csv.reader(data)\n",
    "    for row in reader:\n",
    "        print(row)"
   ]
  },
  {
   "cell_type": "markdown",
   "id": "12898ca1",
   "metadata": {},
   "source": [
    "Now instead of printing it we unpack the values into tuples and save them to a list."
   ]
  },
  {
   "cell_type": "code",
   "execution_count": 29,
   "id": "e6a83a05",
   "metadata": {},
   "outputs": [
    {
     "name": "stdout",
     "output_type": "stream",
     "text": [
      "[('1', 'shape', 'shape', '1'), ('1', 'shape', 'shape', '2'), ('1', 'shape', 'shape', '3'), ('1', 'shape', 'shape', '4'), ('1', 'shape', 'shape', '5'), ('0', 'shapenumber', 'color', '0'), ('1', 'colorshape', 'color', '1'), ('1', 'color', 'color', '2'), ('1', 'colornumber', 'color', '3'), ('0', 'NONE', 'color', '0'), ('1', 'color', 'color', '1'), ('1', 'colorshape', 'color', '2'), ('1', 'color', 'color', '3'), ('1', 'color', 'color', '4'), ('1', 'colorshape', 'color', '5'), ('1', 'colorshape', 'shape', '1'), ('1', 'shapenumber', 'shape', '2'), ('1', 'shapenumber', 'shape', '3'), ('1', 'shape', 'shape', '4'), ('1', 'shape', 'shape', '5'), ('0', 'shape', 'number', '0'), ('0', 'shape', 'number', '0'), ('0', 'shape', 'number', '0'), ('0', 'shape', 'number', '0'), ('1', 'number', 'number', '1'), ('1', 'number', 'number', '2'), ('0', 'NONE', 'number', '0'), ('0', 'NONE', 'number', '0'), ('0', 'shape', 'number', '0'), ('0', 'NONE', 'number', '0'), ('1', 'colornumber', 'number', '1'), ('1', 'number', 'number', '2'), ('1', 'colorshapenumber', 'number', '3'), ('0', 'colorshape', 'number', '0'), ('1', 'colornumber', 'number', '1'), ('1', 'number', 'number', '2'), ('1', 'shapenumber', 'number', '3'), ('1', 'number', 'number', '4'), ('1', 'number', 'number', '5'), ('0', 'shapenumber', 'color', '0'), ('0', 'number', 'color', '0'), ('1', 'colorshape', 'color', '1'), ('1', 'colornumber', 'color', '2'), ('0', 'NONE', 'color', '0'), ('1', 'color', 'color', '1'), ('1', 'color', 'color', '2'), ('1', 'color', 'color', '3'), ('1', 'color', 'color', '4'), ('1', 'colorshapenumber', 'color', '5'), ('0', 'colornumber', 'shape', '0'), ('0', 'color', 'shape', '0'), ('1', 'shape', 'shape', '1'), ('1', 'shape', 'shape', '2'), ('1', 'shape', 'shape', '3'), ('1', 'shape', 'shape', '4'), ('1', 'shape', 'shape', '5'), ('1', 'colorshapenumber', 'number', '1'), ('1', 'colorshapenumber', 'number', '2'), ('1', 'shapenumber', 'number', '3'), ('0', 'colorshape', 'number', '0'), ('0', 'shape', 'number', '0'), ('1', 'colornumber', 'number', '1'), ('1', 'number', 'number', '2'), ('1', 'number', 'number', '3')]\n"
     ]
    }
   ],
   "source": [
    "results = []\n",
    "with open(file,\"r\") as data:\n",
    "    reader = csv.reader(data)\n",
    "    for row in reader:\n",
    "        results.append(tuple(row))\n",
    "\n",
    "print(results)\n",
    "            "
   ]
  },
  {
   "cell_type": "markdown",
   "id": "00befa1d",
   "metadata": {},
   "source": [
    "Then lets start simple analysis.\n",
    "\n",
    "We have to keep in mind the that the tuple indexing carries with it information about the values:\n",
    "index: 0 : correct = 1, wrong = 0\n",
    "index: 1 : the category on which the chosen stimulus card and hand card were matched on\n",
    "index: 2 : the active rule\n",
    "index: 3 : winning streak"
   ]
  },
  {
   "cell_type": "code",
   "execution_count": 30,
   "id": "ff28ba5b",
   "metadata": {},
   "outputs": [
    {
     "name": "stdout",
     "output_type": "stream",
     "text": [
      "0.71875\n"
     ]
    }
   ],
   "source": [
    "def correct_procent(results):\n",
    "    cumulative = 0\n",
    "    for n, data_point in enumerate(results):\n",
    "        cumulative += int(data_point[0])\n",
    "    correct_procent = cumulative / (n + 1)\n",
    "    print(correct_procent)\n",
    "    \n",
    "correct_procent(results)"
   ]
  },
  {
   "cell_type": "code",
   "execution_count": 31,
   "id": "1e52986d",
   "metadata": {
    "scrolled": true
   },
   "outputs": [
    {
     "name": "stdout",
     "output_type": "stream",
     "text": [
      "6\n"
     ]
    }
   ],
   "source": [
    "def completed_categories(results):\n",
    "    completed = 0\n",
    "    for data_point in results:\n",
    "        if data_point[3] == \"5\":\n",
    "            completed += 1\n",
    "    return completed\n",
    "\n",
    "print(completed_categories(results))\n",
    "        "
   ]
  },
  {
   "cell_type": "markdown",
   "id": "039eac13",
   "metadata": {},
   "source": [
    "This next one is tricky. I used the logic that if a participant sorts with the same wrong rule consequtively, they get 1 point on preservative errors. When the situation is less clear, as when the card is matched on a wrong rule but there is also included another wrong rule: exmaple: shape and shapenumber. Then 0.5 is added to the preservation error. The logic behind it is that we dont know if the participant is testing out a new rule or if they are making a preservation error.\n",
    "\n",
    "Note: how this is analysed is hidden behind a paywall. So this is in a sense only a dummy variable that follows approximately the same logic as the one used in the commercial / clinical testings. \n",
    "\n",
    "In the function is also a documentation printer: this way it gives an intuitive view into what happened during the experiment. This was made for debugging and checking if this actually is doing what i wanted.\n",
    "\n",
    "One thing to note was that i included no matching category as a sorting rule. In a sense if a card is matched on no category that could also be seen as a sorting rule, and if participants try to sort according to this rule, even after negative feedback. It is treated as a preservation error."
   ]
  },
  {
   "cell_type": "code",
   "execution_count": 32,
   "id": "35c0d9b7",
   "metadata": {
    "scrolled": true
   },
   "outputs": [
    {
     "name": "stdout",
     "output_type": "stream",
     "text": [
      "correct\n",
      "correct\n",
      "correct\n",
      "correct\n",
      "correct\n",
      "sorted by wrong rule:shapenumber\n",
      "correct\n",
      "correct\n",
      "correct\n",
      "sorted by wrong rule:NONE\n",
      "correct\n",
      "correct\n",
      "correct\n",
      "correct\n",
      "correct\n",
      "correct\n",
      "correct\n",
      "correct\n",
      "correct\n",
      "correct\n",
      "sorted by wrong rule:shape\n",
      "used rule:shape,previous_used_rule:shape, error + 1\n",
      "used rule:shape,previous_used_rule:shape, error + 1\n",
      "used rule:shape,previous_used_rule:shape, error + 1\n",
      "correct\n",
      "correct\n",
      "sorted by wrong rule:NONE\n",
      "used rule:NONE,previous_used_rule:NONE, error + 1\n",
      "sorted by wrong rule:shape\n",
      "sorted by wrong rule:NONE\n",
      "correct\n",
      "correct\n",
      "correct\n",
      "sorted by wrong rule:colorshape\n",
      "correct\n",
      "correct\n",
      "correct\n",
      "correct\n",
      "correct\n",
      "sorted by wrong rule:shapenumber\n",
      "used rule:number,previous_used_rule:shapenumber, error + 0.5\n",
      "correct\n",
      "correct\n",
      "sorted by wrong rule:NONE\n",
      "correct\n",
      "correct\n",
      "correct\n",
      "correct\n",
      "correct\n",
      "sorted by wrong rule:colornumber\n",
      "used rule:color,previous_used_rule:colornumber, error + 0.5\n",
      "correct\n",
      "correct\n",
      "correct\n",
      "correct\n",
      "correct\n",
      "correct\n",
      "correct\n",
      "correct\n",
      "sorted by wrong rule:colorshape\n",
      "used rule:shape,previous_used_rule:colorshape, error + 0.5\n",
      "correct\n",
      "correct\n",
      "correct\n",
      "5.5\n"
     ]
    }
   ],
   "source": [
    "def preservative_errors(results):\n",
    "    \n",
    "    preservative_error = 0\n",
    "    error_streak = 0\n",
    "    wrong_rule = None\n",
    "    \n",
    "    for data_point in results:\n",
    "        if error_streak >= 1 and data_point[1] == wrong_rule:\n",
    "            preservative_error += 1\n",
    "            error_streak += 1\n",
    "            print(f\"used rule:{data_point[1]},previous_used_rule:{wrong_rule}, error + 1\")\n",
    "        \n",
    "        elif error_streak >= 1 and data_point[1] in wrong_rule:\n",
    "            preservative_error += 0.5\n",
    "            error_streak += 1\n",
    "            print(f\"used rule:{data_point[1]},previous_used_rule:{wrong_rule}, error + 0.5\")\n",
    "            \n",
    "        \n",
    "        elif int(data_point[3]) == 0:\n",
    "            error_streak += 1\n",
    "            wrong_rule = data_point[1]\n",
    "            print(f\"sorted by wrong rule:{wrong_rule}\")\n",
    "            \n",
    "        else:\n",
    "            error_streak = 0\n",
    "            wrong_rule = None\n",
    "            print(\"correct\")\n",
    "            \n",
    "    return preservative_error\n",
    "\n",
    "print(preservative_errors(results))"
   ]
  },
  {
   "cell_type": "markdown",
   "id": "04eff41e",
   "metadata": {},
   "source": [
    "next we will make a function that measures how many errors participants are maintaining sorting according to a correct rule after they have gotten positive feedback on that rule."
   ]
  },
  {
   "cell_type": "code",
   "execution_count": null,
   "id": "bff496a4",
   "metadata": {},
   "outputs": [],
   "source": []
  },
  {
   "cell_type": "code",
   "execution_count": null,
   "id": "1d2baaa1",
   "metadata": {},
   "outputs": [],
   "source": []
  },
  {
   "cell_type": "code",
   "execution_count": null,
   "id": "4bc8ebb3",
   "metadata": {},
   "outputs": [],
   "source": []
  }
 ],
 "metadata": {
  "kernelspec": {
   "display_name": "Python 3 (ipykernel)",
   "language": "python",
   "name": "python3"
  },
  "language_info": {
   "codemirror_mode": {
    "name": "ipython",
    "version": 3
   },
   "file_extension": ".py",
   "mimetype": "text/x-python",
   "name": "python",
   "nbconvert_exporter": "python",
   "pygments_lexer": "ipython3",
   "version": "3.11.4"
  }
 },
 "nbformat": 4,
 "nbformat_minor": 5
}
