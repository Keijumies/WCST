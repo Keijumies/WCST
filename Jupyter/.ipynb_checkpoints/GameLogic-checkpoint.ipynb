{
 "cells": [
  {
   "cell_type": "markdown",
   "id": "7e0fecd2",
   "metadata": {},
   "source": [
    "Here i will start to create a text based version of the Wisconsin card sorting task"
   ]
  },
  {
   "cell_type": "markdown",
   "id": "f1834df2",
   "metadata": {},
   "source": [
    "Instructions for the game: \n",
    "\n",
    "While the game is being played there will be 4 stationary cards on the screen. A card is drawn from the active deck and the player is asked to group the current card with 1 of the 4 stimulus cards. This will continue untill all 64 cards have been sorted. The player will get feedback if the grouping was right or wrong.\n",
    "\n",
    "Hidden rule:\n",
    "\n",
    "The game will randomly determine a starting grouping rule. The player should group the cards based on either, color, shape or number. When 5 cards have been consequtively grouped right. The grouping rule will change to 1 of the 2 other rules."
   ]
  },
  {
   "cell_type": "raw",
   "id": "28c93c64",
   "metadata": {},
   "source": [
    "I will import the random libray so that ceirtain methods can be used later."
   ]
  },
  {
   "cell_type": "code",
   "execution_count": 1,
   "id": "ade3bb85",
   "metadata": {},
   "outputs": [],
   "source": [
    "import random"
   ]
  },
  {
   "cell_type": "markdown",
   "id": "1ffdfb62",
   "metadata": {},
   "source": [
    "Here I will start by creating the variables that will make up the cards"
   ]
  },
  {
   "cell_type": "code",
   "execution_count": 2,
   "id": "f2332c4b",
   "metadata": {},
   "outputs": [],
   "source": [
    "number = [1,2,3,4]\n",
    "shape = [\"circle\",\"square\",\"triangle\",\"star\"]\n",
    "color = [\"blue\",\"green\",\"red\",\"yellow\"]"
   ]
  },
  {
   "cell_type": "markdown",
   "id": "4e222cb0",
   "metadata": {},
   "source": [
    "Now theese lists are created and they exist"
   ]
  },
  {
   "cell_type": "code",
   "execution_count": 3,
   "id": "05d6e439",
   "metadata": {},
   "outputs": [
    {
     "name": "stdout",
     "output_type": "stream",
     "text": [
      "['circle', 'square', 'triangle', 'star']\n",
      "['blue', 'green', 'red', 'yellow']\n",
      "[1, 2, 3, 4]\n"
     ]
    }
   ],
   "source": [
    "print(shape)\n",
    "print(color)\n",
    "print(number)"
   ]
  },
  {
   "cell_type": "markdown",
   "id": "da48c5b1",
   "metadata": {},
   "source": [
    "Next I will create an class to construct our deck of cards."
   ]
  },
  {
   "cell_type": "code",
   "execution_count": 4,
   "id": "8852c41e",
   "metadata": {},
   "outputs": [],
   "source": [
    "class Card:\n",
    "    def __init__(self,number,shape,color):\n",
    "        self.number = number\n",
    "        self.shape = shape\n",
    "        self.color = color"
   ]
  },
  {
   "cell_type": "markdown",
   "id": "18c1402d",
   "metadata": {},
   "source": [
    "Here I will make a function that will construct the 64 cards using the card class"
   ]
  },
  {
   "cell_type": "code",
   "execution_count": 5,
   "id": "1c82b673",
   "metadata": {
    "scrolled": true
   },
   "outputs": [],
   "source": [
    "def construct_deck(number,shape,color):\n",
    "    deck = []\n",
    "    for i in number:\n",
    "        for y in shape:\n",
    "            for x in color:\n",
    "                card = Card(i,y,x)\n",
    "                deck.append(card)\n",
    "    return deck\n",
    "                \n",
    "                "
   ]
  },
  {
   "cell_type": "markdown",
   "id": "a5f0f5e2",
   "metadata": {},
   "source": [
    "Here i run the function using the lists containing the variables we want to include in our cards"
   ]
  },
  {
   "cell_type": "code",
   "execution_count": 6,
   "id": "55850481",
   "metadata": {},
   "outputs": [],
   "source": [
    "deck = construct_deck(number,shape,color)"
   ]
  },
  {
   "cell_type": "markdown",
   "id": "8b3f68aa",
   "metadata": {},
   "source": [
    "Now the a deck of 64 cards exist"
   ]
  },
  {
   "cell_type": "code",
   "execution_count": 7,
   "id": "040791c7",
   "metadata": {
    "scrolled": true
   },
   "outputs": [
    {
     "name": "stdout",
     "output_type": "stream",
     "text": [
      "1 circle blue\n",
      "1 circle green\n",
      "1 circle red\n",
      "1 circle yellow\n",
      "1 square blue\n",
      "1 square green\n",
      "1 square red\n",
      "1 square yellow\n",
      "1 triangle blue\n",
      "1 triangle green\n",
      "1 triangle red\n",
      "1 triangle yellow\n",
      "1 star blue\n",
      "1 star green\n",
      "1 star red\n",
      "1 star yellow\n",
      "2 circle blue\n",
      "2 circle green\n",
      "2 circle red\n",
      "2 circle yellow\n",
      "2 square blue\n",
      "2 square green\n",
      "2 square red\n",
      "2 square yellow\n",
      "2 triangle blue\n",
      "2 triangle green\n",
      "2 triangle red\n",
      "2 triangle yellow\n",
      "2 star blue\n",
      "2 star green\n",
      "2 star red\n",
      "2 star yellow\n",
      "3 circle blue\n",
      "3 circle green\n",
      "3 circle red\n",
      "3 circle yellow\n",
      "3 square blue\n",
      "3 square green\n",
      "3 square red\n",
      "3 square yellow\n",
      "3 triangle blue\n",
      "3 triangle green\n",
      "3 triangle red\n",
      "3 triangle yellow\n",
      "3 star blue\n",
      "3 star green\n",
      "3 star red\n",
      "3 star yellow\n",
      "4 circle blue\n",
      "4 circle green\n",
      "4 circle red\n",
      "4 circle yellow\n",
      "4 square blue\n",
      "4 square green\n",
      "4 square red\n",
      "4 square yellow\n",
      "4 triangle blue\n",
      "4 triangle green\n",
      "4 triangle red\n",
      "4 triangle yellow\n",
      "4 star blue\n",
      "4 star green\n",
      "4 star red\n",
      "4 star yellow\n"
     ]
    }
   ],
   "source": [
    "for card in deck:\n",
    "    print(card.number,card.shape,card.color)"
   ]
  },
  {
   "cell_type": "markdown",
   "id": "94983d0f",
   "metadata": {},
   "source": [
    "I will store a copy of this to another list. It should be usefull for the future to have access to this original deck."
   ]
  },
  {
   "cell_type": "code",
   "execution_count": 8,
   "id": "a4e60343",
   "metadata": {},
   "outputs": [],
   "source": [
    "deck_active = deck.copy()"
   ]
  },
  {
   "cell_type": "markdown",
   "id": "39030509",
   "metadata": {},
   "source": [
    "Next I will shuffle the order of the cards. Note: using the copy. From here on when doing any changes to the deck we use the copy."
   ]
  },
  {
   "cell_type": "code",
   "execution_count": 9,
   "id": "71af0a80",
   "metadata": {},
   "outputs": [],
   "source": [
    "random.shuffle(deck_active)"
   ]
  },
  {
   "cell_type": "markdown",
   "id": "a9d16b48",
   "metadata": {},
   "source": [
    "Now i will again print out the deck too show that the order is random"
   ]
  },
  {
   "cell_type": "code",
   "execution_count": 10,
   "id": "6dc57788",
   "metadata": {
    "scrolled": false
   },
   "outputs": [
    {
     "name": "stdout",
     "output_type": "stream",
     "text": [
      "1 star red\n",
      "4 circle green\n",
      "2 triangle green\n",
      "2 triangle yellow\n",
      "3 square blue\n",
      "3 triangle blue\n",
      "3 star blue\n",
      "4 triangle blue\n",
      "3 circle green\n",
      "1 circle blue\n",
      "3 square green\n",
      "3 circle red\n",
      "1 triangle yellow\n",
      "2 circle green\n",
      "3 square yellow\n",
      "4 star blue\n",
      "1 square blue\n",
      "4 square blue\n",
      "4 star yellow\n",
      "2 star blue\n",
      "1 circle red\n",
      "4 circle yellow\n",
      "3 circle yellow\n",
      "2 star green\n",
      "4 triangle yellow\n",
      "2 square red\n",
      "2 circle yellow\n",
      "2 triangle blue\n",
      "4 star green\n",
      "1 star yellow\n",
      "4 triangle green\n",
      "3 triangle red\n",
      "2 star yellow\n",
      "2 square yellow\n",
      "3 circle blue\n",
      "2 triangle red\n",
      "2 circle red\n",
      "4 triangle red\n",
      "4 square green\n",
      "4 square yellow\n",
      "3 star yellow\n",
      "1 triangle blue\n",
      "1 square green\n",
      "2 star red\n",
      "3 star green\n",
      "3 triangle yellow\n",
      "1 triangle green\n",
      "3 triangle green\n",
      "4 star red\n",
      "4 circle blue\n",
      "2 square green\n",
      "1 triangle red\n",
      "3 star red\n",
      "1 circle green\n",
      "2 square blue\n",
      "4 circle red\n",
      "1 circle yellow\n",
      "1 square red\n",
      "1 star green\n",
      "4 square red\n",
      "1 square yellow\n",
      "3 square red\n",
      "2 circle blue\n",
      "1 star blue\n"
     ]
    }
   ],
   "source": [
    "for card in deck_active:\n",
    "    print(card.number,card.shape,card.color)"
   ]
  },
  {
   "cell_type": "markdown",
   "id": "4a1a921c",
   "metadata": {},
   "source": [
    "Here we now have our shuffled list of cards. But we need to create some basic deck mechanisms.\n",
    "1# take out one card from the deck and remove that card from the deck\n",
    "2# display that card\n",
    "\n",
    "\n",
    "1# we can use the pop method that is included in Python list objects.\n",
    "2# We can print out the information of that object(at a later stage we can add pictures of the cards in the deck creation phase)\n"
   ]
  },
  {
   "cell_type": "code",
   "execution_count": 11,
   "id": "3dc8aa2c",
   "metadata": {
    "scrolled": true
   },
   "outputs": [
    {
     "name": "stdout",
     "output_type": "stream",
     "text": [
      "1 star blue\n"
     ]
    }
   ],
   "source": [
    "current_card = deck_active.pop()\n",
    "print(current_card.number,current_card.shape,current_card.color)"
   ]
  },
  {
   "cell_type": "markdown",
   "id": "cc7fde62",
   "metadata": {},
   "source": [
    "we can see that the card is now remowed from the deck"
   ]
  },
  {
   "cell_type": "code",
   "execution_count": 12,
   "id": "dbea8cf6",
   "metadata": {
    "scrolled": true
   },
   "outputs": [
    {
     "name": "stdout",
     "output_type": "stream",
     "text": [
      "0 1 star red\n",
      "1 4 circle green\n",
      "2 2 triangle green\n",
      "3 2 triangle yellow\n",
      "4 3 square blue\n",
      "5 3 triangle blue\n",
      "6 3 star blue\n",
      "7 4 triangle blue\n",
      "8 3 circle green\n",
      "9 1 circle blue\n",
      "10 3 square green\n",
      "11 3 circle red\n",
      "12 1 triangle yellow\n",
      "13 2 circle green\n",
      "14 3 square yellow\n",
      "15 4 star blue\n",
      "16 1 square blue\n",
      "17 4 square blue\n",
      "18 4 star yellow\n",
      "19 2 star blue\n",
      "20 1 circle red\n",
      "21 4 circle yellow\n",
      "22 3 circle yellow\n",
      "23 2 star green\n",
      "24 4 triangle yellow\n",
      "25 2 square red\n",
      "26 2 circle yellow\n",
      "27 2 triangle blue\n",
      "28 4 star green\n",
      "29 1 star yellow\n",
      "30 4 triangle green\n",
      "31 3 triangle red\n",
      "32 2 star yellow\n",
      "33 2 square yellow\n",
      "34 3 circle blue\n",
      "35 2 triangle red\n",
      "36 2 circle red\n",
      "37 4 triangle red\n",
      "38 4 square green\n",
      "39 4 square yellow\n",
      "40 3 star yellow\n",
      "41 1 triangle blue\n",
      "42 1 square green\n",
      "43 2 star red\n",
      "44 3 star green\n",
      "45 3 triangle yellow\n",
      "46 1 triangle green\n",
      "47 3 triangle green\n",
      "48 4 star red\n",
      "49 4 circle blue\n",
      "50 2 square green\n",
      "51 1 triangle red\n",
      "52 3 star red\n",
      "53 1 circle green\n",
      "54 2 square blue\n",
      "55 4 circle red\n",
      "56 1 circle yellow\n",
      "57 1 square red\n",
      "58 1 star green\n",
      "59 4 square red\n",
      "60 1 square yellow\n",
      "61 3 square red\n",
      "62 2 circle blue\n"
     ]
    }
   ],
   "source": [
    "for index, card in enumerate(deck_active):\n",
    "    print(index, card.number,card.shape,card.color)"
   ]
  },
  {
   "cell_type": "markdown",
   "id": "95930416",
   "metadata": {},
   "source": [
    "Now i want to create a list of 4 stimulus cards that are used in the game. I pass in the information needed to create them using the Card class and include them in new list."
   ]
  },
  {
   "cell_type": "code",
   "execution_count": 13,
   "id": "243ba6cd",
   "metadata": {},
   "outputs": [],
   "source": [
    "stimulus_card = [\n",
    "    Card(1, \"triangle\", \"red\"),\n",
    "    Card(2, \"star\", \"green\"),\n",
    "    Card(3, \"square\", \"yellow\"),\n",
    "    Card(4, \"circle\", \"blue\")\n",
    "]\n"
   ]
  },
  {
   "cell_type": "markdown",
   "id": "5bd2d85e",
   "metadata": {},
   "source": [
    "Now we have a working deck. It includes all the 64 cards. Cards can be picked up one at a time and displayed. We also have 4 stimulus cards.\n",
    "Next we will need to setup the game loop.\n",
    "\n",
    "The main game loop should last untill there are cards in the deck and choices to be made.\n",
    "There should be a loop inside the main loop that documents if the grouping choice was right, gives feedback and a new card after the choice is made. Additionally a mechanism must be included that changes the hidden rule after 5 consecutive right answers."
   ]
  },
  {
   "cell_type": "code",
   "execution_count": 14,
   "id": "0deb7dc0",
   "metadata": {},
   "outputs": [
    {
     "name": "stdout",
     "output_type": "stream",
     "text": [
      "This is the card you have in hand:circle,2,blue\n",
      "0:(1, 'triangle', 'red')\n",
      "1:(2, 'star', 'green')\n",
      "2:(3, 'square', 'yellow')\n",
      "3:(4, 'circle', 'blue')\n",
      "Type 0,1,2,3 to choose where to group your card1\n"
     ]
    }
   ],
   "source": [
    "while deck_active:\n",
    "    a_card = deck_active.pop()\n",
    "    print(f'This is the card you have in hand:{a_card.shape},{a_card.number},{a_card.color}')\n",
    "    print(f'0:{stimulus_card[0].number,stimulus_card[0].shape,stimulus_card[0].color}')\n",
    "    print(f'1:{stimulus_card[1].number,stimulus_card[1].shape,stimulus_card[1].color}')\n",
    "    print(f'2:{stimulus_card[2].number,stimulus_card[2].shape,stimulus_card[2].color}')\n",
    "    print(f'3:{stimulus_card[3].number,stimulus_card[3].shape,stimulus_card[3].color}')\n",
    "    choice = int(input(\"Type 0,1,2,3 to choose where to group your card\"))\n",
    "    break"
   ]
  },
  {
   "cell_type": "markdown",
   "id": "e80249aa",
   "metadata": {},
   "source": [
    "Now there should be a mechanism that checks if the choise was right based on the hidden rule.\n",
    "\n",
    "So all the cards have three different variables. Number, shape and color.\n",
    "The hidden rule will determine on what metric the cards will be compared.\n",
    "Lets say the rule is color: Then the cards should be compared if they indeed have the same color.\n",
    "This could be possible done with BOOLEANS.\n",
    "\n",
    "Also, getattr() will be needed to gain access to the object values.\n",
    "    \n"
   ]
  },
  {
   "cell_type": "code",
   "execution_count": 15,
   "id": "d3b33964",
   "metadata": {},
   "outputs": [
    {
     "name": "stdout",
     "output_type": "stream",
     "text": [
      "False\n"
     ]
    }
   ],
   "source": [
    "rule = ['number','shape','color']\n",
    "active_rule = random.choice(rule)\n",
    "\n",
    "def feedback(active_rule,choice):\n",
    "    print(getattr(stimulus_card[choice], active_rule) == getattr(a_card, active_rule))\n",
    "\n",
    "feedback(active_rule,choice)\n"
   ]
  },
  {
   "cell_type": "markdown",
   "id": "e6be978b",
   "metadata": {},
   "source": [
    " "
   ]
  },
  {
   "cell_type": "markdown",
   "id": "a4c862ee",
   "metadata": {},
   "source": [
    "This now works and we can implement it into the game loop to test it in action."
   ]
  },
  {
   "cell_type": "code",
   "execution_count": null,
   "id": "e091bd07",
   "metadata": {},
   "outputs": [],
   "source": [
    "while deck_active:\n",
    "    a_card = deck_active.pop()\n",
    "    print(f'This is the card you have in hand:{a_card.shape},{a_card.number},{a_card.color}')\n",
    "    print(f'0:{stimulus_card[0].number,stimulus_card[0].shape,stimulus_card[0].color}')\n",
    "    print(f'1:{stimulus_card[1].number,stimulus_card[1].shape,stimulus_card[1].color}')\n",
    "    print(f'2:{stimulus_card[2].number,stimulus_card[2].shape,stimulus_card[2].color}')\n",
    "    print(f'3:{stimulus_card[3].number,stimulus_card[3].shape,stimulus_card[3].color}')\n",
    "    choice = int(input(\"Type 0,1,2,3 to choose where to group your card\"))\n",
    "    feedback(active_rule,choice)\n",
    "    print (f\"The active rule was:{active_rule}\")\n",
    "    print(\"_____________________________________\")\n",
    "    break"
   ]
  },
  {
   "cell_type": "markdown",
   "id": "e7bd06ef",
   "metadata": {},
   "source": [
    "Next we want to make the rule change if 5 consequtive answers are right. To do this we have to initiate a counter.\n",
    "First we will set a global variable.\n",
    "Then we will make a function that checks the value of the counter. \n",
    "If the value is 5 the rule changes.\n",
    "then."
   ]
  },
  {
   "cell_type": "markdown",
   "id": "b87e51e6",
   "metadata": {},
   "source": [
    "winning_streak = 0\n",
    "\n",
    "def streak(winning_streak,win):\n",
    "    if win:\n",
    "        winning_streak = winning_streak +1\n",
    "    else:\n",
    "        winning_streak = 0"
   ]
  }
 ],
 "metadata": {
  "kernelspec": {
   "display_name": "Python 3 (ipykernel)",
   "language": "python",
   "name": "python3"
  },
  "language_info": {
   "codemirror_mode": {
    "name": "ipython",
    "version": 3
   },
   "file_extension": ".py",
   "mimetype": "text/x-python",
   "name": "python",
   "nbconvert_exporter": "python",
   "pygments_lexer": "ipython3",
   "version": "3.9.13"
  }
 },
 "nbformat": 4,
 "nbformat_minor": 5
}
