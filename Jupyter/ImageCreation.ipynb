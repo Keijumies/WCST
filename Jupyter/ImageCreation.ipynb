{
 "cells": [
  {
   "cell_type": "markdown",
   "id": "cccf6a8d",
   "metadata": {},
   "source": [
    "In here I will create images with the PIL library. With the aim of creating 64 cards, with 4 different shapes,color,number*shape.\n",
    "\n",
    "Lets start with importing the libary and reading in some shapes.\n",
    "We also import Ipython.display to render the images in Jupyter."
   ]
  },
  {
   "cell_type": "code",
   "execution_count": 16,
   "id": "ff9aa6af",
   "metadata": {},
   "outputs": [
    {
     "data": {
      "image/png": "[encoded data removed]",
      "text/plain": [
       "<PIL.PngImagePlugin.PngImageFile image mode=LA size=36x36>"
      ]
     },
     "metadata": {},
     "output_type": "display_data"
    },
    {
     "data": {
      "image/png": "[encoded data removed]",
      "text/plain": [
       "<PIL.PngImagePlugin.PngImageFile image mode=LA size=36x36>"
      ]
     },
     "metadata": {},
     "output_type": "display_data"
    },
    {
     "data": {
      "image/png": "[encoded data removed]",
      "text/plain": [
       "<PIL.PngImagePlugin.PngImageFile image mode=LA size=36x36>"
      ]
     },
     "metadata": {},
     "output_type": "display_data"
    },
    {
     "data": {
      "image/png": "[encoded data removed]",
      "text/plain": [
       "<PIL.PngImagePlugin.PngImageFile image mode=LA size=36x36>"
      ]
     },
     "metadata": {},
     "output_type": "display_data"
    }
   ],
   "source": [
    "from PIL import Image\n",
    "from IPython.display import display\n",
    "\n",
    "star = 'shapes/star.png'\n",
    "circle = 'shapes/circle.png'\n",
    "square = 'shapes/square.png'\n",
    "triangle = 'shapes/triangle.png'\n",
    "\n",
    "star = Image.open(star)\n",
    "circle = Image.open(circle)\n",
    "square = Image.open(square)\n",
    "triangle = Image.open(triangle)\n",
    "\n",
    "display(circle)\n",
    "display(square)\n",
    "display(triangle)\n",
    "display(star)\n",
    "\n"
   ]
  },
  {
   "cell_type": "code",
   "execution_count": null,
   "id": "4c0d0789",
   "metadata": {},
   "outputs": [],
   "source": []
  },
  {
   "cell_type": "code",
   "execution_count": null,
   "id": "d254a954",
   "metadata": {},
   "outputs": [],
   "source": []
  }
 ],
 "metadata": {
  "kernelspec": {
   "display_name": "Python 3 (ipykernel)",
   "language": "python",
   "name": "python3"
  },
  "language_info": {
   "codemirror_mode": {
    "name": "ipython",
    "version": 3
   },
   "file_extension": ".py",
   "mimetype": "text/x-python",
   "name": "python",
   "nbconvert_exporter": "python",
   "pygments_lexer": "ipython3",
   "version": "3.9.17"
  }
 },
 "nbformat": 4,
 "nbformat_minor": 5
}
