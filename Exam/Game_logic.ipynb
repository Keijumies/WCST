{
 "cells": [
  {
   "cell_type": "markdown",
   "id": "66fe57d0",
   "metadata": {},
   "source": [
    "# Aim\n",
    "\n",
    "This document is for the examiner of this course.\n",
    "\n",
    "In here i will explain what i have done and how I have done it.\n",
    "\n",
    "There are 3 documents that will compose the whole process of creating the psychological test.\n",
    "\n",
    "1. Game_logic\n",
    "2. Cards\n",
    "3. Psychopy\n",
    "\n",
    "## What I have done: \n",
    "I have done a computer version of the Wisconsin Card Sorting Task (WCST).\n",
    "\n",
    "The WCST is a psychological test for cognitive flexibility, its commonly used in clinical practice.\n",
    "\n",
    "In essence its a simple card game. You have a deck of 64 cards, and on the screen is 4 cards(stimulus cards). You then pull one card from the deck and have to group it with one of 4 stimulus cards. Each card has a color,shape and number.\n",
    "\n",
    "Underneath is an example of a trial of the game."
   ]
  },
  {
   "cell_type": "markdown",
   "id": "0113fc68",
   "metadata": {},
   "source": [
    "<img src=\"../example.png\" alt=\"exe\" title=\"exe\" width=\"500\" height=\"500\"/>\n"
   ]
  },
  {
   "cell_type": "markdown",
   "id": "a731a9ad",
   "metadata": {},
   "source": [
    "Here the player have to choose where to place the card. There are 3 possible solutions, group by color and place in the 4th pile, shape and 2th, number and 1th. The player will be informed if the choice was correct by feedback."
   ]
  },
  {
   "cell_type": "markdown",
   "id": "d78a8a96",
   "metadata": {},
   "source": [
    "<img src=\"../exe2.png\" alt=\"exe2\" title=\"exe2\" width=\"500\" height=\"500\"/>"
   ]
  },
  {
   "cell_type": "markdown",
   "id": "47bc7f38",
   "metadata": {},
   "source": [
    "The trick is to try untill you figure out the right rule. Then keep sorting by that rule. But after 5 consecutive right answer the rule will change. Then the player has to adjust their method and find the new rule. Thereby this test measures cognitive flexibility."
   ]
  },
  {
   "cell_type": "markdown",
   "id": "0c366cef",
   "metadata": {},
   "source": [
    "To make this game we broke the game into separate tasks. First was the task of creating the game logic.\n",
    "A version of the game that run with text only but had the mechanics needed for implementing images."
   ]
  },
  {
   "cell_type": "markdown",
   "id": "2ebaaa18",
   "metadata": {},
   "source": [
    "We chose a object oriented programming (OOP), as an appropriate approach when making the game. Because we thought it would be beneficial for learning purpouses. Additionally, concepts like cards and stacks can be intuitively captured by classes."
   ]
  },
  {
   "cell_type": "markdown",
   "id": "9ad96a85",
   "metadata": {},
   "source": [
    "# How I did it:"
   ]
  },
  {
   "cell_type": "markdown",
   "id": "39e05bf9",
   "metadata": {},
   "source": [
    "# Overview of core components\n",
    "\n",
    "1. Classes\n",
    "    1. Card Class\n",
    "    2. Stack Class\n",
    "        1. MainStack\n",
    "        2. DiscardStack\n",
    "    \n",
    "2. Functions\n",
    "    1. user_input\n",
    "    2. mathced_categories\n",
    "    3. save_results\n",
    "3. Game\n",
    "    1. Imports\n",
    "    2. Create decks\n",
    "    3. Initilize\n",
    "    4. Game_loop\n"
   ]
  },
  {
   "cell_type": "markdown",
   "id": "e87689b5",
   "metadata": {},
   "source": [
    "# CLASSES\n",
    "\n",
    "## A card class. \n",
    "Lies at the core of the game. Its an blueprint for creating card objects.It defines the properties and behaviors that the objects created from it (known as instances) will have. "
   ]
  },
  {
   "cell_type": "code",
   "execution_count": 9,
   "id": "09cf3b13",
   "metadata": {},
   "outputs": [],
   "source": [
    "class Card:\n",
    "\n",
    "    def __init__(self,number,shape,color):\n",
    "        self.number = number\n",
    "        self.shape = shape\n",
    "        self.color = color\n",
    "\n",
    "    def get_card_property(self, prop):\n",
    "        \"\"\"\n",
    "        Function returns one of the properties of the card.\n",
    "        prop is one of \"number\", \"shape\" or \"color\"\n",
    "        \"\"\"\n",
    "        if prop==\"number\":\n",
    "            return self.number\n",
    "        elif prop==\"shape\":\n",
    "            return self.shape\n",
    "        elif prop==\"color\":\n",
    "            return self.color\n",
    "        else:\n",
    "            raise AttributeError(\"Unknown atttribute\")\n",
    "    \n",
    "    def __repr__(self):\n",
    "        return \"Card({num},{shape},{color})\".format(num=self.number,shape=self.shape, color=self.color)\n"
   ]
  },
  {
   "cell_type": "markdown",
   "id": "f82c8110",
   "metadata": {},
   "source": [
    "Each card will be initialized with a number, shape and a color. \n",
    "\n",
    "Each card has the ability (method) of returning its own property. For example: shape_card1 = card1.get_card_property(shape)\n",
    "\n",
    "Each card also can represent itself in string fromat. This is usefull when we deal with the text based version of the game.\n",
    "\n",
    "Next another core concept of the game is the stack class.\n",
    "\n",
    "## The stack class"
   ]
  },
  {
   "cell_type": "code",
   "execution_count": 10,
   "id": "3fbe3d07",
   "metadata": {},
   "outputs": [],
   "source": [
    "class Stack():\n",
    "    def __init__(self,list_of_cards):\n",
    "        self.list_of_cards = list_of_cards       \n",
    "    \n",
    "    def __len__(self):\n",
    "        return len(self.list_of_cards)\n",
    "    \n",
    "    def add(self,new_card):\n",
    "        self.list_of_cards.append(new_card)\n",
    "    \n",
    "    def pop(self):\n",
    "        return self.list_of_cards.pop()\n",
    "    "
   ]
  },
  {
   "cell_type": "markdown",
   "id": "ec694785",
   "metadata": {},
   "source": [
    "As the name suggests this is stack, something that can be thought of as a deck of cards.\n",
    "\n",
    "It initializes itself with a list of cards objects.\n",
    "\n",
    "It has 3 methods. Theese methods represent the basic actions that can be taken by a deck of cards.\n",
    "1. len, gives the number of cards in the stack. Its like counting the cards\n",
    "2. add, takes a card and puts it in the stack. Put a card in the deck\n",
    "3. pop, takes a card and remowes it from the stack. Take a card from the deck\n"
   ]
  },
  {
   "cell_type": "markdown",
   "id": "49475759",
   "metadata": {},
   "source": [
    "## MainStack"
   ]
  },
  {
   "cell_type": "code",
   "execution_count": 11,
   "id": "b5ae7d16",
   "metadata": {},
   "outputs": [],
   "source": [
    "class MainStack(Stack):\n",
    "    \"\"\"\n",
    "    Reprenstation of the main stack, containing the full set in the beginning.\n",
    "    \"\"\"\n",
    "    numbers = [1,2,3,4]\n",
    "    shapes = [\"circle\",\"square\",\"triangle\",\"star\"]\n",
    "    colors = [\"blue\",\"green\",\"red\",\"yellow\"]\n",
    "    \n",
    "    def __init__(self):\n",
    "        self.list_of_cards = []\n",
    "        for i in self.numbers:\n",
    "            for y in self.shapes:\n",
    "                for x in self.colors:\n",
    "                    card = Card(i,y,x)\n",
    "                    self.list_of_cards.append(card)\n",
    "        random.shuffle(self.list_of_cards)\n",
    "        \n",
    "    def render(self):\n",
    "        print(\"Main Stack: %s\"%self.list_of_cards[-1])\n"
   ]
  },
  {
   "cell_type": "markdown",
   "id": "988e9adf",
   "metadata": {},
   "source": [
    "This is a child class of the stack class. As such it inherits all the methods of the stack class but includes some custom functions that are needed for this component. This is the stack that represents the main deck, this is the deck that participants pull cards from and group with the stimulus cards.\n",
    "\n",
    "This class contains list variables containing information for the card properties.\n",
    "\n",
    "This class has a custom initialization function. It can in essence construct itself into a stack containing 4 * 4 * 4 = 64 card objects. After which the deck is automatically shuffled.\n",
    "\n",
    "This class also has a custom method: render() that takes the bottom card of the stack and prints out the card information using the cards _repr_ method.\n",
    "\n",
    "Here its important to note that we chose the end of the list to represent the top of the deck. That was the best approach to program for the player that fact matters not, as the stacks behave like normal decks just inversed."
   ]
  },
  {
   "cell_type": "markdown",
   "id": "2eb78092",
   "metadata": {},
   "source": [
    "## DiscardStack"
   ]
  },
  {
   "cell_type": "code",
   "execution_count": 12,
   "id": "ace25a0e",
   "metadata": {},
   "outputs": [],
   "source": [
    "class DiscardStack(Stack):\n",
    "    def __init__(self, num):\n",
    "        self.list_of_cards=[]\n",
    "        self.stimulus_card=None\n",
    "        \n",
    "        if num==1:\n",
    "            self.stimulus_card=Card(1, \"triangle\", \"red\")\n",
    "        elif num==2:\n",
    "            self.stimulus_card=Card(2, \"star\", \"green\")\n",
    "        elif num==3:\n",
    "            self.stimulus_card=Card(3, \"square\", \"yellow\")\n",
    "        elif num==4:\n",
    "            self.stimulus_card=Card(4, \"circle\", \"blue\")\n",
    "\n",
    "    \n",
    "        \n",
    "    def render(self):\n",
    "        if len(self.list_of_cards)>0:\n",
    "            card=self.list_of_cards[-1]\n",
    "        else:\n",
    "            card=\"<empty>\"\n",
    "        print(\"Stimulus: %s, Last card: %s\"%(self.stimulus_card, card))"
   ]
  },
  {
   "cell_type": "markdown",
   "id": "a78f1014",
   "metadata": {},
   "source": [
    "This is another child class of the stack class.\n",
    "\n",
    "It contains a custom initlization function. This function takes in a number and based on the number it will create a specified card object in a field named the stimulus_card. This is done because the stimulus cards are always the same and presented in a predefined order.\n",
    "\n",
    "This contains a custom render method. It will in essence print out the top card in the discard stack (if there are any) and the stimulus card."
   ]
  },
  {
   "cell_type": "markdown",
   "id": "0f280c95",
   "metadata": {},
   "source": [
    "# Functions"
   ]
  },
  {
   "cell_type": "markdown",
   "id": "19830e56",
   "metadata": {},
   "source": [
    "## user_input"
   ]
  },
  {
   "cell_type": "code",
   "execution_count": 13,
   "id": "bdf87bd9",
   "metadata": {},
   "outputs": [],
   "source": [
    "def user_input():\n",
    "    while True:\n",
    "        try:\n",
    "            c = int(input(\"Type 1, 2, 3, or 4 to choose where to group your card: \"))\n",
    "            if c in [1, 2, 3, 4]:\n",
    "                return c\n",
    "            else:\n",
    "                print(\"Please enter a valid choice (1, 2, 3, or 4).\")\n",
    "        except ValueError:\n",
    "            print(\"Please enter a valid choice (1, 2, 3, or 4).\")"
   ]
  },
  {
   "cell_type": "markdown",
   "id": "bbcfcfeb",
   "metadata": {},
   "source": [
    "This function is simple. It asks the player to group the active card with one of the stimulus cards.\n",
    "The choice is registered by typing in 1,2,3 or 4. Only theese answers will alow the loop to end."
   ]
  },
  {
   "cell_type": "markdown",
   "id": "eb963d67",
   "metadata": {},
   "source": [
    "## matched_category"
   ]
  },
  {
   "cell_type": "code",
   "execution_count": 14,
   "id": "10c46e98",
   "metadata": {},
   "outputs": [],
   "source": [
    "def matched_category(rules,choice, a_card,stim_card):\n",
    "    \"\"\"\" parameters: \n",
    "        a function that takes in, a list of matching categories 'aka' rules, and two card objects\n",
    "        returns: a list of strings that contain the categories on which the cards are matched \"\"\"\n",
    "    matched = []\n",
    "    for rule in rules:\n",
    "        if a_card.get_card_property(rule) == stim_card.get_card_property(rule):\n",
    "            matched.append(rule)\n",
    "    return matched"
   ]
  },
  {
   "cell_type": "markdown",
   "id": "a69d660d",
   "metadata": {},
   "source": [
    "This is a function that checks on what properties the cards were matched on.\n",
    "\n",
    "It takes in a list of rules, a choice, and two card objects. The stim_card represents the chosen card and a_card represents card from hand. \n",
    "\n",
    "Then it uses the get_card_property() method in a loop. Checking for all possible properties, for both cards and if there is a match it will store this in a list.\n",
    "\n",
    "In essence this will store all the attributes that the cards were matched on in a single round or trial of the game.\n",
    "\n",
    "This is being used later in the script for saving the results."
   ]
  },
  {
   "cell_type": "markdown",
   "id": "a72857d0",
   "metadata": {},
   "source": [
    "## Save_results"
   ]
  },
  {
   "cell_type": "code",
   "execution_count": 15,
   "id": "64bf1b82",
   "metadata": {},
   "outputs": [],
   "source": [
    "def save_results(data, filename):\n",
    "    with open(filename, 'w', newline='') as csvfile:\n",
    "        writer = csv.writer(csvfile)\n",
    "        for row in data:\n",
    "            writer.writerow(row)"
   ]
  },
  {
   "cell_type": "markdown",
   "id": "2431d36d",
   "metadata": {},
   "source": [
    "This is a besic save function. It takes in a datafile (list) and a filename (string).\n",
    "\n",
    "Then it saves it as comma-separetad-values(csv) file."
   ]
  },
  {
   "cell_type": "markdown",
   "id": "2e53aaf3",
   "metadata": {},
   "source": [
    "# Game\n",
    "\n",
    "## Imports"
   ]
  },
  {
   "cell_type": "code",
   "execution_count": 16,
   "id": "6b3b8973",
   "metadata": {},
   "outputs": [],
   "source": [
    "import random\n",
    "import csv\n",
    "import os"
   ]
  },
  {
   "cell_type": "markdown",
   "id": "b1dc3b24",
   "metadata": {},
   "source": [
    "Here are some basic libraries that are used in the code."
   ]
  },
  {
   "cell_type": "markdown",
   "id": "401a60f0",
   "metadata": {},
   "source": [
    "## Create decks"
   ]
  },
  {
   "cell_type": "markdown",
   "id": "e8ce08c7",
   "metadata": {},
   "source": [
    "To begin we first make use of the classes and create 5 decks of cards. (mainstack and dstacks 1 - 4)"
   ]
  },
  {
   "cell_type": "code",
   "execution_count": 17,
   "id": "ad45eb13",
   "metadata": {},
   "outputs": [],
   "source": [
    "mainstack = MainStack()\n",
    "dstacks = {i:DiscardStack(i) for i in range(1,5)}"
   ]
  },
  {
   "cell_type": "markdown",
   "id": "8c263819",
   "metadata": {},
   "source": [
    "This is all we need to type in the code to achieve this.\n",
    "\n",
    "Because the work is done inside the classes. For example:\n",
    "\n",
    "The code below is located inside the mainstack class.  It will create a stack of 64 cards, containing all posible combinations of the 3 atributes that contain 4 possible values each. 4 x 4 x 4 = 64."
   ]
  },
  {
   "cell_type": "code",
   "execution_count": 18,
   "id": "e16ca3ad",
   "metadata": {},
   "outputs": [],
   "source": [
    "    ### CODE INSIDE MAINSTACK CLASS ##############\n",
    "    numbers = [1,2,3,4]\n",
    "    shapes = [\"circle\",\"square\",\"triangle\",\"star\"]\n",
    "    colors = [\"blue\",\"green\",\"red\",\"yellow\"]\n",
    "    \n",
    "    def __init__(self):\n",
    "        self.list_of_cards = []\n",
    "        for i in self.numbers:\n",
    "            for y in self.shapes:\n",
    "                for x in self.colors:\n",
    "                    card = Card(i,y,x)\n",
    "                    self.list_of_cards.append(card)\n",
    "        random.shuffle(self.list_of_cards)\n",
    "    ###############################################"
   ]
  },
  {
   "cell_type": "markdown",
   "id": "7ffbc54d",
   "metadata": {},
   "source": [
    "So when we call: \n",
    "    mainstack = MainStack()\n",
    "    \n",
    "It will create the main deck.\n",
    "\n",
    "The dstacks are created in a similar way. But each stack is stored in a dictionary with a specific key. Additionally, they need to take in a number from 1 - 4 specifying the stimulus card.\n",
    "\n",
    "\n",
    "Now when the decks are created, we will initilize some global variables."
   ]
  },
  {
   "cell_type": "markdown",
   "id": "a4dc291d",
   "metadata": {},
   "source": [
    "## Initialization"
   ]
  },
  {
   "cell_type": "code",
   "execution_count": 19,
   "id": "81f19d67",
   "metadata": {},
   "outputs": [],
   "source": [
    "# initialize\n",
    "rules = [\"shape\", \"color\", \"number\"]\n",
    "active_rule = random.choice(rules)\n",
    "\n",
    "win_streak=0\n",
    "filename = \"../results/data.csv\"\n",
    "logger = []"
   ]
  },
  {
   "cell_type": "markdown",
   "id": "c90fd893",
   "metadata": {},
   "source": [
    "To run the game loop we need some global values.\n",
    "\n",
    "We create a list of rules. These include all the possible attributes that the cards can be sorted by.\n",
    "Then we randomly choosen and active rule.\n",
    "\n",
    "We initilize the win_streak as 0.\n",
    "We specify the filename and path where we want the game data to be stored.\n",
    "\n",
    "We create an empty list that will be filled with the game data."
   ]
  },
  {
   "cell_type": "markdown",
   "id": "aa9f1d6f",
   "metadata": {},
   "source": [
    "## Game loop"
   ]
  },
  {
   "cell_type": "markdown",
   "id": "efafe7cb",
   "metadata": {},
   "source": [
    "Below is the core game loop. The explanation is done in the code."
   ]
  },
  {
   "cell_type": "code",
   "execution_count": 20,
   "id": "29b07cf7",
   "metadata": {},
   "outputs": [
    {
     "name": "stdout",
     "output_type": "stream",
     "text": [
      "Main Stack: Card(2,circle,green)\n",
      "Stimulus: Card(1,triangle,red), Last card: <empty>\n",
      "Stimulus: Card(2,star,green), Last card: <empty>\n",
      "Stimulus: Card(3,square,yellow), Last card: <empty>\n",
      "Stimulus: Card(4,circle,blue), Last card: <empty>\n",
      "Type 1, 2, 3, or 4 to choose where to group your card: 1\n",
      "False\n",
      "Main Stack: Card(3,triangle,yellow)\n",
      "Stimulus: Card(1,triangle,red), Last card: Card(2,circle,green)\n",
      "Stimulus: Card(2,star,green), Last card: <empty>\n",
      "Stimulus: Card(3,square,yellow), Last card: <empty>\n",
      "Stimulus: Card(4,circle,blue), Last card: <empty>\n",
      "Type 1, 2, 3, or 4 to choose where to group your card: 2\n",
      "False\n",
      "Main Stack: Card(1,square,yellow)\n",
      "Stimulus: Card(1,triangle,red), Last card: Card(2,circle,green)\n",
      "Stimulus: Card(2,star,green), Last card: Card(3,triangle,yellow)\n",
      "Stimulus: Card(3,square,yellow), Last card: <empty>\n",
      "Stimulus: Card(4,circle,blue), Last card: <empty>\n",
      "Type 1, 2, 3, or 4 to choose where to group your card: 3\n",
      "False\n",
      "Main Stack: Card(3,square,blue)\n",
      "Stimulus: Card(1,triangle,red), Last card: Card(2,circle,green)\n",
      "Stimulus: Card(2,star,green), Last card: Card(3,triangle,yellow)\n",
      "Stimulus: Card(3,square,yellow), Last card: Card(1,square,yellow)\n",
      "Stimulus: Card(4,circle,blue), Last card: <empty>\n",
      "Type 1, 2, 3, or 4 to choose where to group your card: 1\n",
      "False\n",
      "Main Stack: Card(1,star,red)\n",
      "Stimulus: Card(1,triangle,red), Last card: Card(3,square,blue)\n",
      "Stimulus: Card(2,star,green), Last card: Card(3,triangle,yellow)\n",
      "Stimulus: Card(3,square,yellow), Last card: Card(1,square,yellow)\n",
      "Stimulus: Card(4,circle,blue), Last card: <empty>\n",
      "Type 1, 2, 3, or 4 to choose where to group your card: 2\n",
      "False\n",
      "Main Stack: Card(4,circle,yellow)\n",
      "Stimulus: Card(1,triangle,red), Last card: Card(3,square,blue)\n",
      "Stimulus: Card(2,star,green), Last card: Card(1,star,red)\n",
      "Stimulus: Card(3,square,yellow), Last card: Card(1,square,yellow)\n",
      "Stimulus: Card(4,circle,blue), Last card: <empty>\n",
      "Type 1, 2, 3, or 4 to choose where to group your card: 3\n",
      "False\n",
      "Main Stack: Card(3,triangle,red)\n",
      "Stimulus: Card(1,triangle,red), Last card: Card(3,square,blue)\n",
      "Stimulus: Card(2,star,green), Last card: Card(1,star,red)\n",
      "Stimulus: Card(3,square,yellow), Last card: Card(4,circle,yellow)\n",
      "Stimulus: Card(4,circle,blue), Last card: <empty>\n",
      "Type 1, 2, 3, or 4 to choose where to group your card: 4\n",
      "False\n",
      "Main Stack: Card(4,square,blue)\n",
      "Stimulus: Card(1,triangle,red), Last card: Card(3,square,blue)\n",
      "Stimulus: Card(2,star,green), Last card: Card(1,star,red)\n",
      "Stimulus: Card(3,square,yellow), Last card: Card(4,circle,yellow)\n",
      "Stimulus: Card(4,circle,blue), Last card: Card(3,triangle,red)\n",
      "Type 1, 2, 3, or 4 to choose where to group your card: 1\n",
      "False\n",
      "Main Stack: Card(4,square,green)\n",
      "Stimulus: Card(1,triangle,red), Last card: Card(4,square,blue)\n",
      "Stimulus: Card(2,star,green), Last card: Card(1,star,red)\n",
      "Stimulus: Card(3,square,yellow), Last card: Card(4,circle,yellow)\n",
      "Stimulus: Card(4,circle,blue), Last card: Card(3,triangle,red)\n",
      "Type 1, 2, 3, or 4 to choose where to group your card: 2\n",
      "False\n",
      "Main Stack: Card(3,circle,red)\n",
      "Stimulus: Card(1,triangle,red), Last card: Card(4,square,blue)\n",
      "Stimulus: Card(2,star,green), Last card: Card(4,square,green)\n",
      "Stimulus: Card(3,square,yellow), Last card: Card(4,circle,yellow)\n",
      "Stimulus: Card(4,circle,blue), Last card: Card(3,triangle,red)\n",
      "Type 1, 2, 3, or 4 to choose where to group your card: 3\n",
      "True\n",
      "Main Stack: Card(4,circle,blue)\n",
      "Stimulus: Card(1,triangle,red), Last card: Card(4,square,blue)\n",
      "Stimulus: Card(2,star,green), Last card: Card(4,square,green)\n",
      "Stimulus: Card(3,square,yellow), Last card: Card(3,circle,red)\n",
      "Stimulus: Card(4,circle,blue), Last card: Card(3,triangle,red)\n",
      "Type 1, 2, 3, or 4 to choose where to group your card: 3\n",
      "False\n",
      "Main Stack: Card(3,triangle,green)\n",
      "Stimulus: Card(1,triangle,red), Last card: Card(4,square,blue)\n",
      "Stimulus: Card(2,star,green), Last card: Card(4,square,green)\n",
      "Stimulus: Card(3,square,yellow), Last card: Card(4,circle,blue)\n",
      "Stimulus: Card(4,circle,blue), Last card: Card(3,triangle,red)\n",
      "Type 1, 2, 3, or 4 to choose where to group your card: 3\n",
      "True\n",
      "Main Stack: Card(1,triangle,yellow)\n",
      "Stimulus: Card(1,triangle,red), Last card: Card(4,square,blue)\n",
      "Stimulus: Card(2,star,green), Last card: Card(4,square,green)\n",
      "Stimulus: Card(3,square,yellow), Last card: Card(3,triangle,green)\n",
      "Stimulus: Card(4,circle,blue), Last card: Card(3,triangle,red)\n",
      "Type 1, 2, 3, or 4 to choose where to group your card: 2\n",
      "False\n",
      "Main Stack: Card(4,triangle,yellow)\n",
      "Stimulus: Card(1,triangle,red), Last card: Card(4,square,blue)\n",
      "Stimulus: Card(2,star,green), Last card: Card(1,triangle,yellow)\n",
      "Stimulus: Card(3,square,yellow), Last card: Card(3,triangle,green)\n",
      "Stimulus: Card(4,circle,blue), Last card: Card(3,triangle,red)\n",
      "Type 1, 2, 3, or 4 to choose where to group your card: 1\n",
      "False\n",
      "Main Stack: Card(4,star,green)\n",
      "Stimulus: Card(1,triangle,red), Last card: Card(4,triangle,yellow)\n",
      "Stimulus: Card(2,star,green), Last card: Card(1,triangle,yellow)\n",
      "Stimulus: Card(3,square,yellow), Last card: Card(3,triangle,green)\n",
      "Stimulus: Card(4,circle,blue), Last card: Card(3,triangle,red)\n",
      "Type 1, 2, 3, or 4 to choose where to group your card: 2\n",
      "False\n",
      "Main Stack: Card(1,circle,yellow)\n",
      "Stimulus: Card(1,triangle,red), Last card: Card(4,triangle,yellow)\n",
      "Stimulus: Card(2,star,green), Last card: Card(4,star,green)\n",
      "Stimulus: Card(3,square,yellow), Last card: Card(3,triangle,green)\n",
      "Stimulus: Card(4,circle,blue), Last card: Card(3,triangle,red)\n"
     ]
    },
    {
     "ename": "KeyboardInterrupt",
     "evalue": "Interrupted by user",
     "output_type": "error",
     "traceback": [
      "\u001b[1;31m---------------------------------------------------------------------------\u001b[0m",
      "\u001b[1;31mKeyboardInterrupt\u001b[0m                         Traceback (most recent call last)",
      "Cell \u001b[1;32mIn[20], line 9\u001b[0m\n\u001b[0;32m      5\u001b[0m     stack\u001b[38;5;241m.\u001b[39mrender()             \u001b[38;5;66;03m# and uses the custom reder function of the stack.Thereby displaying the stimcard, discard pile.\u001b[39;00m\n\u001b[0;32m      8\u001b[0m card \u001b[38;5;241m=\u001b[39m mainstack\u001b[38;5;241m.\u001b[39mpop() \u001b[38;5;66;03m# The top card is removed from the mainstack\u001b[39;00m\n\u001b[1;32m----> 9\u001b[0m choice \u001b[38;5;241m=\u001b[39m user_input()  \u001b[38;5;66;03m# The user input function is called and the choice is stored\u001b[39;00m\n\u001b[0;32m     11\u001b[0m chosen_card\u001b[38;5;241m=\u001b[39mdstacks[choice]\u001b[38;5;241m.\u001b[39mstimulus_card \u001b[38;5;66;03m# The chosen stimulus card is navigated to and stored\u001b[39;00m\n\u001b[0;32m     12\u001b[0m dstacks[choice]\u001b[38;5;241m.\u001b[39madd(card)                 \u001b[38;5;66;03m# The hand card is placed in the chosen discard pile\u001b[39;00m\n",
      "Cell \u001b[1;32mIn[13], line 4\u001b[0m, in \u001b[0;36muser_input\u001b[1;34m()\u001b[0m\n\u001b[0;32m      2\u001b[0m \u001b[38;5;28;01mwhile\u001b[39;00m \u001b[38;5;28;01mTrue\u001b[39;00m:\n\u001b[0;32m      3\u001b[0m     \u001b[38;5;28;01mtry\u001b[39;00m:\n\u001b[1;32m----> 4\u001b[0m         c \u001b[38;5;241m=\u001b[39m \u001b[38;5;28mint\u001b[39m(\u001b[38;5;28minput\u001b[39m(\u001b[38;5;124m\"\u001b[39m\u001b[38;5;124mType 1, 2, 3, or 4 to choose where to group your card: \u001b[39m\u001b[38;5;124m\"\u001b[39m))\n\u001b[0;32m      5\u001b[0m         \u001b[38;5;28;01mif\u001b[39;00m c \u001b[38;5;129;01min\u001b[39;00m [\u001b[38;5;241m1\u001b[39m, \u001b[38;5;241m2\u001b[39m, \u001b[38;5;241m3\u001b[39m, \u001b[38;5;241m4\u001b[39m]:\n\u001b[0;32m      6\u001b[0m             \u001b[38;5;28;01mreturn\u001b[39;00m c\n",
      "File \u001b[1;32m~\\anaconda3\\Lib\\site-packages\\ipykernel\\kernelbase.py:1175\u001b[0m, in \u001b[0;36mKernel.raw_input\u001b[1;34m(self, prompt)\u001b[0m\n\u001b[0;32m   1171\u001b[0m \u001b[38;5;28;01mif\u001b[39;00m \u001b[38;5;129;01mnot\u001b[39;00m \u001b[38;5;28mself\u001b[39m\u001b[38;5;241m.\u001b[39m_allow_stdin:\n\u001b[0;32m   1172\u001b[0m     \u001b[38;5;28;01mraise\u001b[39;00m StdinNotImplementedError(\n\u001b[0;32m   1173\u001b[0m         \u001b[38;5;124m\"\u001b[39m\u001b[38;5;124mraw_input was called, but this frontend does not support input requests.\u001b[39m\u001b[38;5;124m\"\u001b[39m\n\u001b[0;32m   1174\u001b[0m     )\n\u001b[1;32m-> 1175\u001b[0m \u001b[38;5;28;01mreturn\u001b[39;00m \u001b[38;5;28mself\u001b[39m\u001b[38;5;241m.\u001b[39m_input_request(\n\u001b[0;32m   1176\u001b[0m     \u001b[38;5;28mstr\u001b[39m(prompt),\n\u001b[0;32m   1177\u001b[0m     \u001b[38;5;28mself\u001b[39m\u001b[38;5;241m.\u001b[39m_parent_ident[\u001b[38;5;124m\"\u001b[39m\u001b[38;5;124mshell\u001b[39m\u001b[38;5;124m\"\u001b[39m],\n\u001b[0;32m   1178\u001b[0m     \u001b[38;5;28mself\u001b[39m\u001b[38;5;241m.\u001b[39mget_parent(\u001b[38;5;124m\"\u001b[39m\u001b[38;5;124mshell\u001b[39m\u001b[38;5;124m\"\u001b[39m),\n\u001b[0;32m   1179\u001b[0m     password\u001b[38;5;241m=\u001b[39m\u001b[38;5;28;01mFalse\u001b[39;00m,\n\u001b[0;32m   1180\u001b[0m )\n",
      "File \u001b[1;32m~\\anaconda3\\Lib\\site-packages\\ipykernel\\kernelbase.py:1217\u001b[0m, in \u001b[0;36mKernel._input_request\u001b[1;34m(self, prompt, ident, parent, password)\u001b[0m\n\u001b[0;32m   1214\u001b[0m             \u001b[38;5;28;01mbreak\u001b[39;00m\n\u001b[0;32m   1215\u001b[0m \u001b[38;5;28;01mexcept\u001b[39;00m \u001b[38;5;167;01mKeyboardInterrupt\u001b[39;00m:\n\u001b[0;32m   1216\u001b[0m     \u001b[38;5;66;03m# re-raise KeyboardInterrupt, to truncate traceback\u001b[39;00m\n\u001b[1;32m-> 1217\u001b[0m     \u001b[38;5;28;01mraise\u001b[39;00m \u001b[38;5;167;01mKeyboardInterrupt\u001b[39;00m(\u001b[38;5;124m\"\u001b[39m\u001b[38;5;124mInterrupted by user\u001b[39m\u001b[38;5;124m\"\u001b[39m) \u001b[38;5;28;01mfrom\u001b[39;00m \u001b[38;5;28;01mNone\u001b[39;00m\n\u001b[0;32m   1218\u001b[0m \u001b[38;5;28;01mexcept\u001b[39;00m \u001b[38;5;167;01mException\u001b[39;00m:\n\u001b[0;32m   1219\u001b[0m     \u001b[38;5;28mself\u001b[39m\u001b[38;5;241m.\u001b[39mlog\u001b[38;5;241m.\u001b[39mwarning(\u001b[38;5;124m\"\u001b[39m\u001b[38;5;124mInvalid Message:\u001b[39m\u001b[38;5;124m\"\u001b[39m, exc_info\u001b[38;5;241m=\u001b[39m\u001b[38;5;28;01mTrue\u001b[39;00m)\n",
      "\u001b[1;31mKeyboardInterrupt\u001b[0m: Interrupted by user"
     ]
    }
   ],
   "source": [
    "while len(mainstack)>0: # This will make the loop repeat itself as long as there are cards in the mainstack, so 64 times.\n",
    "    \n",
    "    mainstack.render()  # Here the code uses the mainstacks render method. Thereby displaying the top card.\n",
    "    for stack in dstacks.values(): # A loop that iterates over all the discardstacks\n",
    "        stack.render()             # and uses the custom reder function of the stack.Thereby displaying the stimcard, discard pile.\n",
    "        \n",
    "\n",
    "    card = mainstack.pop() # The top card is removed from the mainstack\n",
    "    choice = user_input()  # The user input function is called and the choice is stored\n",
    "    \n",
    "    chosen_card=dstacks[choice].stimulus_card # The chosen stimulus card is navigated to and stored\n",
    "    dstacks[choice].add(card)                 # The hand card is placed in the chosen discard pile\n",
    "    \n",
    "    # Correctness of the choice is assessed\n",
    "    correct = card.get_card_property(active_rule)==chosen_card.get_card_property(active_rule)\n",
    "    print(correct)  "
   ]
  },
  {
   "cell_type": "markdown",
   "id": "fedb78a3",
   "metadata": {},
   "source": [
    "Here is the continuation of the game loop\n",
    "\n",
    "It does 3 simple things after the core of the loop has been passed.\n",
    "\n",
    "1. The game will update the global winstreak variable.\n",
    "2. The results of the trial are passed into the logg variable\n",
    "3. The active rule is changed if the win streak is over 5.\n"
   ]
  },
  {
   "cell_type": "code",
   "execution_count": null,
   "id": "ac3b066d",
   "metadata": {},
   "outputs": [],
   "source": [
    "    \n",
    "    # Update winstreak\n",
    "    if correct:\n",
    "        win_streak += 1    \n",
    "    else:\n",
    "        win_streak = 0\n",
    "        \n",
    "    # Logg results\n",
    "    match = matched_category(rules, choice, card)\n",
    "    trial = [active_rule, match]\n",
    "    logger.append(trial)    \n",
    "    \n",
    "    # Change rule if streak is more than 5   \n",
    "    if win_streak >= 5:\n",
    "        active_rule=random.choice(list(set(rules).difference([active_rule])))\n",
    "        win_streak = 0     "
   ]
  },
  {
   "cell_type": "markdown",
   "id": "49a607bf",
   "metadata": {},
   "source": [
    "In the end this is how the complete loop looks like."
   ]
  },
  {
   "cell_type": "code",
   "execution_count": null,
   "id": "d2d857ab",
   "metadata": {},
   "outputs": [],
   "source": [
    "# Game Loop\n",
    "while len(mainstack)>0:\n",
    "    # render current stacks\n",
    "    mainstack.render()\n",
    "    for stack in dstacks.values():\n",
    "        stack.render()\n",
    "        \n",
    "    # take card from main stack\n",
    "    card = mainstack.pop()\n",
    "    # let user choose one of the cards\n",
    "    choice = user_input()\n",
    "    chosen_card=dstacks[choice].stimulus_card\n",
    "    dstacks[choice].add(card)\n",
    "    \n",
    "    # assess correctness\n",
    "    correct = card.get_card_property(active_rule)==chosen_card.get_card_property(active_rule)\n",
    "    \n",
    "    print(correct)\n",
    "    \n",
    "    # Update winstreak\n",
    "    if correct:\n",
    "        win_streak += 1    \n",
    "    else:\n",
    "        win_streak = 0\n",
    "        \n",
    "    # Logg results\n",
    "    match = matched_category(rules, choice, card)\n",
    "    trial = [active_rule, match]\n",
    "    logger.append(trial)    \n",
    "    \n",
    "    # Change rule if streak is more than 5   \n",
    "    if win_streak >= 5:\n",
    "        active_rule=random.choice(list(set(rules).difference([active_rule])))\n",
    "        win_streak = 0\n",
    "        \n",
    "#save_results(logger,filename)"
   ]
  },
  {
   "cell_type": "markdown",
   "id": "3fc508d3",
   "metadata": {},
   "source": [
    "This is all there is to it, in this basic version of the game.\n",
    "\n",
    "One thing to note is that when the loop is finished. The results are saved in the predefined folder. Its commented out now so that testing wont create any new files on your computer."
   ]
  },
  {
   "cell_type": "code",
   "execution_count": null,
   "id": "85f5fac3",
   "metadata": {},
   "outputs": [],
   "source": []
  }
 ],
 "metadata": {
  "kernelspec": {
   "display_name": "Python 3 (ipykernel)",
   "language": "python",
   "name": "python3"
  },
  "language_info": {
   "codemirror_mode": {
    "name": "ipython",
    "version": 3
   },
   "file_extension": ".py",
   "mimetype": "text/x-python",
   "name": "python",
   "nbconvert_exporter": "python",
   "pygments_lexer": "ipython3",
   "version": "3.11.4"
  }
 },
 "nbformat": 4,
 "nbformat_minor": 5
}
